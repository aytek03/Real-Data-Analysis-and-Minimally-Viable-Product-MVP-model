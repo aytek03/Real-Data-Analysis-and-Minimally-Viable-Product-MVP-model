{
 "cells": [
  {
   "cell_type": "markdown",
   "metadata": {},
   "source": [
    "___\n",
    "\n",
    "\n",
    "___\n",
    "# Nationwide Insurance – Technical Assessment\n",
    "\n",
    "Aytekin YILDIZHAN\n",
    "\n",
    "## Import Libraries"
   ]
  },
  {
   "cell_type": "code",
   "execution_count": 30,
   "metadata": {},
   "outputs": [],
   "source": [
    "import pandas as pd\n",
    "import numpy as np\n",
    "import matplotlib.pyplot as plt\n",
    "import seaborn as sns\n",
    "%matplotlib inline"
   ]
  },
  {
   "cell_type": "markdown",
   "metadata": {},
   "source": [
    "## The Data\n",
    "\n",
    "Let's start by reading in the TRAIN_SET_2021.csv file into a pandas dataframe."
   ]
  },
  {
   "cell_type": "markdown",
   "metadata": {},
   "source": [
    "# 1) Conduct exploratory data analysis of train set."
   ]
  },
  {
   "cell_type": "code",
   "execution_count": 31,
   "metadata": {},
   "outputs": [],
   "source": [
    "train = pd.read_csv('TRAIN_SET_2021.csv')\n",
    "test = pd.read_csv('TEST_SET_2021.csv')"
   ]
  },
  {
   "cell_type": "code",
   "execution_count": 32,
   "metadata": {},
   "outputs": [
    {
     "name": "stdout",
     "output_type": "stream",
     "text": [
      "15673\n",
      "15673\n",
      "7505\n"
     ]
    },
    {
     "data": {
      "text/plain": [
       "Index(['RESTAURANT_SERIAL_NUMBER', 'RESTAURANT_PERMIT_NUMBER',\n",
       "       'RESTAURANT_NAME', 'RESTAURANT_LOCATION', 'RESTAURANT_CATEGORY',\n",
       "       'ADDRESS', 'CITY', 'STATE', 'ZIP', 'CURRENT_DEMERITS', 'CURRENT_GRADE',\n",
       "       'EMPLOYEE_COUNT', 'MEDIAN_EMPLOYEE_AGE', 'MEDIAN_EMPLOYEE_TENURE',\n",
       "       'INSPECTION_TIME', 'INSPECTION_TYPE', 'INSPECTION_DEMERITS',\n",
       "       'VIOLATIONS_RAW', 'RECORD_UPDATED', 'LAT_LONG_RAW', 'FIRST_VIOLATION',\n",
       "       'SECOND_VIOLATION', 'THIRD_VIOLATION', 'FIRST_VIOLATION_TYPE',\n",
       "       'SECOND_VIOLATION_TYPE', 'THIRD_VIOLATION_TYPE', 'NUMBER_OF_VIOLATIONS',\n",
       "       'NEXT_INSPECTION_GRADE_C_OR_BELOW'],\n",
       "      dtype='object')"
      ]
     },
     "execution_count": 32,
     "metadata": {},
     "output_type": "execute_result"
    }
   ],
   "source": [
    "print(len(train))\n",
    "\n",
    "print(len(train.RESTAURANT_SERIAL_NUMBER.unique()))\n",
    "\n",
    "\n",
    "print(len(test))\n",
    "\n",
    "train.columns\n",
    "# Therefore RESTAURANT_SERIAL_NUMBER column is unique"
   ]
  },
  {
   "cell_type": "code",
   "execution_count": 33,
   "metadata": {},
   "outputs": [
    {
     "name": "stdout",
     "output_type": "stream",
     "text": [
      "<class 'pandas.core.frame.DataFrame'>\n",
      "RangeIndex: 15673 entries, 0 to 15672\n",
      "Data columns (total 28 columns):\n",
      " #   Column                            Non-Null Count  Dtype  \n",
      "---  ------                            --------------  -----  \n",
      " 0   RESTAURANT_SERIAL_NUMBER          15673 non-null  object \n",
      " 1   RESTAURANT_PERMIT_NUMBER          15673 non-null  object \n",
      " 2   RESTAURANT_NAME                   15608 non-null  object \n",
      " 3   RESTAURANT_LOCATION               15473 non-null  object \n",
      " 4   RESTAURANT_CATEGORY               15543 non-null  object \n",
      " 5   ADDRESS                           15603 non-null  object \n",
      " 6   CITY                              15437 non-null  object \n",
      " 7   STATE                             15464 non-null  object \n",
      " 8   ZIP                               15614 non-null  object \n",
      " 9   CURRENT_DEMERITS                  15457 non-null  float64\n",
      " 10  CURRENT_GRADE                     15365 non-null  object \n",
      " 11  EMPLOYEE_COUNT                    15580 non-null  float64\n",
      " 12  MEDIAN_EMPLOYEE_AGE               15639 non-null  float64\n",
      " 13  MEDIAN_EMPLOYEE_TENURE            15376 non-null  float64\n",
      " 14  INSPECTION_TIME                   15490 non-null  object \n",
      " 15  INSPECTION_TYPE                   15452 non-null  object \n",
      " 16  INSPECTION_DEMERITS               15419 non-null  object \n",
      " 17  VIOLATIONS_RAW                    15508 non-null  object \n",
      " 18  RECORD_UPDATED                    15554 non-null  object \n",
      " 19  LAT_LONG_RAW                      15658 non-null  object \n",
      " 20  FIRST_VIOLATION                   15461 non-null  float64\n",
      " 21  SECOND_VIOLATION                  15588 non-null  float64\n",
      " 22  THIRD_VIOLATION                   15612 non-null  float64\n",
      " 23  FIRST_VIOLATION_TYPE              15527 non-null  object \n",
      " 24  SECOND_VIOLATION_TYPE             15406 non-null  object \n",
      " 25  THIRD_VIOLATION_TYPE              15500 non-null  object \n",
      " 26  NUMBER_OF_VIOLATIONS              15504 non-null  object \n",
      " 27  NEXT_INSPECTION_GRADE_C_OR_BELOW  15633 non-null  object \n",
      "dtypes: float64(7), object(21)\n",
      "memory usage: 3.3+ MB\n"
     ]
    }
   ],
   "source": [
    "train.info()"
   ]
  },
  {
   "cell_type": "code",
   "execution_count": 34,
   "metadata": {},
   "outputs": [
    {
     "data": {
      "text/html": [
       "<div>\n",
       "<style scoped>\n",
       "    .dataframe tbody tr th:only-of-type {\n",
       "        vertical-align: middle;\n",
       "    }\n",
       "\n",
       "    .dataframe tbody tr th {\n",
       "        vertical-align: top;\n",
       "    }\n",
       "\n",
       "    .dataframe thead th {\n",
       "        text-align: right;\n",
       "    }\n",
       "</style>\n",
       "<table border=\"1\" class=\"dataframe\">\n",
       "  <thead>\n",
       "    <tr style=\"text-align: right;\">\n",
       "      <th></th>\n",
       "      <th>CURRENT_DEMERITS</th>\n",
       "      <th>EMPLOYEE_COUNT</th>\n",
       "      <th>MEDIAN_EMPLOYEE_AGE</th>\n",
       "      <th>MEDIAN_EMPLOYEE_TENURE</th>\n",
       "      <th>FIRST_VIOLATION</th>\n",
       "      <th>SECOND_VIOLATION</th>\n",
       "      <th>THIRD_VIOLATION</th>\n",
       "    </tr>\n",
       "  </thead>\n",
       "  <tbody>\n",
       "    <tr>\n",
       "      <th>count</th>\n",
       "      <td>15457.000000</td>\n",
       "      <td>15580.000000</td>\n",
       "      <td>15639.000000</td>\n",
       "      <td>15376.000000</td>\n",
       "      <td>1.546100e+04</td>\n",
       "      <td>15588.000000</td>\n",
       "      <td>15612.000000</td>\n",
       "    </tr>\n",
       "    <tr>\n",
       "      <th>mean</th>\n",
       "      <td>5.239552</td>\n",
       "      <td>22.289345</td>\n",
       "      <td>28.015118</td>\n",
       "      <td>4.030491</td>\n",
       "      <td>7.263423e+02</td>\n",
       "      <td>171.871953</td>\n",
       "      <td>179.269088</td>\n",
       "    </tr>\n",
       "    <tr>\n",
       "      <th>std</th>\n",
       "      <td>13.895923</td>\n",
       "      <td>892.830909</td>\n",
       "      <td>4.901565</td>\n",
       "      <td>2.022737</td>\n",
       "      <td>6.976831e+04</td>\n",
       "      <td>80.079188</td>\n",
       "      <td>77.347049</td>\n",
       "    </tr>\n",
       "    <tr>\n",
       "      <th>min</th>\n",
       "      <td>-8.000000</td>\n",
       "      <td>-7.000000</td>\n",
       "      <td>14.000000</td>\n",
       "      <td>0.227197</td>\n",
       "      <td>1.000000e+00</td>\n",
       "      <td>2.000000</td>\n",
       "      <td>4.000000</td>\n",
       "    </tr>\n",
       "    <tr>\n",
       "      <th>25%</th>\n",
       "      <td>0.000000</td>\n",
       "      <td>8.000000</td>\n",
       "      <td>24.601414</td>\n",
       "      <td>2.551504</td>\n",
       "      <td>2.020000e+02</td>\n",
       "      <td>204.000000</td>\n",
       "      <td>209.000000</td>\n",
       "    </tr>\n",
       "    <tr>\n",
       "      <th>50%</th>\n",
       "      <td>5.000000</td>\n",
       "      <td>14.000000</td>\n",
       "      <td>27.968247</td>\n",
       "      <td>3.693207</td>\n",
       "      <td>2.060000e+02</td>\n",
       "      <td>211.000000</td>\n",
       "      <td>215.000000</td>\n",
       "    </tr>\n",
       "    <tr>\n",
       "      <th>75%</th>\n",
       "      <td>8.000000</td>\n",
       "      <td>21.000000</td>\n",
       "      <td>31.409235</td>\n",
       "      <td>5.138718</td>\n",
       "      <td>2.110000e+02</td>\n",
       "      <td>215.000000</td>\n",
       "      <td>227.000000</td>\n",
       "    </tr>\n",
       "    <tr>\n",
       "      <th>max</th>\n",
       "      <td>1214.000000</td>\n",
       "      <td>111447.000000</td>\n",
       "      <td>49.614076</td>\n",
       "      <td>24.399347</td>\n",
       "      <td>8.675309e+06</td>\n",
       "      <td>302.000000</td>\n",
       "      <td>310.000000</td>\n",
       "    </tr>\n",
       "  </tbody>\n",
       "</table>\n",
       "</div>"
      ],
      "text/plain": [
       "       CURRENT_DEMERITS  EMPLOYEE_COUNT  MEDIAN_EMPLOYEE_AGE  \\\n",
       "count      15457.000000    15580.000000         15639.000000   \n",
       "mean           5.239552       22.289345            28.015118   \n",
       "std           13.895923      892.830909             4.901565   \n",
       "min           -8.000000       -7.000000            14.000000   \n",
       "25%            0.000000        8.000000            24.601414   \n",
       "50%            5.000000       14.000000            27.968247   \n",
       "75%            8.000000       21.000000            31.409235   \n",
       "max         1214.000000   111447.000000            49.614076   \n",
       "\n",
       "       MEDIAN_EMPLOYEE_TENURE  FIRST_VIOLATION  SECOND_VIOLATION  \\\n",
       "count            15376.000000     1.546100e+04      15588.000000   \n",
       "mean                 4.030491     7.263423e+02        171.871953   \n",
       "std                  2.022737     6.976831e+04         80.079188   \n",
       "min                  0.227197     1.000000e+00          2.000000   \n",
       "25%                  2.551504     2.020000e+02        204.000000   \n",
       "50%                  3.693207     2.060000e+02        211.000000   \n",
       "75%                  5.138718     2.110000e+02        215.000000   \n",
       "max                 24.399347     8.675309e+06        302.000000   \n",
       "\n",
       "       THIRD_VIOLATION  \n",
       "count     15612.000000  \n",
       "mean        179.269088  \n",
       "std          77.347049  \n",
       "min           4.000000  \n",
       "25%         209.000000  \n",
       "50%         215.000000  \n",
       "75%         227.000000  \n",
       "max         310.000000  "
      ]
     },
     "execution_count": 34,
     "metadata": {},
     "output_type": "execute_result"
    }
   ],
   "source": [
    "train.describe()"
   ]
  },
  {
   "cell_type": "code",
   "execution_count": 35,
   "metadata": {},
   "outputs": [
    {
     "data": {
      "text/plain": [
       "4027"
      ]
     },
     "execution_count": 35,
     "metadata": {},
     "output_type": "execute_result"
    }
   ],
   "source": [
    "train.isnull().sum().sum()"
   ]
  },
  {
   "cell_type": "code",
   "execution_count": 36,
   "metadata": {},
   "outputs": [
    {
     "data": {
      "text/plain": [
       "CURRENT_GRADE                       308\n",
       "MEDIAN_EMPLOYEE_TENURE              297\n",
       "SECOND_VIOLATION_TYPE               267\n",
       "INSPECTION_DEMERITS                 254\n",
       "CITY                                236\n",
       "INSPECTION_TYPE                     221\n",
       "CURRENT_DEMERITS                    216\n",
       "FIRST_VIOLATION                     212\n",
       "STATE                               209\n",
       "RESTAURANT_LOCATION                 200\n",
       "INSPECTION_TIME                     183\n",
       "THIRD_VIOLATION_TYPE                173\n",
       "NUMBER_OF_VIOLATIONS                169\n",
       "VIOLATIONS_RAW                      165\n",
       "FIRST_VIOLATION_TYPE                146\n",
       "RESTAURANT_CATEGORY                 130\n",
       "RECORD_UPDATED                      119\n",
       "EMPLOYEE_COUNT                       93\n",
       "SECOND_VIOLATION                     85\n",
       "ADDRESS                              70\n",
       "RESTAURANT_NAME                      65\n",
       "THIRD_VIOLATION                      61\n",
       "ZIP                                  59\n",
       "NEXT_INSPECTION_GRADE_C_OR_BELOW     40\n",
       "MEDIAN_EMPLOYEE_AGE                  34\n",
       "LAT_LONG_RAW                         15\n",
       "RESTAURANT_PERMIT_NUMBER              0\n",
       "RESTAURANT_SERIAL_NUMBER              0\n",
       "dtype: int64"
      ]
     },
     "execution_count": 36,
     "metadata": {},
     "output_type": "execute_result"
    }
   ],
   "source": [
    "train.isnull().sum().sort_values(ascending=False)\n",
    "# All null values."
   ]
  },
  {
   "cell_type": "code",
   "execution_count": 70,
   "metadata": {},
   "outputs": [
    {
     "data": {
      "text/plain": [
       "Text(0.5, 1.0, 'Counts of Missing Value')"
      ]
     },
     "execution_count": 70,
     "metadata": {},
     "output_type": "execute_result"
    },
    {
     "data": {
      "image/png": "[encoded data removed]",
      "text/plain": [
       "<Figure size 576x576 with 1 Axes>"
      ]
     },
     "metadata": {
      "needs_background": "light"
     },
     "output_type": "display_data"
    }
   ],
   "source": [
    "plt.figure(figsize=(8,8))\n",
    "sns.barplot(x = train.isnull().sum().sort_values(ascending=False),y = train.isnull().sum().sort_values(ascending=False).index)\n",
    "plt.title(\"Counts of Missing Value\",size=20)"
   ]
  },
  {
   "cell_type": "code",
   "execution_count": 71,
   "metadata": {},
   "outputs": [
    {
     "data": {
      "text/plain": [
       "0       13143\n",
       "1        2484\n",
       "-3          1\n",
       "Goat        1\n",
       "7           1\n",
       "9           1\n",
       "4           1\n",
       "3           1\n",
       "Name: NEXT_INSPECTION_GRADE_C_OR_BELOW, dtype: int64"
      ]
     },
     "execution_count": 71,
     "metadata": {},
     "output_type": "execute_result"
    }
   ],
   "source": [
    "train.NEXT_INSPECTION_GRADE_C_OR_BELOW.value_counts()\n",
    "# -3, Goat, 7, 9, 4 and 3 are outliers"
   ]
  },
  {
   "cell_type": "code",
   "execution_count": 40,
   "metadata": {},
   "outputs": [
    {
     "data": {
      "text/plain": [
       "A             14915\n",
       "B               215\n",
       "C               104\n",
       "X                75\n",
       "O                32\n",
       "N                13\n",
       "7                 2\n",
       "K                 1\n",
       "A+                1\n",
       "U                 1\n",
       "I                 1\n",
       "EIEIO             1\n",
       "UPN               1\n",
       "VPN               1\n",
       "NASA              1\n",
       ".\\<><1@#&|        1\n",
       "Name: CURRENT_GRADE, dtype: int64"
      ]
     },
     "execution_count": 40,
     "metadata": {},
     "output_type": "execute_result"
    }
   ],
   "source": [
    "train.CURRENT_GRADE.value_counts()\n",
    "# After N value, there are outliers."
   ]
  },
  {
   "cell_type": "code",
   "execution_count": 41,
   "metadata": {},
   "outputs": [
    {
     "data": {
      "text/plain": [
       "Critical                  7194\n",
       "Major                     6735\n",
       "Non-Major                 1588\n",
       "Imminent Health Hazard       3\n",
       "Extra Crispy                 1\n",
       "Major-ish                    1\n",
       "To Infinity and Beyond       1\n",
       "Not Sure                     1\n",
       "Radical                      1\n",
       "Excellent                    1\n",
       "Bullwinkle                   1\n",
       "Name: FIRST_VIOLATION_TYPE, dtype: int64"
      ]
     },
     "execution_count": 41,
     "metadata": {},
     "output_type": "execute_result"
    }
   ],
   "source": [
    "train.FIRST_VIOLATION_TYPE.value_counts()\n",
    "# According to inspection report, we just consider critical, major, non major and Imminent Health Hazard"
   ]
  },
  {
   "cell_type": "code",
   "execution_count": 42,
   "metadata": {},
   "outputs": [
    {
     "data": {
      "text/plain": [
       "Major                     7908\n",
       "Non-Major                 4507\n",
       "Critical                  2984\n",
       "Imminent Health Hazard       5\n",
       "Supercritical                1\n",
       "Kitchen Nightmares           1\n",
       "Name: SECOND_VIOLATION_TYPE, dtype: int64"
      ]
     },
     "execution_count": 42,
     "metadata": {},
     "output_type": "execute_result"
    }
   ],
   "source": [
    "train.SECOND_VIOLATION_TYPE.value_counts()\n",
    "# According to inspection report, we just consider critical, major, non major and Imminent Health Hazard"
   ]
  },
  {
   "cell_type": "code",
   "execution_count": 43,
   "metadata": {},
   "outputs": [
    {
     "data": {
      "text/plain": [
       "Major                     7310\n",
       "Non-Major                 7286\n",
       "Critical                   867\n",
       "Imminent Health Hazard      37\n",
       "Name: THIRD_VIOLATION_TYPE, dtype: int64"
      ]
     },
     "execution_count": 43,
     "metadata": {},
     "output_type": "execute_result"
    }
   ],
   "source": [
    "train.THIRD_VIOLATION_TYPE.value_counts()\n",
    "# According to inspection report, we just consider critical, major, non major and Imminent Health Hazard"
   ]
  },
  {
   "cell_type": "code",
   "execution_count": 44,
   "metadata": {},
   "outputs": [
    {
     "data": {
      "text/plain": [
       "Restaurant                     9316\n",
       "Bar / Tavern                   2369\n",
       "Snack Bar                      1285\n",
       "Special Kitchen                1158\n",
       "Buffet                          228\n",
       "Portable Unit                   199\n",
       "Pantry                          165\n",
       "Meat/Poultry/Seafood            140\n",
       "Food Trucks / Mobile Vendor      99\n",
       "Caterer                          71\n",
       "Banquet Kitchen                  65\n",
       "Kitchen Bakery                   60\n",
       "Bakery Sales                     47\n",
       "Garde Manger                     47\n",
       "Vegetable Prep                   44\n",
       "Produce Market                   33\n",
       "Institutional Food Service       32\n",
       "Concessions                      29\n",
       "Confection                       26\n",
       "Elementary School Kitchen        20\n",
       "Grocery Store Sampling           19\n",
       "Banquet Support                  16\n",
       "Portable Bar                     15\n",
       "Childcare Kitchens               15\n",
       "Barbeque                         14\n",
       "Gastropub                         9\n",
       "Gas Station                       8\n",
       "Main Kitchen                      8\n",
       "Beer Bar                          3\n",
       "Farmers Market                    2\n",
       "Self-Service Food Truck           1\n",
       "Name: RESTAURANT_CATEGORY, dtype: int64"
      ]
     },
     "execution_count": 44,
     "metadata": {},
     "output_type": "execute_result"
    }
   ],
   "source": [
    "train.RESTAURANT_CATEGORY.value_counts()\n",
    "# we can use this info."
   ]
  },
  {
   "cell_type": "code",
   "execution_count": 45,
   "metadata": {},
   "outputs": [
    {
     "data": {
      "text/plain": [
       "0             2,042,153,022,955\n",
       "1           214,216,229,230,233\n",
       "2                   202,215,233\n",
       "3                   214,230,233\n",
       "4                   214,230,233\n",
       "                  ...          \n",
       "15668             2,19,31,36,37\n",
       "15669       213,225,230,231,233\n",
       "15670    20,921,321,729,092,900\n",
       "15671               214,215,226\n",
       "15672               214,227,230\n",
       "Name: VIOLATIONS_RAW, Length: 15673, dtype: object"
      ]
     },
     "execution_count": 45,
     "metadata": {},
     "output_type": "execute_result"
    }
   ],
   "source": [
    "train.VIOLATIONS_RAW\n",
    "# drop"
   ]
  },
  {
   "cell_type": "code",
   "execution_count": 46,
   "metadata": {},
   "outputs": [],
   "source": [
    "# drop some irrelevant columns"
   ]
  },
  {
   "cell_type": "code",
   "execution_count": 47,
   "metadata": {},
   "outputs": [],
   "source": [
    "train.drop('RESTAURANT_PERMIT_NUMBER',axis=1,inplace=True)\n",
    "train.drop('VIOLATIONS_RAW',axis=1,inplace=True)\n",
    "train.drop('RESTAURANT_NAME',axis=1,inplace=True)\n",
    "train.drop('RESTAURANT_LOCATION',axis=1,inplace=True)\n",
    "train.drop('ADDRESS',axis=1,inplace=True)\n",
    "#train.drop('CITY',axis=1,inplace=True)\n",
    "#train.drop('STATE',axis=1,inplace=True)\n",
    "train.drop('ZIP',axis=1,inplace=True)\n",
    "train.drop('RECORD_UPDATED',axis=1,inplace=True)\n",
    "train.drop('LAT_LONG_RAW',axis=1,inplace=True)"
   ]
  },
  {
   "cell_type": "code",
   "execution_count": 48,
   "metadata": {},
   "outputs": [
    {
     "name": "stdout",
     "output_type": "stream",
     "text": [
      "<class 'pandas.core.frame.DataFrame'>\n",
      "RangeIndex: 15673 entries, 0 to 15672\n",
      "Data columns (total 20 columns):\n",
      " #   Column                            Non-Null Count  Dtype  \n",
      "---  ------                            --------------  -----  \n",
      " 0   RESTAURANT_SERIAL_NUMBER          15673 non-null  object \n",
      " 1   RESTAURANT_CATEGORY               15543 non-null  object \n",
      " 2   CITY                              15437 non-null  object \n",
      " 3   STATE                             15464 non-null  object \n",
      " 4   CURRENT_DEMERITS                  15457 non-null  float64\n",
      " 5   CURRENT_GRADE                     15365 non-null  object \n",
      " 6   EMPLOYEE_COUNT                    15580 non-null  float64\n",
      " 7   MEDIAN_EMPLOYEE_AGE               15639 non-null  float64\n",
      " 8   MEDIAN_EMPLOYEE_TENURE            15376 non-null  float64\n",
      " 9   INSPECTION_TIME                   15490 non-null  object \n",
      " 10  INSPECTION_TYPE                   15452 non-null  object \n",
      " 11  INSPECTION_DEMERITS               15419 non-null  object \n",
      " 12  FIRST_VIOLATION                   15461 non-null  float64\n",
      " 13  SECOND_VIOLATION                  15588 non-null  float64\n",
      " 14  THIRD_VIOLATION                   15612 non-null  float64\n",
      " 15  FIRST_VIOLATION_TYPE              15527 non-null  object \n",
      " 16  SECOND_VIOLATION_TYPE             15406 non-null  object \n",
      " 17  THIRD_VIOLATION_TYPE              15500 non-null  object \n",
      " 18  NUMBER_OF_VIOLATIONS              15504 non-null  object \n",
      " 19  NEXT_INSPECTION_GRADE_C_OR_BELOW  15633 non-null  object \n",
      "dtypes: float64(7), object(13)\n",
      "memory usage: 2.4+ MB\n"
     ]
    }
   ],
   "source": [
    "train.info()"
   ]
  },
  {
   "cell_type": "code",
   "execution_count": 49,
   "metadata": {},
   "outputs": [],
   "source": [
    "# identifying the columns"
   ]
  },
  {
   "cell_type": "code",
   "execution_count": 50,
   "metadata": {},
   "outputs": [],
   "source": [
    "identifier_feature = ['RESTAURANT_SERIAL_NUMBER']\n",
    "continuous_features = ['MEDIAN_EMPLOYEE_AGE', 'MEDIAN_EMPLOYEE_TENURE']\n",
    "nominal_features = ['RESTAURANT_CATEGORY', 'CITY', 'STATE', 'CURRENT_GRADE',\n",
    "                    'INSPECTION_TYPE','FIRST_VIOLATION', 'SECOND_VIOLATION',\n",
    "                    'THIRD_VIOLATION','FIRST_VIOLATION_TYPE','SECOND_VIOLATION_TYPE','THIRD_VIOLATION_TYPE']\n",
    "numeric_feactures = ['CURRENT_DEMERITS', 'EMPLOYEE_COUNT', 'INSPECTION_DEMERITS',\n",
    "                     'NUMBER_OF_VIOLATIONS']\n",
    "target = ['NEXT_INSPECTION_GRADE_C_OR_BELOW']\n",
    "selected_features = nominal_features + numeric_feactures + continuous_features + target"
   ]
  },
  {
   "cell_type": "code",
   "execution_count": 51,
   "metadata": {},
   "outputs": [],
   "source": [
    "# Train_Set and Test_Set import, select desired features, and preprocessing\n",
    "# Train_Set import\n",
    "\n",
    "df_trn = pd.read_csv('TRAIN_SET_2021.csv', encoding = \"ISO-8859-1\", usecols = identifier_feature + selected_features, low_memory = False)\n",
    "\n",
    "df_trn = df_trn.reindex(sorted(df_trn.columns), axis=1)\n",
    "df_trn['ds_type'] = 'Train'"
   ]
  },
  {
   "cell_type": "code",
   "execution_count": 52,
   "metadata": {},
   "outputs": [
    {
     "data": {
      "text/html": [
       "<div>\n",
       "<style scoped>\n",
       "    .dataframe tbody tr th:only-of-type {\n",
       "        vertical-align: middle;\n",
       "    }\n",
       "\n",
       "    .dataframe tbody tr th {\n",
       "        vertical-align: top;\n",
       "    }\n",
       "\n",
       "    .dataframe thead th {\n",
       "        text-align: right;\n",
       "    }\n",
       "</style>\n",
       "<table border=\"1\" class=\"dataframe\">\n",
       "  <thead>\n",
       "    <tr style=\"text-align: right;\">\n",
       "      <th></th>\n",
       "      <th>CITY</th>\n",
       "      <th>CURRENT_DEMERITS</th>\n",
       "      <th>CURRENT_GRADE</th>\n",
       "      <th>EMPLOYEE_COUNT</th>\n",
       "      <th>FIRST_VIOLATION</th>\n",
       "      <th>FIRST_VIOLATION_TYPE</th>\n",
       "      <th>INSPECTION_DEMERITS</th>\n",
       "      <th>INSPECTION_TYPE</th>\n",
       "      <th>MEDIAN_EMPLOYEE_AGE</th>\n",
       "      <th>MEDIAN_EMPLOYEE_TENURE</th>\n",
       "      <th>NEXT_INSPECTION_GRADE_C_OR_BELOW</th>\n",
       "      <th>NUMBER_OF_VIOLATIONS</th>\n",
       "      <th>RESTAURANT_CATEGORY</th>\n",
       "      <th>RESTAURANT_SERIAL_NUMBER</th>\n",
       "      <th>SECOND_VIOLATION</th>\n",
       "      <th>SECOND_VIOLATION_TYPE</th>\n",
       "      <th>STATE</th>\n",
       "      <th>THIRD_VIOLATION</th>\n",
       "      <th>THIRD_VIOLATION_TYPE</th>\n",
       "      <th>ds_type</th>\n",
       "    </tr>\n",
       "  </thead>\n",
       "  <tbody>\n",
       "    <tr>\n",
       "      <th>0</th>\n",
       "      <td>Las Vegas</td>\n",
       "      <td>0.0</td>\n",
       "      <td>A</td>\n",
       "      <td>25.0</td>\n",
       "      <td>204.0</td>\n",
       "      <td>Critical</td>\n",
       "      <td>11</td>\n",
       "      <td>Routine Inspection</td>\n",
       "      <td>27.959983</td>\n",
       "      <td>13.004886</td>\n",
       "      <td>0</td>\n",
       "      <td>4</td>\n",
       "      <td>Snack Bar</td>\n",
       "      <td>DA1117270</td>\n",
       "      <td>215.0</td>\n",
       "      <td>Major</td>\n",
       "      <td>Nevada</td>\n",
       "      <td>302.0</td>\n",
       "      <td>Imminent Health Hazard</td>\n",
       "      <td>Train</td>\n",
       "    </tr>\n",
       "    <tr>\n",
       "      <th>1</th>\n",
       "      <td>Las Vegas</td>\n",
       "      <td>3.0</td>\n",
       "      <td>A</td>\n",
       "      <td>7.0</td>\n",
       "      <td>214.0</td>\n",
       "      <td>Major</td>\n",
       "      <td>9</td>\n",
       "      <td>Routine Inspection</td>\n",
       "      <td>27.719365</td>\n",
       "      <td>3.922086</td>\n",
       "      <td>0</td>\n",
       "      <td>5</td>\n",
       "      <td>Restaurant</td>\n",
       "      <td>DA1014948</td>\n",
       "      <td>216.0</td>\n",
       "      <td>Major</td>\n",
       "      <td>Nevada</td>\n",
       "      <td>229.0</td>\n",
       "      <td>Non-Major</td>\n",
       "      <td>Train</td>\n",
       "    </tr>\n",
       "    <tr>\n",
       "      <th>2</th>\n",
       "      <td>Las Vegas</td>\n",
       "      <td>8.0</td>\n",
       "      <td>A</td>\n",
       "      <td>23.0</td>\n",
       "      <td>202.0</td>\n",
       "      <td>Critical</td>\n",
       "      <td>9</td>\n",
       "      <td>Routine Inspection</td>\n",
       "      <td>26.442637</td>\n",
       "      <td>10.312777</td>\n",
       "      <td>1</td>\n",
       "      <td>3</td>\n",
       "      <td>Restaurant</td>\n",
       "      <td>DA0861994</td>\n",
       "      <td>215.0</td>\n",
       "      <td>Major</td>\n",
       "      <td>Nevada</td>\n",
       "      <td>233.0</td>\n",
       "      <td>Non-Major</td>\n",
       "      <td>Train</td>\n",
       "    </tr>\n",
       "    <tr>\n",
       "      <th>3</th>\n",
       "      <td>Las Vegas</td>\n",
       "      <td>0.0</td>\n",
       "      <td>A</td>\n",
       "      <td>14.0</td>\n",
       "      <td>214.0</td>\n",
       "      <td>Major</td>\n",
       "      <td>5</td>\n",
       "      <td>Routine Inspection</td>\n",
       "      <td>33.988293</td>\n",
       "      <td>4.163975</td>\n",
       "      <td>0</td>\n",
       "      <td>3</td>\n",
       "      <td>Elementary School Kitchen</td>\n",
       "      <td>DA0896719</td>\n",
       "      <td>230.0</td>\n",
       "      <td>Non-Major</td>\n",
       "      <td>Nevada</td>\n",
       "      <td>233.0</td>\n",
       "      <td>Non-Major</td>\n",
       "      <td>Train</td>\n",
       "    </tr>\n",
       "    <tr>\n",
       "      <th>4</th>\n",
       "      <td>Las Vegas</td>\n",
       "      <td>0.0</td>\n",
       "      <td>A</td>\n",
       "      <td>10.0</td>\n",
       "      <td>214.0</td>\n",
       "      <td>Major</td>\n",
       "      <td>5</td>\n",
       "      <td>Routine Inspection</td>\n",
       "      <td>21.980282</td>\n",
       "      <td>13.462786</td>\n",
       "      <td>0</td>\n",
       "      <td>NaN</td>\n",
       "      <td>Bar / Tavern</td>\n",
       "      <td>DA1031041</td>\n",
       "      <td>230.0</td>\n",
       "      <td>Non-Major</td>\n",
       "      <td>Nevada</td>\n",
       "      <td>233.0</td>\n",
       "      <td>Non-Major</td>\n",
       "      <td>Train</td>\n",
       "    </tr>\n",
       "    <tr>\n",
       "      <th>...</th>\n",
       "      <td>...</td>\n",
       "      <td>...</td>\n",
       "      <td>...</td>\n",
       "      <td>...</td>\n",
       "      <td>...</td>\n",
       "      <td>...</td>\n",
       "      <td>...</td>\n",
       "      <td>...</td>\n",
       "      <td>...</td>\n",
       "      <td>...</td>\n",
       "      <td>...</td>\n",
       "      <td>...</td>\n",
       "      <td>...</td>\n",
       "      <td>...</td>\n",
       "      <td>...</td>\n",
       "      <td>...</td>\n",
       "      <td>...</td>\n",
       "      <td>...</td>\n",
       "      <td>...</td>\n",
       "      <td>...</td>\n",
       "    </tr>\n",
       "    <tr>\n",
       "      <th>15668</th>\n",
       "      <td>Las Vegas</td>\n",
       "      <td>1.0</td>\n",
       "      <td>A</td>\n",
       "      <td>24.0</td>\n",
       "      <td>2.0</td>\n",
       "      <td>Critical</td>\n",
       "      <td>10</td>\n",
       "      <td>Routine Inspection</td>\n",
       "      <td>27.265494</td>\n",
       "      <td>1.858442</td>\n",
       "      <td>0</td>\n",
       "      <td>5</td>\n",
       "      <td>Restaurant</td>\n",
       "      <td>DA0127918</td>\n",
       "      <td>19.0</td>\n",
       "      <td>Non-Major</td>\n",
       "      <td>Nevada</td>\n",
       "      <td>31.0</td>\n",
       "      <td>Non-Major</td>\n",
       "      <td>Train</td>\n",
       "    </tr>\n",
       "    <tr>\n",
       "      <th>15669</th>\n",
       "      <td>North Las Vegas</td>\n",
       "      <td>6.0</td>\n",
       "      <td>A</td>\n",
       "      <td>21.0</td>\n",
       "      <td>213.0</td>\n",
       "      <td>Major</td>\n",
       "      <td>7</td>\n",
       "      <td>Routine Inspection</td>\n",
       "      <td>18.216549</td>\n",
       "      <td>6.797710</td>\n",
       "      <td>0</td>\n",
       "      <td>5</td>\n",
       "      <td>Restaurant</td>\n",
       "      <td>DA0895752</td>\n",
       "      <td>225.0</td>\n",
       "      <td>Non-Major</td>\n",
       "      <td>Nevada</td>\n",
       "      <td>230.0</td>\n",
       "      <td>Non-Major</td>\n",
       "      <td>Train</td>\n",
       "    </tr>\n",
       "    <tr>\n",
       "      <th>15670</th>\n",
       "      <td>Las Vegas</td>\n",
       "      <td>9.0</td>\n",
       "      <td>A</td>\n",
       "      <td>6.0</td>\n",
       "      <td>209.0</td>\n",
       "      <td>Critical</td>\n",
       "      <td>17</td>\n",
       "      <td>Routine Inspection</td>\n",
       "      <td>32.334711</td>\n",
       "      <td>2.341416</td>\n",
       "      <td>0</td>\n",
       "      <td>5</td>\n",
       "      <td>Restaurant</td>\n",
       "      <td>DA1074894</td>\n",
       "      <td>213.0</td>\n",
       "      <td>Major</td>\n",
       "      <td>Nevada</td>\n",
       "      <td>217.0</td>\n",
       "      <td>Major</td>\n",
       "      <td>Train</td>\n",
       "    </tr>\n",
       "    <tr>\n",
       "      <th>15671</th>\n",
       "      <td>Boulder City</td>\n",
       "      <td>3.0</td>\n",
       "      <td>A</td>\n",
       "      <td>11.0</td>\n",
       "      <td>214.0</td>\n",
       "      <td>Major</td>\n",
       "      <td>7</td>\n",
       "      <td>Routine Inspection</td>\n",
       "      <td>36.076705</td>\n",
       "      <td>1.278035</td>\n",
       "      <td>0</td>\n",
       "      <td>3</td>\n",
       "      <td>Snack Bar</td>\n",
       "      <td>DA1000307</td>\n",
       "      <td>215.0</td>\n",
       "      <td>Major</td>\n",
       "      <td>Nevada</td>\n",
       "      <td>226.0</td>\n",
       "      <td>Non-Major</td>\n",
       "      <td>Train</td>\n",
       "    </tr>\n",
       "    <tr>\n",
       "      <th>15672</th>\n",
       "      <td>Laughlin</td>\n",
       "      <td>3.0</td>\n",
       "      <td>A</td>\n",
       "      <td>6.0</td>\n",
       "      <td>214.0</td>\n",
       "      <td>Major</td>\n",
       "      <td>5</td>\n",
       "      <td>Routine Inspection</td>\n",
       "      <td>25.997975</td>\n",
       "      <td>4.665012</td>\n",
       "      <td>0</td>\n",
       "      <td>3</td>\n",
       "      <td>Garde Manger</td>\n",
       "      <td>DA0933194</td>\n",
       "      <td>227.0</td>\n",
       "      <td>Non-Major</td>\n",
       "      <td>Nevada</td>\n",
       "      <td>230.0</td>\n",
       "      <td>Non-Major</td>\n",
       "      <td>Train</td>\n",
       "    </tr>\n",
       "  </tbody>\n",
       "</table>\n",
       "<p>15673 rows × 20 columns</p>\n",
       "</div>"
      ],
      "text/plain": [
       "                  CITY  CURRENT_DEMERITS CURRENT_GRADE  EMPLOYEE_COUNT  \\\n",
       "0            Las Vegas               0.0             A            25.0   \n",
       "1            Las Vegas               3.0             A             7.0   \n",
       "2            Las Vegas               8.0             A            23.0   \n",
       "3            Las Vegas               0.0             A            14.0   \n",
       "4            Las Vegas               0.0             A            10.0   \n",
       "...                ...               ...           ...             ...   \n",
       "15668        Las Vegas               1.0             A            24.0   \n",
       "15669  North Las Vegas               6.0             A            21.0   \n",
       "15670        Las Vegas               9.0             A             6.0   \n",
       "15671     Boulder City               3.0             A            11.0   \n",
       "15672         Laughlin               3.0             A             6.0   \n",
       "\n",
       "       FIRST_VIOLATION FIRST_VIOLATION_TYPE INSPECTION_DEMERITS  \\\n",
       "0                204.0             Critical                  11   \n",
       "1                214.0                Major                   9   \n",
       "2                202.0             Critical                   9   \n",
       "3                214.0                Major                   5   \n",
       "4                214.0                Major                   5   \n",
       "...                ...                  ...                 ...   \n",
       "15668              2.0             Critical                  10   \n",
       "15669            213.0                Major                   7   \n",
       "15670            209.0             Critical                  17   \n",
       "15671            214.0                Major                   7   \n",
       "15672            214.0                Major                   5   \n",
       "\n",
       "          INSPECTION_TYPE  MEDIAN_EMPLOYEE_AGE  MEDIAN_EMPLOYEE_TENURE  \\\n",
       "0      Routine Inspection            27.959983               13.004886   \n",
       "1      Routine Inspection            27.719365                3.922086   \n",
       "2      Routine Inspection            26.442637               10.312777   \n",
       "3      Routine Inspection            33.988293                4.163975   \n",
       "4      Routine Inspection            21.980282               13.462786   \n",
       "...                   ...                  ...                     ...   \n",
       "15668  Routine Inspection            27.265494                1.858442   \n",
       "15669  Routine Inspection            18.216549                6.797710   \n",
       "15670  Routine Inspection            32.334711                2.341416   \n",
       "15671  Routine Inspection            36.076705                1.278035   \n",
       "15672  Routine Inspection            25.997975                4.665012   \n",
       "\n",
       "      NEXT_INSPECTION_GRADE_C_OR_BELOW NUMBER_OF_VIOLATIONS  \\\n",
       "0                                    0                    4   \n",
       "1                                    0                    5   \n",
       "2                                    1                    3   \n",
       "3                                    0                    3   \n",
       "4                                    0                  NaN   \n",
       "...                                ...                  ...   \n",
       "15668                                0                    5   \n",
       "15669                                0                    5   \n",
       "15670                                0                    5   \n",
       "15671                                0                    3   \n",
       "15672                                0                    3   \n",
       "\n",
       "             RESTAURANT_CATEGORY RESTAURANT_SERIAL_NUMBER  SECOND_VIOLATION  \\\n",
       "0                      Snack Bar                DA1117270             215.0   \n",
       "1                     Restaurant                DA1014948             216.0   \n",
       "2                     Restaurant                DA0861994             215.0   \n",
       "3      Elementary School Kitchen                DA0896719             230.0   \n",
       "4                   Bar / Tavern                DA1031041             230.0   \n",
       "...                          ...                      ...               ...   \n",
       "15668                 Restaurant                DA0127918              19.0   \n",
       "15669                 Restaurant                DA0895752             225.0   \n",
       "15670                 Restaurant                DA1074894             213.0   \n",
       "15671                  Snack Bar                DA1000307             215.0   \n",
       "15672               Garde Manger                DA0933194             227.0   \n",
       "\n",
       "      SECOND_VIOLATION_TYPE   STATE  THIRD_VIOLATION    THIRD_VIOLATION_TYPE  \\\n",
       "0                     Major  Nevada            302.0  Imminent Health Hazard   \n",
       "1                     Major  Nevada            229.0               Non-Major   \n",
       "2                     Major  Nevada            233.0               Non-Major   \n",
       "3                 Non-Major  Nevada            233.0               Non-Major   \n",
       "4                 Non-Major  Nevada            233.0               Non-Major   \n",
       "...                     ...     ...              ...                     ...   \n",
       "15668             Non-Major  Nevada             31.0               Non-Major   \n",
       "15669             Non-Major  Nevada            230.0               Non-Major   \n",
       "15670                 Major  Nevada            217.0                   Major   \n",
       "15671                 Major  Nevada            226.0               Non-Major   \n",
       "15672             Non-Major  Nevada            230.0               Non-Major   \n",
       "\n",
       "      ds_type  \n",
       "0       Train  \n",
       "1       Train  \n",
       "2       Train  \n",
       "3       Train  \n",
       "4       Train  \n",
       "...       ...  \n",
       "15668   Train  \n",
       "15669   Train  \n",
       "15670   Train  \n",
       "15671   Train  \n",
       "15672   Train  \n",
       "\n",
       "[15673 rows x 20 columns]"
      ]
     },
     "execution_count": 52,
     "metadata": {},
     "output_type": "execute_result"
    }
   ],
   "source": [
    "df_trn"
   ]
  },
  {
   "cell_type": "code",
   "execution_count": 53,
   "metadata": {},
   "outputs": [],
   "source": [
    "# test set import\n",
    "\n",
    "df_tst = pd.read_csv('TEST_SET_2021.csv', encoding = \"ISO-8859-1\", low_memory = False)\n",
    "df_tst[target] = \"0\"\n",
    "\n",
    "# in test set, there is no NEXT_INSPECTION_GRADE_C_OR_BELOW column. \n",
    "# So all NEXT_INSPECTION_GRADE_C_OR_BELOW () columm is zero initially\n",
    "\n",
    "df_tst = df_tst[identifier_feature + selected_features]\n",
    "df_tst = df_tst.reindex(sorted(df_tst.columns), axis=1)\n",
    "\n",
    "df_tst['ds_type'] = 'Test'"
   ]
  },
  {
   "cell_type": "code",
   "execution_count": 54,
   "metadata": {},
   "outputs": [
    {
     "data": {
      "text/html": [
       "<div>\n",
       "<style scoped>\n",
       "    .dataframe tbody tr th:only-of-type {\n",
       "        vertical-align: middle;\n",
       "    }\n",
       "\n",
       "    .dataframe tbody tr th {\n",
       "        vertical-align: top;\n",
       "    }\n",
       "\n",
       "    .dataframe thead th {\n",
       "        text-align: right;\n",
       "    }\n",
       "</style>\n",
       "<table border=\"1\" class=\"dataframe\">\n",
       "  <thead>\n",
       "    <tr style=\"text-align: right;\">\n",
       "      <th></th>\n",
       "      <th>CITY</th>\n",
       "      <th>CURRENT_DEMERITS</th>\n",
       "      <th>CURRENT_GRADE</th>\n",
       "      <th>EMPLOYEE_COUNT</th>\n",
       "      <th>FIRST_VIOLATION</th>\n",
       "      <th>FIRST_VIOLATION_TYPE</th>\n",
       "      <th>INSPECTION_DEMERITS</th>\n",
       "      <th>INSPECTION_TYPE</th>\n",
       "      <th>MEDIAN_EMPLOYEE_AGE</th>\n",
       "      <th>MEDIAN_EMPLOYEE_TENURE</th>\n",
       "      <th>NEXT_INSPECTION_GRADE_C_OR_BELOW</th>\n",
       "      <th>NUMBER_OF_VIOLATIONS</th>\n",
       "      <th>RESTAURANT_CATEGORY</th>\n",
       "      <th>RESTAURANT_SERIAL_NUMBER</th>\n",
       "      <th>SECOND_VIOLATION</th>\n",
       "      <th>SECOND_VIOLATION_TYPE</th>\n",
       "      <th>STATE</th>\n",
       "      <th>THIRD_VIOLATION</th>\n",
       "      <th>THIRD_VIOLATION_TYPE</th>\n",
       "      <th>ds_type</th>\n",
       "    </tr>\n",
       "  </thead>\n",
       "  <tbody>\n",
       "    <tr>\n",
       "      <th>0</th>\n",
       "      <td>Las Vegas</td>\n",
       "      <td>6</td>\n",
       "      <td>A</td>\n",
       "      <td>3.000000</td>\n",
       "      <td>209.0</td>\n",
       "      <td>Critical</td>\n",
       "      <td>21</td>\n",
       "      <td>Routine Inspection</td>\n",
       "      <td>31.141933</td>\n",
       "      <td>3.542119</td>\n",
       "      <td>0</td>\n",
       "      <td>5</td>\n",
       "      <td>Special Kitchen</td>\n",
       "      <td>DA1050454</td>\n",
       "      <td>213</td>\n",
       "      <td>Major</td>\n",
       "      <td>Nevada</td>\n",
       "      <td>217</td>\n",
       "      <td>Major</td>\n",
       "      <td>Test</td>\n",
       "    </tr>\n",
       "    <tr>\n",
       "      <th>1</th>\n",
       "      <td>Las Vegas</td>\n",
       "      <td>0</td>\n",
       "      <td>A</td>\n",
       "      <td>18.598406</td>\n",
       "      <td>214.0</td>\n",
       "      <td>Major</td>\n",
       "      <td>8</td>\n",
       "      <td>Routine Inspection</td>\n",
       "      <td>26.839893</td>\n",
       "      <td>4.885881</td>\n",
       "      <td>0</td>\n",
       "      <td>4</td>\n",
       "      <td>Bar / Tavern</td>\n",
       "      <td>DA0986444</td>\n",
       "      <td>222</td>\n",
       "      <td>Major</td>\n",
       "      <td>Nevada</td>\n",
       "      <td>227</td>\n",
       "      <td>Non-Major</td>\n",
       "      <td>Test</td>\n",
       "    </tr>\n",
       "    <tr>\n",
       "      <th>2</th>\n",
       "      <td>Overton</td>\n",
       "      <td>8</td>\n",
       "      <td>A</td>\n",
       "      <td>5.730357</td>\n",
       "      <td>211.0</td>\n",
       "      <td>Major</td>\n",
       "      <td>15</td>\n",
       "      <td>Routine Inspection</td>\n",
       "      <td>31.202256</td>\n",
       "      <td>1.883055</td>\n",
       "      <td>0</td>\n",
       "      <td>6</td>\n",
       "      <td>Bar / Tavern</td>\n",
       "      <td>DA1284914</td>\n",
       "      <td>212</td>\n",
       "      <td>Major</td>\n",
       "      <td>Nevada</td>\n",
       "      <td>213</td>\n",
       "      <td>Major</td>\n",
       "      <td>Test</td>\n",
       "    </tr>\n",
       "    <tr>\n",
       "      <th>3</th>\n",
       "      <td>Las Vegas</td>\n",
       "      <td>0</td>\n",
       "      <td>A</td>\n",
       "      <td>15.075238</td>\n",
       "      <td>202.0</td>\n",
       "      <td>1</td>\n",
       "      <td>33</td>\n",
       "      <td>Re-inspection</td>\n",
       "      <td>36.656000</td>\n",
       "      <td>6.761476</td>\n",
       "      <td>0</td>\n",
       "      <td>11</td>\n",
       "      <td>Restaurant</td>\n",
       "      <td>DA1281903</td>\n",
       "      <td>206</td>\n",
       "      <td>Critical</td>\n",
       "      <td>Nevada</td>\n",
       "      <td>209</td>\n",
       "      <td>Critical</td>\n",
       "      <td>Test</td>\n",
       "    </tr>\n",
       "    <tr>\n",
       "      <th>4</th>\n",
       "      <td>Las Vegas</td>\n",
       "      <td>9</td>\n",
       "      <td>A</td>\n",
       "      <td>14.218813</td>\n",
       "      <td>213.0</td>\n",
       "      <td>Major</td>\n",
       "      <td>10</td>\n",
       "      <td>Routine Inspection</td>\n",
       "      <td>21.001225</td>\n",
       "      <td>6.601620</td>\n",
       "      <td>0</td>\n",
       "      <td>6</td>\n",
       "      <td>Restaurant</td>\n",
       "      <td>DA1004708</td>\n",
       "      <td>214</td>\n",
       "      <td>Major</td>\n",
       "      <td>Nevada</td>\n",
       "      <td>226</td>\n",
       "      <td>Non-Major</td>\n",
       "      <td>Test</td>\n",
       "    </tr>\n",
       "    <tr>\n",
       "      <th>...</th>\n",
       "      <td>...</td>\n",
       "      <td>...</td>\n",
       "      <td>...</td>\n",
       "      <td>...</td>\n",
       "      <td>...</td>\n",
       "      <td>...</td>\n",
       "      <td>...</td>\n",
       "      <td>...</td>\n",
       "      <td>...</td>\n",
       "      <td>...</td>\n",
       "      <td>...</td>\n",
       "      <td>...</td>\n",
       "      <td>...</td>\n",
       "      <td>...</td>\n",
       "      <td>...</td>\n",
       "      <td>...</td>\n",
       "      <td>...</td>\n",
       "      <td>...</td>\n",
       "      <td>...</td>\n",
       "      <td>...</td>\n",
       "    </tr>\n",
       "    <tr>\n",
       "      <th>7500</th>\n",
       "      <td>Las Vegas</td>\n",
       "      <td>0</td>\n",
       "      <td>A</td>\n",
       "      <td>15.230494</td>\n",
       "      <td>202.0</td>\n",
       "      <td>Critical</td>\n",
       "      <td>20</td>\n",
       "      <td>Routine Inspection</td>\n",
       "      <td>33.780673</td>\n",
       "      <td>4.008016</td>\n",
       "      <td>0</td>\n",
       "      <td>6</td>\n",
       "      <td>Restaurant</td>\n",
       "      <td>DA0922689</td>\n",
       "      <td>214</td>\n",
       "      <td>Major</td>\n",
       "      <td>Nevada</td>\n",
       "      <td>215</td>\n",
       "      <td>Major</td>\n",
       "      <td>Test</td>\n",
       "    </tr>\n",
       "    <tr>\n",
       "      <th>7501</th>\n",
       "      <td>Las Vegas</td>\n",
       "      <td>6</td>\n",
       "      <td>A</td>\n",
       "      <td>25.409139</td>\n",
       "      <td>214.0</td>\n",
       "      <td>Major</td>\n",
       "      <td>5</td>\n",
       "      <td>Re-inspection</td>\n",
       "      <td>31.688779</td>\n",
       "      <td>3.453527</td>\n",
       "      <td>0</td>\n",
       "      <td>3</td>\n",
       "      <td>Restaurant</td>\n",
       "      <td>DA1031095</td>\n",
       "      <td>229</td>\n",
       "      <td>Non-Major</td>\n",
       "      <td>Nevada</td>\n",
       "      <td>233</td>\n",
       "      <td>Non-Major</td>\n",
       "      <td>Test</td>\n",
       "    </tr>\n",
       "    <tr>\n",
       "      <th>7502</th>\n",
       "      <td>North Las Vegas</td>\n",
       "      <td>8</td>\n",
       "      <td>A</td>\n",
       "      <td>16.694861</td>\n",
       "      <td>13.0</td>\n",
       "      <td>Major</td>\n",
       "      <td>13</td>\n",
       "      <td>Routine Inspection</td>\n",
       "      <td>26.272563</td>\n",
       "      <td>3.070719</td>\n",
       "      <td>0</td>\n",
       "      <td>3</td>\n",
       "      <td>Portable Unit</td>\n",
       "      <td>DA0633450</td>\n",
       "      <td>28</td>\n",
       "      <td>Non-Major</td>\n",
       "      <td>Nevada</td>\n",
       "      <td>113</td>\n",
       "      <td>Major</td>\n",
       "      <td>Test</td>\n",
       "    </tr>\n",
       "    <tr>\n",
       "      <th>7503</th>\n",
       "      <td>Las Vegas</td>\n",
       "      <td>3</td>\n",
       "      <td>A</td>\n",
       "      <td>25.367641</td>\n",
       "      <td>212.0</td>\n",
       "      <td>Major</td>\n",
       "      <td>8</td>\n",
       "      <td>Routine Inspection</td>\n",
       "      <td>19.612605</td>\n",
       "      <td>6.637496</td>\n",
       "      <td>0</td>\n",
       "      <td>4</td>\n",
       "      <td>Bar / Tavern</td>\n",
       "      <td>DA0998980</td>\n",
       "      <td>214</td>\n",
       "      <td>Major</td>\n",
       "      <td>Nevada</td>\n",
       "      <td>231</td>\n",
       "      <td>Non-Major</td>\n",
       "      <td>Test</td>\n",
       "    </tr>\n",
       "    <tr>\n",
       "      <th>7504</th>\n",
       "      <td>Las Vegas</td>\n",
       "      <td>9</td>\n",
       "      <td>A</td>\n",
       "      <td>11.466460</td>\n",
       "      <td>211.0</td>\n",
       "      <td>Major</td>\n",
       "      <td>15</td>\n",
       "      <td>Routine Inspection</td>\n",
       "      <td>26.525109</td>\n",
       "      <td>6.044159</td>\n",
       "      <td>0</td>\n",
       "      <td>5</td>\n",
       "      <td>Restaurant</td>\n",
       "      <td>DA0831126</td>\n",
       "      <td>214</td>\n",
       "      <td>Major</td>\n",
       "      <td>Nevada</td>\n",
       "      <td>228</td>\n",
       "      <td>Non-Major</td>\n",
       "      <td>Test</td>\n",
       "    </tr>\n",
       "  </tbody>\n",
       "</table>\n",
       "<p>7505 rows × 20 columns</p>\n",
       "</div>"
      ],
      "text/plain": [
       "                 CITY  CURRENT_DEMERITS CURRENT_GRADE  EMPLOYEE_COUNT  \\\n",
       "0           Las Vegas                 6             A        3.000000   \n",
       "1           Las Vegas                 0             A       18.598406   \n",
       "2             Overton                 8             A        5.730357   \n",
       "3           Las Vegas                 0             A       15.075238   \n",
       "4           Las Vegas                 9             A       14.218813   \n",
       "...               ...               ...           ...             ...   \n",
       "7500        Las Vegas                 0             A       15.230494   \n",
       "7501        Las Vegas                 6             A       25.409139   \n",
       "7502  North Las Vegas                 8             A       16.694861   \n",
       "7503        Las Vegas                 3             A       25.367641   \n",
       "7504        Las Vegas                 9             A       11.466460   \n",
       "\n",
       "      FIRST_VIOLATION FIRST_VIOLATION_TYPE  INSPECTION_DEMERITS  \\\n",
       "0               209.0             Critical                   21   \n",
       "1               214.0                Major                    8   \n",
       "2               211.0                Major                   15   \n",
       "3               202.0                    1                   33   \n",
       "4               213.0                Major                   10   \n",
       "...               ...                  ...                  ...   \n",
       "7500            202.0             Critical                   20   \n",
       "7501            214.0                Major                    5   \n",
       "7502             13.0                Major                   13   \n",
       "7503            212.0                Major                    8   \n",
       "7504            211.0                Major                   15   \n",
       "\n",
       "         INSPECTION_TYPE  MEDIAN_EMPLOYEE_AGE  MEDIAN_EMPLOYEE_TENURE  \\\n",
       "0     Routine Inspection            31.141933                3.542119   \n",
       "1     Routine Inspection            26.839893                4.885881   \n",
       "2     Routine Inspection            31.202256                1.883055   \n",
       "3          Re-inspection            36.656000                6.761476   \n",
       "4     Routine Inspection            21.001225                6.601620   \n",
       "...                  ...                  ...                     ...   \n",
       "7500  Routine Inspection            33.780673                4.008016   \n",
       "7501       Re-inspection            31.688779                3.453527   \n",
       "7502  Routine Inspection            26.272563                3.070719   \n",
       "7503  Routine Inspection            19.612605                6.637496   \n",
       "7504  Routine Inspection            26.525109                6.044159   \n",
       "\n",
       "     NEXT_INSPECTION_GRADE_C_OR_BELOW  NUMBER_OF_VIOLATIONS  \\\n",
       "0                                   0                     5   \n",
       "1                                   0                     4   \n",
       "2                                   0                     6   \n",
       "3                                   0                    11   \n",
       "4                                   0                     6   \n",
       "...                               ...                   ...   \n",
       "7500                                0                     6   \n",
       "7501                                0                     3   \n",
       "7502                                0                     3   \n",
       "7503                                0                     4   \n",
       "7504                                0                     5   \n",
       "\n",
       "     RESTAURANT_CATEGORY RESTAURANT_SERIAL_NUMBER  SECOND_VIOLATION  \\\n",
       "0        Special Kitchen                DA1050454               213   \n",
       "1           Bar / Tavern                DA0986444               222   \n",
       "2           Bar / Tavern                DA1284914               212   \n",
       "3             Restaurant                DA1281903               206   \n",
       "4             Restaurant                DA1004708               214   \n",
       "...                  ...                      ...               ...   \n",
       "7500          Restaurant                DA0922689               214   \n",
       "7501          Restaurant                DA1031095               229   \n",
       "7502       Portable Unit                DA0633450                28   \n",
       "7503        Bar / Tavern                DA0998980               214   \n",
       "7504          Restaurant                DA0831126               214   \n",
       "\n",
       "     SECOND_VIOLATION_TYPE   STATE  THIRD_VIOLATION THIRD_VIOLATION_TYPE  \\\n",
       "0                    Major  Nevada              217                Major   \n",
       "1                    Major  Nevada              227            Non-Major   \n",
       "2                    Major  Nevada              213                Major   \n",
       "3                 Critical  Nevada              209             Critical   \n",
       "4                    Major  Nevada              226            Non-Major   \n",
       "...                    ...     ...              ...                  ...   \n",
       "7500                 Major  Nevada              215                Major   \n",
       "7501             Non-Major  Nevada              233            Non-Major   \n",
       "7502             Non-Major  Nevada              113                Major   \n",
       "7503                 Major  Nevada              231            Non-Major   \n",
       "7504                 Major  Nevada              228            Non-Major   \n",
       "\n",
       "     ds_type  \n",
       "0       Test  \n",
       "1       Test  \n",
       "2       Test  \n",
       "3       Test  \n",
       "4       Test  \n",
       "...      ...  \n",
       "7500    Test  \n",
       "7501    Test  \n",
       "7502    Test  \n",
       "7503    Test  \n",
       "7504    Test  \n",
       "\n",
       "[7505 rows x 20 columns]"
      ]
     },
     "execution_count": 54,
     "metadata": {},
     "output_type": "execute_result"
    }
   ],
   "source": [
    "df_tst"
   ]
  },
  {
   "cell_type": "code",
   "execution_count": 55,
   "metadata": {},
   "outputs": [],
   "source": [
    "# Concatenate Train and Test set\n",
    "df = df_trn.append(df_tst)\n",
    "\n",
    "# Therefore all values will be preprocessing"
   ]
  },
  {
   "cell_type": "code",
   "execution_count": 56,
   "metadata": {},
   "outputs": [
    {
     "data": {
      "text/html": [
       "<div>\n",
       "<style scoped>\n",
       "    .dataframe tbody tr th:only-of-type {\n",
       "        vertical-align: middle;\n",
       "    }\n",
       "\n",
       "    .dataframe tbody tr th {\n",
       "        vertical-align: top;\n",
       "    }\n",
       "\n",
       "    .dataframe thead th {\n",
       "        text-align: right;\n",
       "    }\n",
       "</style>\n",
       "<table border=\"1\" class=\"dataframe\">\n",
       "  <thead>\n",
       "    <tr style=\"text-align: right;\">\n",
       "      <th></th>\n",
       "      <th>CURRENT_DEMERITS</th>\n",
       "      <th>EMPLOYEE_COUNT</th>\n",
       "      <th>FIRST_VIOLATION</th>\n",
       "      <th>MEDIAN_EMPLOYEE_AGE</th>\n",
       "      <th>MEDIAN_EMPLOYEE_TENURE</th>\n",
       "      <th>SECOND_VIOLATION</th>\n",
       "      <th>THIRD_VIOLATION</th>\n",
       "    </tr>\n",
       "  </thead>\n",
       "  <tbody>\n",
       "    <tr>\n",
       "      <th>CURRENT_DEMERITS</th>\n",
       "      <td>1.000000</td>\n",
       "      <td>0.002849</td>\n",
       "      <td>0.000432</td>\n",
       "      <td>0.001581</td>\n",
       "      <td>-0.001971</td>\n",
       "      <td>-0.005725</td>\n",
       "      <td>-0.006365</td>\n",
       "    </tr>\n",
       "    <tr>\n",
       "      <th>EMPLOYEE_COUNT</th>\n",
       "      <td>0.002849</td>\n",
       "      <td>1.000000</td>\n",
       "      <td>-0.000089</td>\n",
       "      <td>-0.000514</td>\n",
       "      <td>0.011422</td>\n",
       "      <td>0.004120</td>\n",
       "      <td>0.003804</td>\n",
       "    </tr>\n",
       "    <tr>\n",
       "      <th>FIRST_VIOLATION</th>\n",
       "      <td>0.000432</td>\n",
       "      <td>-0.000089</td>\n",
       "      <td>1.000000</td>\n",
       "      <td>0.003000</td>\n",
       "      <td>-0.006521</td>\n",
       "      <td>-0.014774</td>\n",
       "      <td>-0.014963</td>\n",
       "    </tr>\n",
       "    <tr>\n",
       "      <th>MEDIAN_EMPLOYEE_AGE</th>\n",
       "      <td>0.001581</td>\n",
       "      <td>-0.000514</td>\n",
       "      <td>0.003000</td>\n",
       "      <td>1.000000</td>\n",
       "      <td>0.000481</td>\n",
       "      <td>0.006360</td>\n",
       "      <td>0.005583</td>\n",
       "    </tr>\n",
       "    <tr>\n",
       "      <th>MEDIAN_EMPLOYEE_TENURE</th>\n",
       "      <td>-0.001971</td>\n",
       "      <td>0.011422</td>\n",
       "      <td>-0.006521</td>\n",
       "      <td>0.000481</td>\n",
       "      <td>1.000000</td>\n",
       "      <td>0.010183</td>\n",
       "      <td>0.011817</td>\n",
       "    </tr>\n",
       "    <tr>\n",
       "      <th>SECOND_VIOLATION</th>\n",
       "      <td>-0.005725</td>\n",
       "      <td>0.004120</td>\n",
       "      <td>-0.014774</td>\n",
       "      <td>0.006360</td>\n",
       "      <td>0.010183</td>\n",
       "      <td>1.000000</td>\n",
       "      <td>0.986996</td>\n",
       "    </tr>\n",
       "    <tr>\n",
       "      <th>THIRD_VIOLATION</th>\n",
       "      <td>-0.006365</td>\n",
       "      <td>0.003804</td>\n",
       "      <td>-0.014963</td>\n",
       "      <td>0.005583</td>\n",
       "      <td>0.011817</td>\n",
       "      <td>0.986996</td>\n",
       "      <td>1.000000</td>\n",
       "    </tr>\n",
       "  </tbody>\n",
       "</table>\n",
       "</div>"
      ],
      "text/plain": [
       "                        CURRENT_DEMERITS  EMPLOYEE_COUNT  FIRST_VIOLATION  \\\n",
       "CURRENT_DEMERITS                1.000000        0.002849         0.000432   \n",
       "EMPLOYEE_COUNT                  0.002849        1.000000        -0.000089   \n",
       "FIRST_VIOLATION                 0.000432       -0.000089         1.000000   \n",
       "MEDIAN_EMPLOYEE_AGE             0.001581       -0.000514         0.003000   \n",
       "MEDIAN_EMPLOYEE_TENURE         -0.001971        0.011422        -0.006521   \n",
       "SECOND_VIOLATION               -0.005725        0.004120        -0.014774   \n",
       "THIRD_VIOLATION                -0.006365        0.003804        -0.014963   \n",
       "\n",
       "                        MEDIAN_EMPLOYEE_AGE  MEDIAN_EMPLOYEE_TENURE  \\\n",
       "CURRENT_DEMERITS                   0.001581               -0.001971   \n",
       "EMPLOYEE_COUNT                    -0.000514                0.011422   \n",
       "FIRST_VIOLATION                    0.003000               -0.006521   \n",
       "MEDIAN_EMPLOYEE_AGE                1.000000                0.000481   \n",
       "MEDIAN_EMPLOYEE_TENURE             0.000481                1.000000   \n",
       "SECOND_VIOLATION                   0.006360                0.010183   \n",
       "THIRD_VIOLATION                    0.005583                0.011817   \n",
       "\n",
       "                        SECOND_VIOLATION  THIRD_VIOLATION  \n",
       "CURRENT_DEMERITS               -0.005725        -0.006365  \n",
       "EMPLOYEE_COUNT                  0.004120         0.003804  \n",
       "FIRST_VIOLATION                -0.014774        -0.014963  \n",
       "MEDIAN_EMPLOYEE_AGE             0.006360         0.005583  \n",
       "MEDIAN_EMPLOYEE_TENURE          0.010183         0.011817  \n",
       "SECOND_VIOLATION                1.000000         0.986996  \n",
       "THIRD_VIOLATION                 0.986996         1.000000  "
      ]
     },
     "execution_count": 56,
     "metadata": {},
     "output_type": "execute_result"
    }
   ],
   "source": [
    "df_trn.corr()"
   ]
  },
  {
   "cell_type": "code",
   "execution_count": 72,
   "metadata": {},
   "outputs": [
    {
     "data": {
      "image/png": "[encoded data removed]",
      "text/plain": [
       "<Figure size 720x432 with 2 Axes>"
      ]
     },
     "metadata": {
      "needs_background": "light"
     },
     "output_type": "display_data"
    }
   ],
   "source": [
    "plt.figure(figsize=(10, 6))\n",
    "\n",
    "# Set the range of values to be displayed on the colormap from -1 to 1, and set the annotation to True to display the correlation values on the heatmap.\n",
    "heatmap = sns.heatmap(df_trn.corr(), vmin=-1, vmax=1, annot=True)\n",
    "\n",
    "heatmap.set_title('Correlation Heatmap', fontdict={'fontsize':12}, pad=12);"
   ]
  },
  {
   "cell_type": "code",
   "execution_count": 73,
   "metadata": {},
   "outputs": [
    {
     "data": {
      "image/png": "[encoded data removed]",
      "text/plain": [
       "<Figure size 720x432 with 2 Axes>"
      ]
     },
     "metadata": {
      "needs_background": "light"
     },
     "output_type": "display_data"
    }
   ],
   "source": [
    "plt.figure(figsize=(10, 6))\n",
    "\n",
    "# Set the range of values to be displayed on the colormap from -1 to 1, and set the annotation to True to display the correlation values on the heatmap.\n",
    "heatmap = sns.heatmap(train.corr(), vmin=-1, vmax=1, annot=True)\n",
    "\n",
    "heatmap.set_title('Correlation Heatmap of Train.csv', fontdict={'fontsize':12}, pad=12);"
   ]
  },
  {
   "cell_type": "code",
   "execution_count": null,
   "metadata": {},
   "outputs": [],
   "source": []
  },
  {
   "cell_type": "markdown",
   "metadata": {},
   "source": [
    "# PREPROCESSING THE DATA\n",
    "\n",
    "# We also use test_set.csv because test_set.csv and train_set.csv should be consistent with each other.\n",
    "\n",
    "# In this section, we make assumptions."
   ]
  },
  {
   "cell_type": "code",
   "execution_count": 561,
   "metadata": {
    "scrolled": true
   },
   "outputs": [
    {
     "data": {
      "text/html": [
       "<div>\n",
       "<style scoped>\n",
       "    .dataframe tbody tr th:only-of-type {\n",
       "        vertical-align: middle;\n",
       "    }\n",
       "\n",
       "    .dataframe tbody tr th {\n",
       "        vertical-align: top;\n",
       "    }\n",
       "\n",
       "    .dataframe thead th {\n",
       "        text-align: right;\n",
       "    }\n",
       "</style>\n",
       "<table border=\"1\" class=\"dataframe\">\n",
       "  <thead>\n",
       "    <tr style=\"text-align: right;\">\n",
       "      <th></th>\n",
       "      <th>CITY</th>\n",
       "      <th>CURRENT_DEMERITS</th>\n",
       "      <th>CURRENT_GRADE</th>\n",
       "      <th>EMPLOYEE_COUNT</th>\n",
       "      <th>FIRST_VIOLATION</th>\n",
       "      <th>FIRST_VIOLATION_TYPE</th>\n",
       "      <th>INSPECTION_DEMERITS</th>\n",
       "      <th>INSPECTION_TYPE</th>\n",
       "      <th>MEDIAN_EMPLOYEE_AGE</th>\n",
       "      <th>MEDIAN_EMPLOYEE_TENURE</th>\n",
       "      <th>NEXT_INSPECTION_GRADE_C_OR_BELOW</th>\n",
       "      <th>NUMBER_OF_VIOLATIONS</th>\n",
       "      <th>RESTAURANT_CATEGORY</th>\n",
       "      <th>RESTAURANT_SERIAL_NUMBER</th>\n",
       "      <th>SECOND_VIOLATION</th>\n",
       "      <th>SECOND_VIOLATION_TYPE</th>\n",
       "      <th>STATE</th>\n",
       "      <th>THIRD_VIOLATION</th>\n",
       "      <th>THIRD_VIOLATION_TYPE</th>\n",
       "      <th>ds_type</th>\n",
       "    </tr>\n",
       "  </thead>\n",
       "  <tbody>\n",
       "    <tr>\n",
       "      <th>0</th>\n",
       "      <td>Las Vegas</td>\n",
       "      <td>0.0</td>\n",
       "      <td>A</td>\n",
       "      <td>25.000000</td>\n",
       "      <td>204.0</td>\n",
       "      <td>Critical</td>\n",
       "      <td>11</td>\n",
       "      <td>Routine Inspection</td>\n",
       "      <td>27.959983</td>\n",
       "      <td>13.004886</td>\n",
       "      <td>0</td>\n",
       "      <td>4</td>\n",
       "      <td>Snack Bar</td>\n",
       "      <td>DA1117270</td>\n",
       "      <td>215.0</td>\n",
       "      <td>Major</td>\n",
       "      <td>Nevada</td>\n",
       "      <td>302.0</td>\n",
       "      <td>Imminent Health Hazard</td>\n",
       "      <td>Train</td>\n",
       "    </tr>\n",
       "    <tr>\n",
       "      <th>1</th>\n",
       "      <td>Las Vegas</td>\n",
       "      <td>3.0</td>\n",
       "      <td>A</td>\n",
       "      <td>7.000000</td>\n",
       "      <td>214.0</td>\n",
       "      <td>Major</td>\n",
       "      <td>9</td>\n",
       "      <td>Routine Inspection</td>\n",
       "      <td>27.719365</td>\n",
       "      <td>3.922086</td>\n",
       "      <td>0</td>\n",
       "      <td>5</td>\n",
       "      <td>Restaurant</td>\n",
       "      <td>DA1014948</td>\n",
       "      <td>216.0</td>\n",
       "      <td>Major</td>\n",
       "      <td>Nevada</td>\n",
       "      <td>229.0</td>\n",
       "      <td>Non-Major</td>\n",
       "      <td>Train</td>\n",
       "    </tr>\n",
       "    <tr>\n",
       "      <th>2</th>\n",
       "      <td>Las Vegas</td>\n",
       "      <td>8.0</td>\n",
       "      <td>A</td>\n",
       "      <td>23.000000</td>\n",
       "      <td>202.0</td>\n",
       "      <td>Critical</td>\n",
       "      <td>9</td>\n",
       "      <td>Routine Inspection</td>\n",
       "      <td>26.442637</td>\n",
       "      <td>10.312777</td>\n",
       "      <td>1</td>\n",
       "      <td>3</td>\n",
       "      <td>Restaurant</td>\n",
       "      <td>DA0861994</td>\n",
       "      <td>215.0</td>\n",
       "      <td>Major</td>\n",
       "      <td>Nevada</td>\n",
       "      <td>233.0</td>\n",
       "      <td>Non-Major</td>\n",
       "      <td>Train</td>\n",
       "    </tr>\n",
       "    <tr>\n",
       "      <th>3</th>\n",
       "      <td>Las Vegas</td>\n",
       "      <td>0.0</td>\n",
       "      <td>A</td>\n",
       "      <td>14.000000</td>\n",
       "      <td>214.0</td>\n",
       "      <td>Major</td>\n",
       "      <td>5</td>\n",
       "      <td>Routine Inspection</td>\n",
       "      <td>33.988293</td>\n",
       "      <td>4.163975</td>\n",
       "      <td>0</td>\n",
       "      <td>3</td>\n",
       "      <td>Elementary School Kitchen</td>\n",
       "      <td>DA0896719</td>\n",
       "      <td>230.0</td>\n",
       "      <td>Non-Major</td>\n",
       "      <td>Nevada</td>\n",
       "      <td>233.0</td>\n",
       "      <td>Non-Major</td>\n",
       "      <td>Train</td>\n",
       "    </tr>\n",
       "    <tr>\n",
       "      <th>4</th>\n",
       "      <td>Las Vegas</td>\n",
       "      <td>0.0</td>\n",
       "      <td>A</td>\n",
       "      <td>10.000000</td>\n",
       "      <td>214.0</td>\n",
       "      <td>Major</td>\n",
       "      <td>5</td>\n",
       "      <td>Routine Inspection</td>\n",
       "      <td>21.980282</td>\n",
       "      <td>13.462786</td>\n",
       "      <td>0</td>\n",
       "      <td>NaN</td>\n",
       "      <td>Bar / Tavern</td>\n",
       "      <td>DA1031041</td>\n",
       "      <td>230.0</td>\n",
       "      <td>Non-Major</td>\n",
       "      <td>Nevada</td>\n",
       "      <td>233.0</td>\n",
       "      <td>Non-Major</td>\n",
       "      <td>Train</td>\n",
       "    </tr>\n",
       "    <tr>\n",
       "      <th>...</th>\n",
       "      <td>...</td>\n",
       "      <td>...</td>\n",
       "      <td>...</td>\n",
       "      <td>...</td>\n",
       "      <td>...</td>\n",
       "      <td>...</td>\n",
       "      <td>...</td>\n",
       "      <td>...</td>\n",
       "      <td>...</td>\n",
       "      <td>...</td>\n",
       "      <td>...</td>\n",
       "      <td>...</td>\n",
       "      <td>...</td>\n",
       "      <td>...</td>\n",
       "      <td>...</td>\n",
       "      <td>...</td>\n",
       "      <td>...</td>\n",
       "      <td>...</td>\n",
       "      <td>...</td>\n",
       "      <td>...</td>\n",
       "    </tr>\n",
       "    <tr>\n",
       "      <th>7500</th>\n",
       "      <td>Las Vegas</td>\n",
       "      <td>0.0</td>\n",
       "      <td>A</td>\n",
       "      <td>15.230494</td>\n",
       "      <td>202.0</td>\n",
       "      <td>Critical</td>\n",
       "      <td>20</td>\n",
       "      <td>Routine Inspection</td>\n",
       "      <td>33.780673</td>\n",
       "      <td>4.008016</td>\n",
       "      <td>0</td>\n",
       "      <td>6</td>\n",
       "      <td>Restaurant</td>\n",
       "      <td>DA0922689</td>\n",
       "      <td>214.0</td>\n",
       "      <td>Major</td>\n",
       "      <td>Nevada</td>\n",
       "      <td>215.0</td>\n",
       "      <td>Major</td>\n",
       "      <td>Test</td>\n",
       "    </tr>\n",
       "    <tr>\n",
       "      <th>7501</th>\n",
       "      <td>Las Vegas</td>\n",
       "      <td>6.0</td>\n",
       "      <td>A</td>\n",
       "      <td>25.409139</td>\n",
       "      <td>214.0</td>\n",
       "      <td>Major</td>\n",
       "      <td>5</td>\n",
       "      <td>Re-inspection</td>\n",
       "      <td>31.688779</td>\n",
       "      <td>3.453527</td>\n",
       "      <td>0</td>\n",
       "      <td>3</td>\n",
       "      <td>Restaurant</td>\n",
       "      <td>DA1031095</td>\n",
       "      <td>229.0</td>\n",
       "      <td>Non-Major</td>\n",
       "      <td>Nevada</td>\n",
       "      <td>233.0</td>\n",
       "      <td>Non-Major</td>\n",
       "      <td>Test</td>\n",
       "    </tr>\n",
       "    <tr>\n",
       "      <th>7502</th>\n",
       "      <td>North Las Vegas</td>\n",
       "      <td>8.0</td>\n",
       "      <td>A</td>\n",
       "      <td>16.694861</td>\n",
       "      <td>13.0</td>\n",
       "      <td>Major</td>\n",
       "      <td>13</td>\n",
       "      <td>Routine Inspection</td>\n",
       "      <td>26.272563</td>\n",
       "      <td>3.070719</td>\n",
       "      <td>0</td>\n",
       "      <td>3</td>\n",
       "      <td>Portable Unit</td>\n",
       "      <td>DA0633450</td>\n",
       "      <td>28.0</td>\n",
       "      <td>Non-Major</td>\n",
       "      <td>Nevada</td>\n",
       "      <td>113.0</td>\n",
       "      <td>Major</td>\n",
       "      <td>Test</td>\n",
       "    </tr>\n",
       "    <tr>\n",
       "      <th>7503</th>\n",
       "      <td>Las Vegas</td>\n",
       "      <td>3.0</td>\n",
       "      <td>A</td>\n",
       "      <td>25.367641</td>\n",
       "      <td>212.0</td>\n",
       "      <td>Major</td>\n",
       "      <td>8</td>\n",
       "      <td>Routine Inspection</td>\n",
       "      <td>19.612605</td>\n",
       "      <td>6.637496</td>\n",
       "      <td>0</td>\n",
       "      <td>4</td>\n",
       "      <td>Bar / Tavern</td>\n",
       "      <td>DA0998980</td>\n",
       "      <td>214.0</td>\n",
       "      <td>Major</td>\n",
       "      <td>Nevada</td>\n",
       "      <td>231.0</td>\n",
       "      <td>Non-Major</td>\n",
       "      <td>Test</td>\n",
       "    </tr>\n",
       "    <tr>\n",
       "      <th>7504</th>\n",
       "      <td>Las Vegas</td>\n",
       "      <td>9.0</td>\n",
       "      <td>A</td>\n",
       "      <td>11.466460</td>\n",
       "      <td>211.0</td>\n",
       "      <td>Major</td>\n",
       "      <td>15</td>\n",
       "      <td>Routine Inspection</td>\n",
       "      <td>26.525109</td>\n",
       "      <td>6.044159</td>\n",
       "      <td>0</td>\n",
       "      <td>5</td>\n",
       "      <td>Restaurant</td>\n",
       "      <td>DA0831126</td>\n",
       "      <td>214.0</td>\n",
       "      <td>Major</td>\n",
       "      <td>Nevada</td>\n",
       "      <td>228.0</td>\n",
       "      <td>Non-Major</td>\n",
       "      <td>Test</td>\n",
       "    </tr>\n",
       "  </tbody>\n",
       "</table>\n",
       "<p>23178 rows × 20 columns</p>\n",
       "</div>"
      ],
      "text/plain": [
       "                 CITY  CURRENT_DEMERITS CURRENT_GRADE  EMPLOYEE_COUNT  \\\n",
       "0           Las Vegas               0.0             A       25.000000   \n",
       "1           Las Vegas               3.0             A        7.000000   \n",
       "2           Las Vegas               8.0             A       23.000000   \n",
       "3           Las Vegas               0.0             A       14.000000   \n",
       "4           Las Vegas               0.0             A       10.000000   \n",
       "...               ...               ...           ...             ...   \n",
       "7500        Las Vegas               0.0             A       15.230494   \n",
       "7501        Las Vegas               6.0             A       25.409139   \n",
       "7502  North Las Vegas               8.0             A       16.694861   \n",
       "7503        Las Vegas               3.0             A       25.367641   \n",
       "7504        Las Vegas               9.0             A       11.466460   \n",
       "\n",
       "      FIRST_VIOLATION FIRST_VIOLATION_TYPE INSPECTION_DEMERITS  \\\n",
       "0               204.0             Critical                  11   \n",
       "1               214.0                Major                   9   \n",
       "2               202.0             Critical                   9   \n",
       "3               214.0                Major                   5   \n",
       "4               214.0                Major                   5   \n",
       "...               ...                  ...                 ...   \n",
       "7500            202.0             Critical                  20   \n",
       "7501            214.0                Major                   5   \n",
       "7502             13.0                Major                  13   \n",
       "7503            212.0                Major                   8   \n",
       "7504            211.0                Major                  15   \n",
       "\n",
       "         INSPECTION_TYPE  MEDIAN_EMPLOYEE_AGE  MEDIAN_EMPLOYEE_TENURE  \\\n",
       "0     Routine Inspection            27.959983               13.004886   \n",
       "1     Routine Inspection            27.719365                3.922086   \n",
       "2     Routine Inspection            26.442637               10.312777   \n",
       "3     Routine Inspection            33.988293                4.163975   \n",
       "4     Routine Inspection            21.980282               13.462786   \n",
       "...                  ...                  ...                     ...   \n",
       "7500  Routine Inspection            33.780673                4.008016   \n",
       "7501       Re-inspection            31.688779                3.453527   \n",
       "7502  Routine Inspection            26.272563                3.070719   \n",
       "7503  Routine Inspection            19.612605                6.637496   \n",
       "7504  Routine Inspection            26.525109                6.044159   \n",
       "\n",
       "     NEXT_INSPECTION_GRADE_C_OR_BELOW NUMBER_OF_VIOLATIONS  \\\n",
       "0                                   0                    4   \n",
       "1                                   0                    5   \n",
       "2                                   1                    3   \n",
       "3                                   0                    3   \n",
       "4                                   0                  NaN   \n",
       "...                               ...                  ...   \n",
       "7500                                0                    6   \n",
       "7501                                0                    3   \n",
       "7502                                0                    3   \n",
       "7503                                0                    4   \n",
       "7504                                0                    5   \n",
       "\n",
       "            RESTAURANT_CATEGORY RESTAURANT_SERIAL_NUMBER  SECOND_VIOLATION  \\\n",
       "0                     Snack Bar                DA1117270             215.0   \n",
       "1                    Restaurant                DA1014948             216.0   \n",
       "2                    Restaurant                DA0861994             215.0   \n",
       "3     Elementary School Kitchen                DA0896719             230.0   \n",
       "4                  Bar / Tavern                DA1031041             230.0   \n",
       "...                         ...                      ...               ...   \n",
       "7500                 Restaurant                DA0922689             214.0   \n",
       "7501                 Restaurant                DA1031095             229.0   \n",
       "7502              Portable Unit                DA0633450              28.0   \n",
       "7503               Bar / Tavern                DA0998980             214.0   \n",
       "7504                 Restaurant                DA0831126             214.0   \n",
       "\n",
       "     SECOND_VIOLATION_TYPE   STATE  THIRD_VIOLATION    THIRD_VIOLATION_TYPE  \\\n",
       "0                    Major  Nevada            302.0  Imminent Health Hazard   \n",
       "1                    Major  Nevada            229.0               Non-Major   \n",
       "2                    Major  Nevada            233.0               Non-Major   \n",
       "3                Non-Major  Nevada            233.0               Non-Major   \n",
       "4                Non-Major  Nevada            233.0               Non-Major   \n",
       "...                    ...     ...              ...                     ...   \n",
       "7500                 Major  Nevada            215.0                   Major   \n",
       "7501             Non-Major  Nevada            233.0               Non-Major   \n",
       "7502             Non-Major  Nevada            113.0                   Major   \n",
       "7503                 Major  Nevada            231.0               Non-Major   \n",
       "7504                 Major  Nevada            228.0               Non-Major   \n",
       "\n",
       "     ds_type  \n",
       "0      Train  \n",
       "1      Train  \n",
       "2      Train  \n",
       "3      Train  \n",
       "4      Train  \n",
       "...      ...  \n",
       "7500    Test  \n",
       "7501    Test  \n",
       "7502    Test  \n",
       "7503    Test  \n",
       "7504    Test  \n",
       "\n",
       "[23178 rows x 20 columns]"
      ]
     },
     "execution_count": 561,
     "metadata": {},
     "output_type": "execute_result"
    }
   ],
   "source": [
    "df"
   ]
  },
  {
   "cell_type": "code",
   "execution_count": 562,
   "metadata": {},
   "outputs": [
    {
     "data": {
      "text/plain": [
       "CURRENT_GRADE                       310\n",
       "MEDIAN_EMPLOYEE_TENURE              297\n",
       "SECOND_VIOLATION_TYPE               267\n",
       "INSPECTION_DEMERITS                 254\n",
       "CITY                                239\n",
       "INSPECTION_TYPE                     221\n",
       "CURRENT_DEMERITS                    216\n",
       "FIRST_VIOLATION                     212\n",
       "STATE                               209\n",
       "THIRD_VIOLATION_TYPE                173\n",
       "NUMBER_OF_VIOLATIONS                169\n",
       "FIRST_VIOLATION_TYPE                146\n",
       "RESTAURANT_CATEGORY                 130\n",
       "EMPLOYEE_COUNT                       93\n",
       "SECOND_VIOLATION                     85\n",
       "THIRD_VIOLATION                      61\n",
       "NEXT_INSPECTION_GRADE_C_OR_BELOW     40\n",
       "MEDIAN_EMPLOYEE_AGE                  34\n",
       "RESTAURANT_SERIAL_NUMBER              0\n",
       "ds_type                               0\n",
       "dtype: int64"
      ]
     },
     "execution_count": 562,
     "metadata": {},
     "output_type": "execute_result"
    }
   ],
   "source": [
    "df.isnull().sum().sort_values(ascending=False)"
   ]
  },
  {
   "cell_type": "code",
   "execution_count": 563,
   "metadata": {},
   "outputs": [],
   "source": [
    "df_no_null = df.dropna() # we drop the null values"
   ]
  },
  {
   "cell_type": "code",
   "execution_count": 564,
   "metadata": {},
   "outputs": [
    {
     "data": {
      "text/plain": [
       "CITY                                0\n",
       "CURRENT_DEMERITS                    0\n",
       "THIRD_VIOLATION_TYPE                0\n",
       "THIRD_VIOLATION                     0\n",
       "STATE                               0\n",
       "SECOND_VIOLATION_TYPE               0\n",
       "SECOND_VIOLATION                    0\n",
       "RESTAURANT_SERIAL_NUMBER            0\n",
       "RESTAURANT_CATEGORY                 0\n",
       "NUMBER_OF_VIOLATIONS                0\n",
       "NEXT_INSPECTION_GRADE_C_OR_BELOW    0\n",
       "MEDIAN_EMPLOYEE_TENURE              0\n",
       "MEDIAN_EMPLOYEE_AGE                 0\n",
       "INSPECTION_TYPE                     0\n",
       "INSPECTION_DEMERITS                 0\n",
       "FIRST_VIOLATION_TYPE                0\n",
       "FIRST_VIOLATION                     0\n",
       "EMPLOYEE_COUNT                      0\n",
       "CURRENT_GRADE                       0\n",
       "ds_type                             0\n",
       "dtype: int64"
      ]
     },
     "execution_count": 564,
     "metadata": {},
     "output_type": "execute_result"
    }
   ],
   "source": [
    "df_no_null.isnull().sum().sort_values(ascending=False)"
   ]
  },
  {
   "cell_type": "code",
   "execution_count": 565,
   "metadata": {},
   "outputs": [
    {
     "name": "stdout",
     "output_type": "stream",
     "text": [
      "(23178, 20) (20274, 20)\n"
     ]
    }
   ],
   "source": [
    "print(df.shape, df_no_null.shape)"
   ]
  },
  {
   "cell_type": "code",
   "execution_count": 567,
   "metadata": {},
   "outputs": [
    {
     "data": {
      "text/plain": [
       "Las Vegas                16231\n",
       "Henderson                 1955\n",
       "North Las Vegas           1225\n",
       "Laughlin                   252\n",
       "Mesquite                   202\n",
       "Boulder City               175\n",
       "Primm                      131\n",
       "Indian Springs              16\n",
       "Overton                     13\n",
       "Logandale                   12\n",
       "Searchlight                 12\n",
       "Jean                         9\n",
       "Saskatoon                    8\n",
       "Blue Diamond                 7\n",
       "New York                     6\n",
       "Sandy Valley                 4\n",
       "Moapa                        4\n",
       "Goodsprings                  3\n",
       "Cal-Nev-Ari                  2\n",
       "Port of Spain                1\n",
       "HendeSON                     1\n",
       "Jellystone Park              1\n",
       "Truth or Consequences        1\n",
       "Walla Walla                  1\n",
       "Deep Space Nine              1\n",
       "Clark County                 1\n",
       "Name: CITY, dtype: int64"
      ]
     },
     "execution_count": 567,
     "metadata": {},
     "output_type": "execute_result"
    }
   ],
   "source": [
    "df_no_null.CITY.value_counts()"
   ]
  },
  {
   "cell_type": "code",
   "execution_count": 570,
   "metadata": {},
   "outputs": [
    {
     "data": {
      "text/plain": [
       "Routine Inspection                     19111\n",
       "Re-inspection                           1157\n",
       "Routine Non-Inspection                     2\n",
       "This Value Intentionally Left Blank        1\n",
       "9/20/2011 14:25                            1\n",
       "Gordon Ramsay Visit                        1\n",
       "Epidemiological Investigation              1\n",
       "Name: INSPECTION_TYPE, dtype: int64"
      ]
     },
     "execution_count": 570,
     "metadata": {},
     "output_type": "execute_result"
    }
   ],
   "source": [
    "df_no_null.INSPECTION_TYPE.value_counts() \n",
    "\n",
    "# Assume that we have two types (\"Routine Inspection\", \"Re-inspection\") so the others are outliers."
   ]
  },
  {
   "cell_type": "code",
   "execution_count": 571,
   "metadata": {},
   "outputs": [],
   "source": [
    "df_no_null = df_no_null[df_no_null['INSPECTION_TYPE'].isin([\"Routine Inspection\", \"Re-inspection\"])]\n",
    "# \"Routine Inspection\", \"Re-inspection\""
   ]
  },
  {
   "cell_type": "code",
   "execution_count": 572,
   "metadata": {},
   "outputs": [
    {
     "data": {
      "text/plain": [
       "Routine Inspection    19111\n",
       "Re-inspection          1157\n",
       "Name: INSPECTION_TYPE, dtype: int64"
      ]
     },
     "execution_count": 572,
     "metadata": {},
     "output_type": "execute_result"
    }
   ],
   "source": [
    "df_no_null.INSPECTION_TYPE.value_counts() "
   ]
  },
  {
   "cell_type": "code",
   "execution_count": 573,
   "metadata": {},
   "outputs": [
    {
     "data": {
      "text/plain": [
       "A           19669\n",
       "B             293\n",
       "C             136\n",
       "X              88\n",
       "O              52\n",
       "N              20\n",
       "K               1\n",
       "A+              1\n",
       "U               1\n",
       "I               1\n",
       "EIEIO           1\n",
       "UPN             1\n",
       "VPN             1\n",
       "7               1\n",
       "VVVVVV          1\n",
       "Elephant        1\n",
       "Name: CURRENT_GRADE, dtype: int64"
      ]
     },
     "execution_count": 573,
     "metadata": {},
     "output_type": "execute_result"
    }
   ],
   "source": [
    "df_no_null.CURRENT_GRADE.value_counts()\n",
    "\n",
    "# Assume that we have six types (\"A\", \"B\", \"C\", \"X\", \"O\", \"N\") so the others are outliers."
   ]
  },
  {
   "cell_type": "code",
   "execution_count": 574,
   "metadata": {},
   "outputs": [],
   "source": [
    "df_no_null = df_no_null[df_no_null['CURRENT_GRADE'].isin([\"A\", \"B\", \"C\", \"X\", \"O\", \"N\"])]\n",
    "# \"A\", \"B\", \"C\", \"X\", \"O\", \"N\""
   ]
  },
  {
   "cell_type": "code",
   "execution_count": 575,
   "metadata": {},
   "outputs": [
    {
     "data": {
      "text/plain": [
       "A    19669\n",
       "B      293\n",
       "C      136\n",
       "X       88\n",
       "O       52\n",
       "N       20\n",
       "Name: CURRENT_GRADE, dtype: int64"
      ]
     },
     "execution_count": 575,
     "metadata": {},
     "output_type": "execute_result"
    }
   ],
   "source": [
    "df_no_null.CURRENT_GRADE.value_counts()"
   ]
  },
  {
   "cell_type": "code",
   "execution_count": 576,
   "metadata": {},
   "outputs": [
    {
     "data": {
      "text/plain": [
       "0     18210\n",
       "1      2046\n",
       "-3        1\n",
       "7         1\n",
       "Name: NEXT_INSPECTION_GRADE_C_OR_BELOW, dtype: int64"
      ]
     },
     "execution_count": 576,
     "metadata": {},
     "output_type": "execute_result"
    }
   ],
   "source": [
    "df_no_null.NEXT_INSPECTION_GRADE_C_OR_BELOW.value_counts()"
   ]
  },
  {
   "cell_type": "code",
   "execution_count": 577,
   "metadata": {},
   "outputs": [],
   "source": [
    "df_no_null = df_no_null[df_no_null['NEXT_INSPECTION_GRADE_C_OR_BELOW'].isin([\"0\", \"1\"])]"
   ]
  },
  {
   "cell_type": "code",
   "execution_count": 578,
   "metadata": {},
   "outputs": [
    {
     "data": {
      "text/plain": [
       "0    18210\n",
       "1     2046\n",
       "Name: NEXT_INSPECTION_GRADE_C_OR_BELOW, dtype: int64"
      ]
     },
     "execution_count": 578,
     "metadata": {},
     "output_type": "execute_result"
    }
   ],
   "source": [
    "df_no_null.NEXT_INSPECTION_GRADE_C_OR_BELOW.value_counts()\n",
    "\n",
    "# # Assume that we have two types ( 0 , 1) so the others are outliers."
   ]
  },
  {
   "cell_type": "code",
   "execution_count": 579,
   "metadata": {},
   "outputs": [],
   "source": [
    "# these are assumptions about other columns\n",
    "\n",
    "df_no_null = df_no_null[(0 < df_no_null['FIRST_VIOLATION']) &  (df_no_null['FIRST_VIOLATION'] < 311)] \n",
    "\n",
    "df_no_null = df_no_null[(0 < df_no_null['SECOND_VIOLATION']) &  (df_no_null['SECOND_VIOLATION'] < 311)] \n",
    "\n",
    "df_no_null = df_no_null[(0 < df_no_null['THIRD_VIOLATION']) &  (df_no_null['THIRD_VIOLATION'] < 311)] \n",
    "\n",
    "df_no_null = df_no_null[(0 <= df_no_null['CURRENT_DEMERITS']) &  (df_no_null['CURRENT_DEMERITS'] < 200)]  \n",
    "\n",
    "df_no_null = df_no_null[(0 < df_no_null['EMPLOYEE_COUNT']) &  (df_no_null['EMPLOYEE_COUNT'] < 100)]"
   ]
  },
  {
   "cell_type": "code",
   "execution_count": 580,
   "metadata": {},
   "outputs": [
    {
     "data": {
      "text/plain": [
       "Nevada        20237\n",
       "SK                5\n",
       "Star Trek         1\n",
       "Washington        1\n",
       "New Mexico        1\n",
       "Montana           1\n",
       "TT                1\n",
       "NeVaDa            1\n",
       "Nevada?           1\n",
       "Name: STATE, dtype: int64"
      ]
     },
     "execution_count": 580,
     "metadata": {},
     "output_type": "execute_result"
    }
   ],
   "source": [
    "df_no_null.STATE.value_counts()\n",
    "\n",
    "# Assuming that we select \"Nevada\""
   ]
  },
  {
   "cell_type": "code",
   "execution_count": 581,
   "metadata": {},
   "outputs": [],
   "source": [
    "df_no_null = df_no_null[df_no_null['STATE']=='Nevada']\n",
    "# Assuming that we select \"Nevada\""
   ]
  },
  {
   "cell_type": "code",
   "execution_count": 582,
   "metadata": {},
   "outputs": [
    {
     "data": {
      "text/plain": [
       "Nevada    20237\n",
       "Name: STATE, dtype: int64"
      ]
     },
     "execution_count": 582,
     "metadata": {},
     "output_type": "execute_result"
    }
   ],
   "source": [
    "df_no_null.STATE.value_counts()"
   ]
  },
  {
   "cell_type": "code",
   "execution_count": 583,
   "metadata": {},
   "outputs": [],
   "source": [
    "from sklearn import preprocessing"
   ]
  },
  {
   "cell_type": "code",
   "execution_count": 584,
   "metadata": {},
   "outputs": [],
   "source": [
    "# We discard the outliers so we can use we use MinMaxScaler.\n",
    " \n",
    "#from sklearn.preprocessing import MinMaxScaler\n",
    "\n",
    "from sklearn import preprocessing\n",
    "\n",
    "df_disc = pd.DataFrame()\n",
    "    \n",
    "    # Discretization\n",
    "for i in continuous_features: \n",
    "    # continuous_features = ['MEDIAN_EMPLOYEE_AGE', 'MEDIAN_EMPLOYEE_TENURE']\n",
    "    \n",
    "    disc = pd.cut(df_no_null[i], bins=10, labels=np.arange(10), right=False)\n",
    "    df_disc = pd.concat([df_disc, disc], axis=1)\n",
    "        \n",
    "    # Concatenate numeric features and discretized features\n",
    "for i in numeric_feactures: \n",
    "    #numeric_feactures = ['CURRENT_DEMERITS', 'EMPLOYEE_COUNT', 'INSPECTION_DEMERITS', 'NUMBER_OF_VIOLATIONS']\n",
    "    \n",
    "    df_disc = pd.concat([df_disc, df_no_null[i]], axis=1)    \n",
    "        \n",
    "# Normalization\n",
    "#x = df_disc.values #returns a numpy array\n",
    "#min_max_scaler = MinMaxScaler()\n",
    "#x_scaled = min_max_scaler.fit_transform(x)\n",
    "\n",
    "x = df_disc.values #returns a numpy array\n",
    "min_max_scaler = preprocessing.MinMaxScaler()\n",
    "x_scaled = min_max_scaler.fit_transform(x)"
   ]
  },
  {
   "cell_type": "code",
   "execution_count": null,
   "metadata": {},
   "outputs": [],
   "source": []
  },
  {
   "cell_type": "code",
   "execution_count": 585,
   "metadata": {},
   "outputs": [
    {
     "data": {
      "text/plain": [
       "Train    15673\n",
       "Test      7505\n",
       "Name: ds_type, dtype: int64"
      ]
     },
     "execution_count": 585,
     "metadata": {},
     "output_type": "execute_result"
    }
   ],
   "source": [
    "df.ds_type.value_counts()"
   ]
  },
  {
   "cell_type": "code",
   "execution_count": 586,
   "metadata": {},
   "outputs": [],
   "source": [
    "# binarizing the nominal features.\n",
    "\n",
    "\"\"\" nominal_features = ['RESTAURANT_CATEGORY', 'CITY', 'STATE', 'CURRENT_GRADE',\n",
    "                    'INSPECTION_TYPE','FIRST_VIOLATION', 'SECOND_VIOLATION',\n",
    "                    'THIRD_VIOLATION','FIRST_VIOLATION_TYPE','SECOND_VIOLATION_TYPE','THIRD_VIOLATION_TYPE']\n",
    "\n",
    "\"\"\"\n",
    "\n",
    "restaurant_category = pd.get_dummies(df_no_null[\"RESTAURANT_CATEGORY\"], drop_first=True)\n",
    "\n",
    "city = pd.get_dummies(df_no_null[\"CITY\"], drop_first=True)\n",
    "\n",
    "state = pd.get_dummies(df_no_null[\"STATE\"], drop_first=True)\n",
    "\n",
    "current_grade = pd.get_dummies(df_no_null[\"CURRENT_GRADE\"], drop_first=True)\n",
    "\n",
    "inspection_type = pd.get_dummies(df_no_null[\"INSPECTION_TYPE\"], drop_first=True)\n",
    "\n",
    "first_violation = pd.get_dummies(df_no_null[\"FIRST_VIOLATION\"], drop_first=True)\n",
    "\n",
    "second_violation = pd.get_dummies(df_no_null[\"SECOND_VIOLATION\"], drop_first=True)\n",
    "\n",
    "third_violation = pd.get_dummies(df_no_null[\"THIRD_VIOLATION\"], drop_first=True)\n",
    "\n",
    "first_violation_type = pd.get_dummies(df_no_null[\"FIRST_VIOLATION_TYPE\"], drop_first=True)\n",
    "\n",
    "second_violation_type = pd.get_dummies(df_no_null[\"SECOND_VIOLATION_TYPE\"], drop_first=True)\n",
    "\n",
    "third_violation_type = pd.get_dummies(df_no_null[\"THIRD_VIOLATION_TYPE\"], drop_first=True)"
   ]
  },
  {
   "cell_type": "code",
   "execution_count": 587,
   "metadata": {},
   "outputs": [],
   "source": [
    "df_no_null = pd.concat([df_no_null, restaurant_category, city, state, current_grade, inspection_type, first_violation, second_violation, third_violation, first_violation_type, second_violation_type, third_violation_type ], axis=1)"
   ]
  },
  {
   "cell_type": "code",
   "execution_count": 588,
   "metadata": {},
   "outputs": [],
   "source": [
    "df_no_null = df_no_null.drop(['RESTAURANT_CATEGORY', 'CITY', 'STATE', 'CURRENT_GRADE', 'INSPECTION_TYPE', 'FIRST_VIOLATION', 'SECOND_VIOLATION', 'THIRD_VIOLATION', 'FIRST_VIOLATION_TYPE', 'SECOND_VIOLATION_TYPE', 'THIRD_VIOLATION_TYPE' ], axis=1)"
   ]
  },
  {
   "cell_type": "code",
   "execution_count": 589,
   "metadata": {},
   "outputs": [
    {
     "data": {
      "text/html": [
       "<div>\n",
       "<style scoped>\n",
       "    .dataframe tbody tr th:only-of-type {\n",
       "        vertical-align: middle;\n",
       "    }\n",
       "\n",
       "    .dataframe tbody tr th {\n",
       "        vertical-align: top;\n",
       "    }\n",
       "\n",
       "    .dataframe thead th {\n",
       "        text-align: right;\n",
       "    }\n",
       "</style>\n",
       "<table border=\"1\" class=\"dataframe\">\n",
       "  <thead>\n",
       "    <tr style=\"text-align: right;\">\n",
       "      <th></th>\n",
       "      <th>CURRENT_DEMERITS</th>\n",
       "      <th>EMPLOYEE_COUNT</th>\n",
       "      <th>INSPECTION_DEMERITS</th>\n",
       "      <th>MEDIAN_EMPLOYEE_AGE</th>\n",
       "      <th>MEDIAN_EMPLOYEE_TENURE</th>\n",
       "      <th>NEXT_INSPECTION_GRADE_C_OR_BELOW</th>\n",
       "      <th>NUMBER_OF_VIOLATIONS</th>\n",
       "      <th>RESTAURANT_SERIAL_NUMBER</th>\n",
       "      <th>ds_type</th>\n",
       "      <th>Banquet Kitchen</th>\n",
       "      <th>...</th>\n",
       "      <th>Non-Major</th>\n",
       "      <th>Critical</th>\n",
       "      <th>Imminent Health Hazard</th>\n",
       "      <th>Major</th>\n",
       "      <th>Non-Major</th>\n",
       "      <th>Supercritical</th>\n",
       "      <th>Illogical</th>\n",
       "      <th>Imminent Health Hazard</th>\n",
       "      <th>Major</th>\n",
       "      <th>Non-Major</th>\n",
       "    </tr>\n",
       "  </thead>\n",
       "  <tbody>\n",
       "    <tr>\n",
       "      <th>0</th>\n",
       "      <td>0.0</td>\n",
       "      <td>25.0</td>\n",
       "      <td>11</td>\n",
       "      <td>27.959983</td>\n",
       "      <td>13.004886</td>\n",
       "      <td>0</td>\n",
       "      <td>4</td>\n",
       "      <td>DA1117270</td>\n",
       "      <td>Train</td>\n",
       "      <td>0</td>\n",
       "      <td>...</td>\n",
       "      <td>0</td>\n",
       "      <td>0</td>\n",
       "      <td>0</td>\n",
       "      <td>1</td>\n",
       "      <td>0</td>\n",
       "      <td>0</td>\n",
       "      <td>0</td>\n",
       "      <td>1</td>\n",
       "      <td>0</td>\n",
       "      <td>0</td>\n",
       "    </tr>\n",
       "    <tr>\n",
       "      <th>1</th>\n",
       "      <td>3.0</td>\n",
       "      <td>7.0</td>\n",
       "      <td>9</td>\n",
       "      <td>27.719365</td>\n",
       "      <td>3.922086</td>\n",
       "      <td>0</td>\n",
       "      <td>5</td>\n",
       "      <td>DA1014948</td>\n",
       "      <td>Train</td>\n",
       "      <td>0</td>\n",
       "      <td>...</td>\n",
       "      <td>0</td>\n",
       "      <td>0</td>\n",
       "      <td>0</td>\n",
       "      <td>1</td>\n",
       "      <td>0</td>\n",
       "      <td>0</td>\n",
       "      <td>0</td>\n",
       "      <td>0</td>\n",
       "      <td>0</td>\n",
       "      <td>1</td>\n",
       "    </tr>\n",
       "    <tr>\n",
       "      <th>2</th>\n",
       "      <td>8.0</td>\n",
       "      <td>23.0</td>\n",
       "      <td>9</td>\n",
       "      <td>26.442637</td>\n",
       "      <td>10.312777</td>\n",
       "      <td>1</td>\n",
       "      <td>3</td>\n",
       "      <td>DA0861994</td>\n",
       "      <td>Train</td>\n",
       "      <td>0</td>\n",
       "      <td>...</td>\n",
       "      <td>0</td>\n",
       "      <td>0</td>\n",
       "      <td>0</td>\n",
       "      <td>1</td>\n",
       "      <td>0</td>\n",
       "      <td>0</td>\n",
       "      <td>0</td>\n",
       "      <td>0</td>\n",
       "      <td>0</td>\n",
       "      <td>1</td>\n",
       "    </tr>\n",
       "    <tr>\n",
       "      <th>3</th>\n",
       "      <td>0.0</td>\n",
       "      <td>14.0</td>\n",
       "      <td>5</td>\n",
       "      <td>33.988293</td>\n",
       "      <td>4.163975</td>\n",
       "      <td>0</td>\n",
       "      <td>3</td>\n",
       "      <td>DA0896719</td>\n",
       "      <td>Train</td>\n",
       "      <td>0</td>\n",
       "      <td>...</td>\n",
       "      <td>0</td>\n",
       "      <td>0</td>\n",
       "      <td>0</td>\n",
       "      <td>0</td>\n",
       "      <td>1</td>\n",
       "      <td>0</td>\n",
       "      <td>0</td>\n",
       "      <td>0</td>\n",
       "      <td>0</td>\n",
       "      <td>1</td>\n",
       "    </tr>\n",
       "    <tr>\n",
       "      <th>5</th>\n",
       "      <td>3.0</td>\n",
       "      <td>43.0</td>\n",
       "      <td>17</td>\n",
       "      <td>25.947206</td>\n",
       "      <td>3.839934</td>\n",
       "      <td>0</td>\n",
       "      <td>7</td>\n",
       "      <td>DA1567561</td>\n",
       "      <td>Train</td>\n",
       "      <td>0</td>\n",
       "      <td>...</td>\n",
       "      <td>0</td>\n",
       "      <td>0</td>\n",
       "      <td>0</td>\n",
       "      <td>1</td>\n",
       "      <td>0</td>\n",
       "      <td>0</td>\n",
       "      <td>0</td>\n",
       "      <td>0</td>\n",
       "      <td>1</td>\n",
       "      <td>0</td>\n",
       "    </tr>\n",
       "  </tbody>\n",
       "</table>\n",
       "<p>5 rows × 295 columns</p>\n",
       "</div>"
      ],
      "text/plain": [
       "   CURRENT_DEMERITS  EMPLOYEE_COUNT INSPECTION_DEMERITS  MEDIAN_EMPLOYEE_AGE  \\\n",
       "0               0.0            25.0                  11            27.959983   \n",
       "1               3.0             7.0                   9            27.719365   \n",
       "2               8.0            23.0                   9            26.442637   \n",
       "3               0.0            14.0                   5            33.988293   \n",
       "5               3.0            43.0                  17            25.947206   \n",
       "\n",
       "   MEDIAN_EMPLOYEE_TENURE NEXT_INSPECTION_GRADE_C_OR_BELOW  \\\n",
       "0               13.004886                                0   \n",
       "1                3.922086                                0   \n",
       "2               10.312777                                1   \n",
       "3                4.163975                                0   \n",
       "5                3.839934                                0   \n",
       "\n",
       "  NUMBER_OF_VIOLATIONS RESTAURANT_SERIAL_NUMBER ds_type  Banquet Kitchen  ...  \\\n",
       "0                    4                DA1117270   Train                0  ...   \n",
       "1                    5                DA1014948   Train                0  ...   \n",
       "2                    3                DA0861994   Train                0  ...   \n",
       "3                    3                DA0896719   Train                0  ...   \n",
       "5                    7                DA1567561   Train                0  ...   \n",
       "\n",
       "   Non-Major  Critical  Imminent Health Hazard  Major  Non-Major  \\\n",
       "0          0         0                       0      1          0   \n",
       "1          0         0                       0      1          0   \n",
       "2          0         0                       0      1          0   \n",
       "3          0         0                       0      0          1   \n",
       "5          0         0                       0      1          0   \n",
       "\n",
       "   Supercritical  Illogical  Imminent Health Hazard  Major  Non-Major  \n",
       "0              0          0                       1      0          0  \n",
       "1              0          0                       0      0          1  \n",
       "2              0          0                       0      0          1  \n",
       "3              0          0                       0      0          1  \n",
       "5              0          0                       0      1          0  \n",
       "\n",
       "[5 rows x 295 columns]"
      ]
     },
     "execution_count": 589,
     "metadata": {},
     "output_type": "execute_result"
    }
   ],
   "source": [
    "df_no_null.head()"
   ]
  },
  {
   "cell_type": "code",
   "execution_count": null,
   "metadata": {},
   "outputs": [],
   "source": [
    "# we have just RESTAURANT_SERIAL_NUMBER as a object type.\n",
    "# This is a unique column. So we just split this column after we will add the last section."
   ]
  },
  {
   "cell_type": "code",
   "execution_count": 594,
   "metadata": {},
   "outputs": [],
   "source": [
    "RESTAURANT_SERIAL_NUMBER = df_no_null[\"RESTAURANT_SERIAL_NUMBER\"]"
   ]
  },
  {
   "cell_type": "code",
   "execution_count": 595,
   "metadata": {},
   "outputs": [
    {
     "data": {
      "text/plain": [
       "0    DA1117270\n",
       "1    DA1014948\n",
       "2    DA0861994\n",
       "3    DA0896719\n",
       "5    DA1567561\n",
       "Name: RESTAURANT_SERIAL_NUMBER, dtype: object"
      ]
     },
     "execution_count": 595,
     "metadata": {},
     "output_type": "execute_result"
    }
   ],
   "source": [
    "RESTAURANT_SERIAL_NUMBER.head()"
   ]
  },
  {
   "cell_type": "code",
   "execution_count": 596,
   "metadata": {},
   "outputs": [],
   "source": [
    "df2 = df_no_null.drop(['RESTAURANT_SERIAL_NUMBER'], axis=1) # df den devam edersin"
   ]
  },
  {
   "cell_type": "code",
   "execution_count": 597,
   "metadata": {},
   "outputs": [
    {
     "data": {
      "text/html": [
       "<div>\n",
       "<style scoped>\n",
       "    .dataframe tbody tr th:only-of-type {\n",
       "        vertical-align: middle;\n",
       "    }\n",
       "\n",
       "    .dataframe tbody tr th {\n",
       "        vertical-align: top;\n",
       "    }\n",
       "\n",
       "    .dataframe thead th {\n",
       "        text-align: right;\n",
       "    }\n",
       "</style>\n",
       "<table border=\"1\" class=\"dataframe\">\n",
       "  <thead>\n",
       "    <tr style=\"text-align: right;\">\n",
       "      <th></th>\n",
       "      <th>CURRENT_DEMERITS</th>\n",
       "      <th>EMPLOYEE_COUNT</th>\n",
       "      <th>INSPECTION_DEMERITS</th>\n",
       "      <th>MEDIAN_EMPLOYEE_AGE</th>\n",
       "      <th>MEDIAN_EMPLOYEE_TENURE</th>\n",
       "      <th>NEXT_INSPECTION_GRADE_C_OR_BELOW</th>\n",
       "      <th>NUMBER_OF_VIOLATIONS</th>\n",
       "      <th>ds_type</th>\n",
       "      <th>Banquet Kitchen</th>\n",
       "      <th>Banquet Support</th>\n",
       "      <th>...</th>\n",
       "      <th>Non-Major</th>\n",
       "      <th>Critical</th>\n",
       "      <th>Imminent Health Hazard</th>\n",
       "      <th>Major</th>\n",
       "      <th>Non-Major</th>\n",
       "      <th>Supercritical</th>\n",
       "      <th>Illogical</th>\n",
       "      <th>Imminent Health Hazard</th>\n",
       "      <th>Major</th>\n",
       "      <th>Non-Major</th>\n",
       "    </tr>\n",
       "  </thead>\n",
       "  <tbody>\n",
       "    <tr>\n",
       "      <th>0</th>\n",
       "      <td>0.0</td>\n",
       "      <td>25.000000</td>\n",
       "      <td>11</td>\n",
       "      <td>27.959983</td>\n",
       "      <td>13.004886</td>\n",
       "      <td>0</td>\n",
       "      <td>4</td>\n",
       "      <td>Train</td>\n",
       "      <td>0</td>\n",
       "      <td>0</td>\n",
       "      <td>...</td>\n",
       "      <td>0</td>\n",
       "      <td>0</td>\n",
       "      <td>0</td>\n",
       "      <td>1</td>\n",
       "      <td>0</td>\n",
       "      <td>0</td>\n",
       "      <td>0</td>\n",
       "      <td>1</td>\n",
       "      <td>0</td>\n",
       "      <td>0</td>\n",
       "    </tr>\n",
       "    <tr>\n",
       "      <th>1</th>\n",
       "      <td>3.0</td>\n",
       "      <td>7.000000</td>\n",
       "      <td>9</td>\n",
       "      <td>27.719365</td>\n",
       "      <td>3.922086</td>\n",
       "      <td>0</td>\n",
       "      <td>5</td>\n",
       "      <td>Train</td>\n",
       "      <td>0</td>\n",
       "      <td>0</td>\n",
       "      <td>...</td>\n",
       "      <td>0</td>\n",
       "      <td>0</td>\n",
       "      <td>0</td>\n",
       "      <td>1</td>\n",
       "      <td>0</td>\n",
       "      <td>0</td>\n",
       "      <td>0</td>\n",
       "      <td>0</td>\n",
       "      <td>0</td>\n",
       "      <td>1</td>\n",
       "    </tr>\n",
       "    <tr>\n",
       "      <th>2</th>\n",
       "      <td>8.0</td>\n",
       "      <td>23.000000</td>\n",
       "      <td>9</td>\n",
       "      <td>26.442637</td>\n",
       "      <td>10.312777</td>\n",
       "      <td>1</td>\n",
       "      <td>3</td>\n",
       "      <td>Train</td>\n",
       "      <td>0</td>\n",
       "      <td>0</td>\n",
       "      <td>...</td>\n",
       "      <td>0</td>\n",
       "      <td>0</td>\n",
       "      <td>0</td>\n",
       "      <td>1</td>\n",
       "      <td>0</td>\n",
       "      <td>0</td>\n",
       "      <td>0</td>\n",
       "      <td>0</td>\n",
       "      <td>0</td>\n",
       "      <td>1</td>\n",
       "    </tr>\n",
       "    <tr>\n",
       "      <th>3</th>\n",
       "      <td>0.0</td>\n",
       "      <td>14.000000</td>\n",
       "      <td>5</td>\n",
       "      <td>33.988293</td>\n",
       "      <td>4.163975</td>\n",
       "      <td>0</td>\n",
       "      <td>3</td>\n",
       "      <td>Train</td>\n",
       "      <td>0</td>\n",
       "      <td>0</td>\n",
       "      <td>...</td>\n",
       "      <td>0</td>\n",
       "      <td>0</td>\n",
       "      <td>0</td>\n",
       "      <td>0</td>\n",
       "      <td>1</td>\n",
       "      <td>0</td>\n",
       "      <td>0</td>\n",
       "      <td>0</td>\n",
       "      <td>0</td>\n",
       "      <td>1</td>\n",
       "    </tr>\n",
       "    <tr>\n",
       "      <th>5</th>\n",
       "      <td>3.0</td>\n",
       "      <td>43.000000</td>\n",
       "      <td>17</td>\n",
       "      <td>25.947206</td>\n",
       "      <td>3.839934</td>\n",
       "      <td>0</td>\n",
       "      <td>7</td>\n",
       "      <td>Train</td>\n",
       "      <td>0</td>\n",
       "      <td>0</td>\n",
       "      <td>...</td>\n",
       "      <td>0</td>\n",
       "      <td>0</td>\n",
       "      <td>0</td>\n",
       "      <td>1</td>\n",
       "      <td>0</td>\n",
       "      <td>0</td>\n",
       "      <td>0</td>\n",
       "      <td>0</td>\n",
       "      <td>1</td>\n",
       "      <td>0</td>\n",
       "    </tr>\n",
       "    <tr>\n",
       "      <th>...</th>\n",
       "      <td>...</td>\n",
       "      <td>...</td>\n",
       "      <td>...</td>\n",
       "      <td>...</td>\n",
       "      <td>...</td>\n",
       "      <td>...</td>\n",
       "      <td>...</td>\n",
       "      <td>...</td>\n",
       "      <td>...</td>\n",
       "      <td>...</td>\n",
       "      <td>...</td>\n",
       "      <td>...</td>\n",
       "      <td>...</td>\n",
       "      <td>...</td>\n",
       "      <td>...</td>\n",
       "      <td>...</td>\n",
       "      <td>...</td>\n",
       "      <td>...</td>\n",
       "      <td>...</td>\n",
       "      <td>...</td>\n",
       "      <td>...</td>\n",
       "    </tr>\n",
       "    <tr>\n",
       "      <th>7500</th>\n",
       "      <td>0.0</td>\n",
       "      <td>15.230494</td>\n",
       "      <td>20</td>\n",
       "      <td>33.780673</td>\n",
       "      <td>4.008016</td>\n",
       "      <td>0</td>\n",
       "      <td>6</td>\n",
       "      <td>Test</td>\n",
       "      <td>0</td>\n",
       "      <td>0</td>\n",
       "      <td>...</td>\n",
       "      <td>0</td>\n",
       "      <td>0</td>\n",
       "      <td>0</td>\n",
       "      <td>1</td>\n",
       "      <td>0</td>\n",
       "      <td>0</td>\n",
       "      <td>0</td>\n",
       "      <td>0</td>\n",
       "      <td>1</td>\n",
       "      <td>0</td>\n",
       "    </tr>\n",
       "    <tr>\n",
       "      <th>7501</th>\n",
       "      <td>6.0</td>\n",
       "      <td>25.409139</td>\n",
       "      <td>5</td>\n",
       "      <td>31.688779</td>\n",
       "      <td>3.453527</td>\n",
       "      <td>0</td>\n",
       "      <td>3</td>\n",
       "      <td>Test</td>\n",
       "      <td>0</td>\n",
       "      <td>0</td>\n",
       "      <td>...</td>\n",
       "      <td>0</td>\n",
       "      <td>0</td>\n",
       "      <td>0</td>\n",
       "      <td>0</td>\n",
       "      <td>1</td>\n",
       "      <td>0</td>\n",
       "      <td>0</td>\n",
       "      <td>0</td>\n",
       "      <td>0</td>\n",
       "      <td>1</td>\n",
       "    </tr>\n",
       "    <tr>\n",
       "      <th>7502</th>\n",
       "      <td>8.0</td>\n",
       "      <td>16.694861</td>\n",
       "      <td>13</td>\n",
       "      <td>26.272563</td>\n",
       "      <td>3.070719</td>\n",
       "      <td>0</td>\n",
       "      <td>3</td>\n",
       "      <td>Test</td>\n",
       "      <td>0</td>\n",
       "      <td>0</td>\n",
       "      <td>...</td>\n",
       "      <td>0</td>\n",
       "      <td>0</td>\n",
       "      <td>0</td>\n",
       "      <td>0</td>\n",
       "      <td>1</td>\n",
       "      <td>0</td>\n",
       "      <td>0</td>\n",
       "      <td>0</td>\n",
       "      <td>1</td>\n",
       "      <td>0</td>\n",
       "    </tr>\n",
       "    <tr>\n",
       "      <th>7503</th>\n",
       "      <td>3.0</td>\n",
       "      <td>25.367641</td>\n",
       "      <td>8</td>\n",
       "      <td>19.612605</td>\n",
       "      <td>6.637496</td>\n",
       "      <td>0</td>\n",
       "      <td>4</td>\n",
       "      <td>Test</td>\n",
       "      <td>0</td>\n",
       "      <td>0</td>\n",
       "      <td>...</td>\n",
       "      <td>0</td>\n",
       "      <td>0</td>\n",
       "      <td>0</td>\n",
       "      <td>1</td>\n",
       "      <td>0</td>\n",
       "      <td>0</td>\n",
       "      <td>0</td>\n",
       "      <td>0</td>\n",
       "      <td>0</td>\n",
       "      <td>1</td>\n",
       "    </tr>\n",
       "    <tr>\n",
       "      <th>7504</th>\n",
       "      <td>9.0</td>\n",
       "      <td>11.466460</td>\n",
       "      <td>15</td>\n",
       "      <td>26.525109</td>\n",
       "      <td>6.044159</td>\n",
       "      <td>0</td>\n",
       "      <td>5</td>\n",
       "      <td>Test</td>\n",
       "      <td>0</td>\n",
       "      <td>0</td>\n",
       "      <td>...</td>\n",
       "      <td>0</td>\n",
       "      <td>0</td>\n",
       "      <td>0</td>\n",
       "      <td>1</td>\n",
       "      <td>0</td>\n",
       "      <td>0</td>\n",
       "      <td>0</td>\n",
       "      <td>0</td>\n",
       "      <td>0</td>\n",
       "      <td>1</td>\n",
       "    </tr>\n",
       "  </tbody>\n",
       "</table>\n",
       "<p>20237 rows × 294 columns</p>\n",
       "</div>"
      ],
      "text/plain": [
       "      CURRENT_DEMERITS  EMPLOYEE_COUNT INSPECTION_DEMERITS  \\\n",
       "0                  0.0       25.000000                  11   \n",
       "1                  3.0        7.000000                   9   \n",
       "2                  8.0       23.000000                   9   \n",
       "3                  0.0       14.000000                   5   \n",
       "5                  3.0       43.000000                  17   \n",
       "...                ...             ...                 ...   \n",
       "7500               0.0       15.230494                  20   \n",
       "7501               6.0       25.409139                   5   \n",
       "7502               8.0       16.694861                  13   \n",
       "7503               3.0       25.367641                   8   \n",
       "7504               9.0       11.466460                  15   \n",
       "\n",
       "      MEDIAN_EMPLOYEE_AGE  MEDIAN_EMPLOYEE_TENURE  \\\n",
       "0               27.959983               13.004886   \n",
       "1               27.719365                3.922086   \n",
       "2               26.442637               10.312777   \n",
       "3               33.988293                4.163975   \n",
       "5               25.947206                3.839934   \n",
       "...                   ...                     ...   \n",
       "7500            33.780673                4.008016   \n",
       "7501            31.688779                3.453527   \n",
       "7502            26.272563                3.070719   \n",
       "7503            19.612605                6.637496   \n",
       "7504            26.525109                6.044159   \n",
       "\n",
       "     NEXT_INSPECTION_GRADE_C_OR_BELOW NUMBER_OF_VIOLATIONS ds_type  \\\n",
       "0                                   0                    4   Train   \n",
       "1                                   0                    5   Train   \n",
       "2                                   1                    3   Train   \n",
       "3                                   0                    3   Train   \n",
       "5                                   0                    7   Train   \n",
       "...                               ...                  ...     ...   \n",
       "7500                                0                    6    Test   \n",
       "7501                                0                    3    Test   \n",
       "7502                                0                    3    Test   \n",
       "7503                                0                    4    Test   \n",
       "7504                                0                    5    Test   \n",
       "\n",
       "      Banquet Kitchen  Banquet Support  ...  Non-Major  Critical  \\\n",
       "0                   0                0  ...          0         0   \n",
       "1                   0                0  ...          0         0   \n",
       "2                   0                0  ...          0         0   \n",
       "3                   0                0  ...          0         0   \n",
       "5                   0                0  ...          0         0   \n",
       "...               ...              ...  ...        ...       ...   \n",
       "7500                0                0  ...          0         0   \n",
       "7501                0                0  ...          0         0   \n",
       "7502                0                0  ...          0         0   \n",
       "7503                0                0  ...          0         0   \n",
       "7504                0                0  ...          0         0   \n",
       "\n",
       "      Imminent Health Hazard  Major  Non-Major  Supercritical  Illogical  \\\n",
       "0                          0      1          0              0          0   \n",
       "1                          0      1          0              0          0   \n",
       "2                          0      1          0              0          0   \n",
       "3                          0      0          1              0          0   \n",
       "5                          0      1          0              0          0   \n",
       "...                      ...    ...        ...            ...        ...   \n",
       "7500                       0      1          0              0          0   \n",
       "7501                       0      0          1              0          0   \n",
       "7502                       0      0          1              0          0   \n",
       "7503                       0      1          0              0          0   \n",
       "7504                       0      1          0              0          0   \n",
       "\n",
       "      Imminent Health Hazard  Major  Non-Major  \n",
       "0                          1      0          0  \n",
       "1                          0      0          1  \n",
       "2                          0      0          1  \n",
       "3                          0      0          1  \n",
       "5                          0      1          0  \n",
       "...                      ...    ...        ...  \n",
       "7500                       0      1          0  \n",
       "7501                       0      0          1  \n",
       "7502                       0      1          0  \n",
       "7503                       0      0          1  \n",
       "7504                       0      0          1  \n",
       "\n",
       "[20237 rows x 294 columns]"
      ]
     },
     "execution_count": 597,
     "metadata": {},
     "output_type": "execute_result"
    }
   ],
   "source": [
    "df2"
   ]
  },
  {
   "cell_type": "code",
   "execution_count": null,
   "metadata": {},
   "outputs": [],
   "source": [
    "# We split the train.csv and test.csv"
   ]
  },
  {
   "cell_type": "code",
   "execution_count": 598,
   "metadata": {},
   "outputs": [],
   "source": [
    "df2_test = df2[df2['ds_type']=='Test']\n",
    "df2_train = df2[df2['ds_type']=='Train']"
   ]
  },
  {
   "cell_type": "code",
   "execution_count": 599,
   "metadata": {},
   "outputs": [],
   "source": [
    "# drop the ds_type\n",
    "\n",
    "df2_train = df2_train.drop(['ds_type'], axis=1)\n",
    "df2_test = df2_test.drop(['ds_type'], axis=1)"
   ]
  },
  {
   "cell_type": "markdown",
   "metadata": {},
   "source": [
    "# 2) Attempt to build an MVP model that predicts the outcome of a restaurant’s next inspection, using NEXT_INSPECTION_GRADE_C_OR_BELOW as the response\n",
    "\n",
    "# In this section, our data is ready and we try to build MVP and we try 12 classifier models"
   ]
  },
  {
   "cell_type": "code",
   "execution_count": 600,
   "metadata": {},
   "outputs": [],
   "source": [
    "# we split the df2_train to train and test\n",
    "\n",
    "from sklearn.model_selection import train_test_split\n",
    "\n",
    "#X = df2_train.drop('NEXT_INSPECTION_GRADE_C_OR_BELOW',axis=1)\n",
    "\n",
    "#y = df2_train['NEXT_INSPECTION_GRADE_C_OR_BELOW'] = OUR TARGET\n",
    "\n",
    "X_train, X_test, y_train, y_test = train_test_split(df2_train.drop('NEXT_INSPECTION_GRADE_C_OR_BELOW',axis=1), \n",
    "                                                    df2_train['NEXT_INSPECTION_GRADE_C_OR_BELOW'], test_size=0.30, \n",
    "                                                    random_state=101)"
   ]
  },
  {
   "cell_type": "markdown",
   "metadata": {},
   "source": [
    "# 2.1) KNeighborsClassifier"
   ]
  },
  {
   "cell_type": "code",
   "execution_count": 602,
   "metadata": {},
   "outputs": [
    {
     "name": "stderr",
     "output_type": "stream",
     "text": [
      "D:\\Program Files\\Anaconda3\\envs\\pytorchenv\\lib\\site-packages\\sklearn\\utils\\validation.py:1692: FutureWarning: Feature names only support names that are all strings. Got feature names with dtypes: ['float', 'str']. An error will be raised in 1.2.\n",
      "  FutureWarning,\n"
     ]
    },
    {
     "data": {
      "text/plain": [
       "KNeighborsClassifier(n_neighbors=1)"
      ]
     },
     "execution_count": 602,
     "metadata": {},
     "output_type": "execute_result"
    }
   ],
   "source": [
    "from sklearn.neighbors import KNeighborsClassifier\n",
    "knn = KNeighborsClassifier(n_neighbors=1) # knn is 1 since our target is 0 or 1\n",
    "knn.fit(X_train,y_train)"
   ]
  },
  {
   "cell_type": "code",
   "execution_count": 603,
   "metadata": {},
   "outputs": [
    {
     "name": "stderr",
     "output_type": "stream",
     "text": [
      "D:\\Program Files\\Anaconda3\\envs\\pytorchenv\\lib\\site-packages\\sklearn\\utils\\validation.py:1692: FutureWarning: Feature names only support names that are all strings. Got feature names with dtypes: ['float', 'str']. An error will be raised in 1.2.\n",
      "  FutureWarning,\n"
     ]
    }
   ],
   "source": [
    "pred = knn.predict(X_test)"
   ]
  },
  {
   "cell_type": "code",
   "execution_count": 604,
   "metadata": {},
   "outputs": [
    {
     "data": {
      "text/plain": [
       "array(['0', '0', '0', ..., '0', '0', '1'], dtype=object)"
      ]
     },
     "execution_count": 604,
     "metadata": {},
     "output_type": "execute_result"
    }
   ],
   "source": [
    "pred"
   ]
  },
  {
   "cell_type": "code",
   "execution_count": 605,
   "metadata": {},
   "outputs": [
    {
     "name": "stdout",
     "output_type": "stream",
     "text": [
      "[[2736  484]\n",
      " [ 504   99]]\n",
      "              precision    recall  f1-score   support\n",
      "\n",
      "           0       0.84      0.85      0.85      3220\n",
      "           1       0.17      0.16      0.17       603\n",
      "\n",
      "    accuracy                           0.74      3823\n",
      "   macro avg       0.51      0.51      0.51      3823\n",
      "weighted avg       0.74      0.74      0.74      3823\n",
      "\n"
     ]
    }
   ],
   "source": [
    "from sklearn.metrics import classification_report,confusion_matrix\n",
    "print(confusion_matrix(y_test,pred))\n",
    "print(classification_report(y_test,pred))"
   ]
  },
  {
   "cell_type": "markdown",
   "metadata": {},
   "source": [
    "# 2.2) Support Vector Machine"
   ]
  },
  {
   "cell_type": "code",
   "execution_count": 606,
   "metadata": {},
   "outputs": [
    {
     "name": "stderr",
     "output_type": "stream",
     "text": [
      "D:\\Program Files\\Anaconda3\\envs\\pytorchenv\\lib\\site-packages\\sklearn\\utils\\validation.py:1692: FutureWarning: Feature names only support names that are all strings. Got feature names with dtypes: ['float', 'str']. An error will be raised in 1.2.\n",
      "  FutureWarning,\n"
     ]
    },
    {
     "data": {
      "text/plain": [
       "SVC()"
      ]
     },
     "execution_count": 606,
     "metadata": {},
     "output_type": "execute_result"
    }
   ],
   "source": [
    "from sklearn.svm import SVC\n",
    "svc_model = SVC()\n",
    "svc_model.fit(X_train,y_train)"
   ]
  },
  {
   "cell_type": "code",
   "execution_count": 609,
   "metadata": {},
   "outputs": [
    {
     "name": "stderr",
     "output_type": "stream",
     "text": [
      "D:\\Program Files\\Anaconda3\\envs\\pytorchenv\\lib\\site-packages\\sklearn\\utils\\validation.py:1692: FutureWarning: Feature names only support names that are all strings. Got feature names with dtypes: ['float', 'str']. An error will be raised in 1.2.\n",
      "  FutureWarning,\n"
     ]
    },
    {
     "data": {
      "text/plain": [
       "array(['0', '0', '0', ..., '0', '0', '0'], dtype=object)"
      ]
     },
     "execution_count": 609,
     "metadata": {},
     "output_type": "execute_result"
    }
   ],
   "source": [
    "pred_svm = svc_model.predict(X_test)\n",
    "pred_svm"
   ]
  },
  {
   "cell_type": "code",
   "execution_count": 610,
   "metadata": {},
   "outputs": [
    {
     "name": "stdout",
     "output_type": "stream",
     "text": [
      "[[3220    0]\n",
      " [ 603    0]]\n",
      "              precision    recall  f1-score   support\n",
      "\n",
      "           0       0.84      1.00      0.91      3220\n",
      "           1       0.00      0.00      0.00       603\n",
      "\n",
      "    accuracy                           0.84      3823\n",
      "   macro avg       0.42      0.50      0.46      3823\n",
      "weighted avg       0.71      0.84      0.77      3823\n",
      "\n"
     ]
    },
    {
     "name": "stderr",
     "output_type": "stream",
     "text": [
      "D:\\Program Files\\Anaconda3\\envs\\pytorchenv\\lib\\site-packages\\sklearn\\metrics\\_classification.py:1318: UndefinedMetricWarning: Precision and F-score are ill-defined and being set to 0.0 in labels with no predicted samples. Use `zero_division` parameter to control this behavior.\n",
      "  _warn_prf(average, modifier, msg_start, len(result))\n",
      "D:\\Program Files\\Anaconda3\\envs\\pytorchenv\\lib\\site-packages\\sklearn\\metrics\\_classification.py:1318: UndefinedMetricWarning: Precision and F-score are ill-defined and being set to 0.0 in labels with no predicted samples. Use `zero_division` parameter to control this behavior.\n",
      "  _warn_prf(average, modifier, msg_start, len(result))\n",
      "D:\\Program Files\\Anaconda3\\envs\\pytorchenv\\lib\\site-packages\\sklearn\\metrics\\_classification.py:1318: UndefinedMetricWarning: Precision and F-score are ill-defined and being set to 0.0 in labels with no predicted samples. Use `zero_division` parameter to control this behavior.\n",
      "  _warn_prf(average, modifier, msg_start, len(result))\n"
     ]
    }
   ],
   "source": [
    "print(confusion_matrix(y_test,pred_svm))\n",
    "print(classification_report(y_test,pred_svm))"
   ]
  },
  {
   "cell_type": "markdown",
   "metadata": {},
   "source": [
    "# 2.3) Decision Tree Classifier"
   ]
  },
  {
   "cell_type": "code",
   "execution_count": 611,
   "metadata": {},
   "outputs": [
    {
     "name": "stderr",
     "output_type": "stream",
     "text": [
      "D:\\Program Files\\Anaconda3\\envs\\pytorchenv\\lib\\site-packages\\sklearn\\utils\\validation.py:1692: FutureWarning: Feature names only support names that are all strings. Got feature names with dtypes: ['float', 'str']. An error will be raised in 1.2.\n",
      "  FutureWarning,\n"
     ]
    },
    {
     "data": {
      "text/plain": [
       "DecisionTreeClassifier()"
      ]
     },
     "execution_count": 611,
     "metadata": {},
     "output_type": "execute_result"
    }
   ],
   "source": [
    "from sklearn.tree import DecisionTreeClassifier\n",
    "d_tree = DecisionTreeClassifier()\n",
    "d_tree.fit(X_train,y_train)"
   ]
  },
  {
   "cell_type": "code",
   "execution_count": 612,
   "metadata": {},
   "outputs": [
    {
     "name": "stderr",
     "output_type": "stream",
     "text": [
      "D:\\Program Files\\Anaconda3\\envs\\pytorchenv\\lib\\site-packages\\sklearn\\utils\\validation.py:1692: FutureWarning: Feature names only support names that are all strings. Got feature names with dtypes: ['float', 'str']. An error will be raised in 1.2.\n",
      "  FutureWarning,\n"
     ]
    },
    {
     "data": {
      "text/plain": [
       "array(['0', '1', '0', ..., '0', '0', '0'], dtype=object)"
      ]
     },
     "execution_count": 612,
     "metadata": {},
     "output_type": "execute_result"
    }
   ],
   "source": [
    "pred_d_tree = d_tree.predict(X_test)\n",
    "pred_d_tree"
   ]
  },
  {
   "cell_type": "code",
   "execution_count": 615,
   "metadata": {},
   "outputs": [
    {
     "name": "stdout",
     "output_type": "stream",
     "text": [
      "[[2659  561]\n",
      " [ 505   98]]\n",
      "              precision    recall  f1-score   support\n",
      "\n",
      "           0       0.84      0.83      0.83      3220\n",
      "           1       0.15      0.16      0.16       603\n",
      "\n",
      "    accuracy                           0.72      3823\n",
      "   macro avg       0.49      0.49      0.49      3823\n",
      "weighted avg       0.73      0.72      0.73      3823\n",
      "\n"
     ]
    }
   ],
   "source": [
    "print(confusion_matrix(y_test,pred_d_tree))\n",
    "print(classification_report(y_test,pred_d_tree))"
   ]
  },
  {
   "cell_type": "markdown",
   "metadata": {},
   "source": [
    "# 2.4) Random Forest Classifier"
   ]
  },
  {
   "cell_type": "code",
   "execution_count": 616,
   "metadata": {},
   "outputs": [
    {
     "name": "stderr",
     "output_type": "stream",
     "text": [
      "D:\\Program Files\\Anaconda3\\envs\\pytorchenv\\lib\\site-packages\\sklearn\\utils\\validation.py:1692: FutureWarning: Feature names only support names that are all strings. Got feature names with dtypes: ['float', 'str']. An error will be raised in 1.2.\n",
      "  FutureWarning,\n"
     ]
    },
    {
     "data": {
      "text/plain": [
       "RandomForestClassifier(n_estimators=200)"
      ]
     },
     "execution_count": 616,
     "metadata": {},
     "output_type": "execute_result"
    }
   ],
   "source": [
    "from sklearn.ensemble import RandomForestClassifier\n",
    "rfc = RandomForestClassifier(n_estimators=200) #100\n",
    "rfc.fit(X_train, y_train)"
   ]
  },
  {
   "cell_type": "code",
   "execution_count": 617,
   "metadata": {},
   "outputs": [
    {
     "name": "stderr",
     "output_type": "stream",
     "text": [
      "D:\\Program Files\\Anaconda3\\envs\\pytorchenv\\lib\\site-packages\\sklearn\\utils\\validation.py:1692: FutureWarning: Feature names only support names that are all strings. Got feature names with dtypes: ['float', 'str']. An error will be raised in 1.2.\n",
      "  FutureWarning,\n"
     ]
    }
   ],
   "source": [
    "pred_random = rfc.predict(X_test) #random forest çok data varken iyi"
   ]
  },
  {
   "cell_type": "code",
   "execution_count": 618,
   "metadata": {},
   "outputs": [
    {
     "data": {
      "text/plain": [
       "array(['0', '0', '0', ..., '0', '0', '0'], dtype=object)"
      ]
     },
     "execution_count": 618,
     "metadata": {},
     "output_type": "execute_result"
    }
   ],
   "source": [
    "pred_random"
   ]
  },
  {
   "cell_type": "code",
   "execution_count": 619,
   "metadata": {},
   "outputs": [
    {
     "name": "stdout",
     "output_type": "stream",
     "text": [
      "[[3211    9]\n",
      " [ 601    2]]\n",
      "              precision    recall  f1-score   support\n",
      "\n",
      "           0       0.84      1.00      0.91      3220\n",
      "           1       0.18      0.00      0.01       603\n",
      "\n",
      "    accuracy                           0.84      3823\n",
      "   macro avg       0.51      0.50      0.46      3823\n",
      "weighted avg       0.74      0.84      0.77      3823\n",
      "\n"
     ]
    }
   ],
   "source": [
    "print(confusion_matrix(y_test,pred_random))\n",
    "print(classification_report(y_test,pred_random))"
   ]
  },
  {
   "cell_type": "markdown",
   "metadata": {},
   "source": [
    "# 2.5) Logistic Regression"
   ]
  },
  {
   "cell_type": "code",
   "execution_count": 620,
   "metadata": {},
   "outputs": [
    {
     "name": "stderr",
     "output_type": "stream",
     "text": [
      "D:\\Program Files\\Anaconda3\\envs\\pytorchenv\\lib\\site-packages\\sklearn\\utils\\validation.py:1692: FutureWarning: Feature names only support names that are all strings. Got feature names with dtypes: ['float', 'str']. An error will be raised in 1.2.\n",
      "  FutureWarning,\n",
      "D:\\Program Files\\Anaconda3\\envs\\pytorchenv\\lib\\site-packages\\sklearn\\linear_model\\_logistic.py:818: ConvergenceWarning: lbfgs failed to converge (status=1):\n",
      "STOP: TOTAL NO. of ITERATIONS REACHED LIMIT.\n",
      "\n",
      "Increase the number of iterations (max_iter) or scale the data as shown in:\n",
      "    https://scikit-learn.org/stable/modules/preprocessing.html\n",
      "Please also refer to the documentation for alternative solver options:\n",
      "    https://scikit-learn.org/stable/modules/linear_model.html#logistic-regression\n",
      "  extra_warning_msg=_LOGISTIC_SOLVER_CONVERGENCE_MSG,\n"
     ]
    },
    {
     "data": {
      "text/plain": [
       "LogisticRegression()"
      ]
     },
     "execution_count": 620,
     "metadata": {},
     "output_type": "execute_result"
    }
   ],
   "source": [
    "from sklearn.linear_model import LogisticRegression\n",
    "model_LR = LogisticRegression()\n",
    "model_LR.fit(X_train,y_train)"
   ]
  },
  {
   "cell_type": "code",
   "execution_count": 621,
   "metadata": {},
   "outputs": [
    {
     "name": "stderr",
     "output_type": "stream",
     "text": [
      "D:\\Program Files\\Anaconda3\\envs\\pytorchenv\\lib\\site-packages\\sklearn\\utils\\validation.py:1692: FutureWarning: Feature names only support names that are all strings. Got feature names with dtypes: ['float', 'str']. An error will be raised in 1.2.\n",
      "  FutureWarning,\n"
     ]
    }
   ],
   "source": [
    "pred_LR = model_LR.predict(X_test)"
   ]
  },
  {
   "cell_type": "code",
   "execution_count": 622,
   "metadata": {},
   "outputs": [
    {
     "data": {
      "text/plain": [
       "array(['0', '0', '0', ..., '0', '0', '0'], dtype=object)"
      ]
     },
     "execution_count": 622,
     "metadata": {},
     "output_type": "execute_result"
    }
   ],
   "source": [
    "pred_LR"
   ]
  },
  {
   "cell_type": "code",
   "execution_count": 623,
   "metadata": {},
   "outputs": [
    {
     "name": "stdout",
     "output_type": "stream",
     "text": [
      "[[3220    0]\n",
      " [ 603    0]]\n",
      "              precision    recall  f1-score   support\n",
      "\n",
      "           0       0.84      1.00      0.91      3220\n",
      "           1       0.00      0.00      0.00       603\n",
      "\n",
      "    accuracy                           0.84      3823\n",
      "   macro avg       0.42      0.50      0.46      3823\n",
      "weighted avg       0.71      0.84      0.77      3823\n",
      "\n"
     ]
    },
    {
     "name": "stderr",
     "output_type": "stream",
     "text": [
      "D:\\Program Files\\Anaconda3\\envs\\pytorchenv\\lib\\site-packages\\sklearn\\metrics\\_classification.py:1318: UndefinedMetricWarning: Precision and F-score are ill-defined and being set to 0.0 in labels with no predicted samples. Use `zero_division` parameter to control this behavior.\n",
      "  _warn_prf(average, modifier, msg_start, len(result))\n",
      "D:\\Program Files\\Anaconda3\\envs\\pytorchenv\\lib\\site-packages\\sklearn\\metrics\\_classification.py:1318: UndefinedMetricWarning: Precision and F-score are ill-defined and being set to 0.0 in labels with no predicted samples. Use `zero_division` parameter to control this behavior.\n",
      "  _warn_prf(average, modifier, msg_start, len(result))\n",
      "D:\\Program Files\\Anaconda3\\envs\\pytorchenv\\lib\\site-packages\\sklearn\\metrics\\_classification.py:1318: UndefinedMetricWarning: Precision and F-score are ill-defined and being set to 0.0 in labels with no predicted samples. Use `zero_division` parameter to control this behavior.\n",
      "  _warn_prf(average, modifier, msg_start, len(result))\n"
     ]
    }
   ],
   "source": [
    "print(confusion_matrix(y_test,pred_LR))\n",
    "print(classification_report(y_test,pred_LR))"
   ]
  },
  {
   "cell_type": "markdown",
   "metadata": {},
   "source": [
    "# 2.6) Gradient Boosting Classifier"
   ]
  },
  {
   "cell_type": "code",
   "execution_count": 624,
   "metadata": {},
   "outputs": [],
   "source": [
    "from sklearn.ensemble import GradientBoostingClassifier"
   ]
  },
  {
   "cell_type": "code",
   "execution_count": 625,
   "metadata": {},
   "outputs": [
    {
     "name": "stderr",
     "output_type": "stream",
     "text": [
      "D:\\Program Files\\Anaconda3\\envs\\pytorchenv\\lib\\site-packages\\sklearn\\utils\\validation.py:1692: FutureWarning: Feature names only support names that are all strings. Got feature names with dtypes: ['float', 'str']. An error will be raised in 1.2.\n",
      "  FutureWarning,\n",
      "D:\\Program Files\\Anaconda3\\envs\\pytorchenv\\lib\\site-packages\\sklearn\\utils\\validation.py:1692: FutureWarning: Feature names only support names that are all strings. Got feature names with dtypes: ['float', 'str']. An error will be raised in 1.2.\n",
      "  FutureWarning,\n"
     ]
    },
    {
     "data": {
      "text/plain": [
       "0.8399162961025373"
      ]
     },
     "execution_count": 625,
     "metadata": {},
     "output_type": "execute_result"
    }
   ],
   "source": [
    "gbc = GradientBoostingClassifier(n_estimators=200, learning_rate=1.0,max_depth=1, random_state=0).fit(X_train, y_train)\n",
    "#gbc.score(X_test, y_test)\n"
   ]
  },
  {
   "cell_type": "code",
   "execution_count": 626,
   "metadata": {},
   "outputs": [
    {
     "name": "stderr",
     "output_type": "stream",
     "text": [
      "D:\\Program Files\\Anaconda3\\envs\\pytorchenv\\lib\\site-packages\\sklearn\\utils\\validation.py:1692: FutureWarning: Feature names only support names that are all strings. Got feature names with dtypes: ['float', 'str']. An error will be raised in 1.2.\n",
      "  FutureWarning,\n"
     ]
    }
   ],
   "source": [
    "pred_gbc = gbc.predict(X_test)"
   ]
  },
  {
   "cell_type": "code",
   "execution_count": 627,
   "metadata": {},
   "outputs": [
    {
     "data": {
      "text/plain": [
       "array(['0', '0', '0', ..., '0', '0', '0'], dtype=object)"
      ]
     },
     "execution_count": 627,
     "metadata": {},
     "output_type": "execute_result"
    }
   ],
   "source": [
    "pred_gbc"
   ]
  },
  {
   "cell_type": "code",
   "execution_count": 628,
   "metadata": {},
   "outputs": [
    {
     "name": "stdout",
     "output_type": "stream",
     "text": [
      "[[3206   14]\n",
      " [ 598    5]]\n",
      "              precision    recall  f1-score   support\n",
      "\n",
      "           0       0.84      1.00      0.91      3220\n",
      "           1       0.26      0.01      0.02       603\n",
      "\n",
      "    accuracy                           0.84      3823\n",
      "   macro avg       0.55      0.50      0.46      3823\n",
      "weighted avg       0.75      0.84      0.77      3823\n",
      "\n"
     ]
    }
   ],
   "source": [
    "print(confusion_matrix(y_test,pred_gbc))\n",
    "print(classification_report(y_test,pred_gbc))"
   ]
  },
  {
   "cell_type": "markdown",
   "metadata": {},
   "source": [
    "# 2.7) Ada Boost Classifier"
   ]
  },
  {
   "cell_type": "code",
   "execution_count": 638,
   "metadata": {},
   "outputs": [
    {
     "name": "stderr",
     "output_type": "stream",
     "text": [
      "D:\\Program Files\\Anaconda3\\envs\\pytorchenv\\lib\\site-packages\\sklearn\\utils\\validation.py:1692: FutureWarning: Feature names only support names that are all strings. Got feature names with dtypes: ['float', 'str']. An error will be raised in 1.2.\n",
      "  FutureWarning,\n"
     ]
    },
    {
     "data": {
      "text/plain": [
       "AdaBoostClassifier(n_estimators=200, random_state=0)"
      ]
     },
     "execution_count": 638,
     "metadata": {},
     "output_type": "execute_result"
    }
   ],
   "source": [
    "from sklearn.ensemble import AdaBoostClassifier\n",
    "\n",
    "abc_model = AdaBoostClassifier(n_estimators=200, random_state=0)\n",
    "\n",
    "abc_model.fit(X_train, y_train)\n"
   ]
  },
  {
   "cell_type": "code",
   "execution_count": 639,
   "metadata": {},
   "outputs": [
    {
     "name": "stderr",
     "output_type": "stream",
     "text": [
      "D:\\Program Files\\Anaconda3\\envs\\pytorchenv\\lib\\site-packages\\sklearn\\utils\\validation.py:1692: FutureWarning: Feature names only support names that are all strings. Got feature names with dtypes: ['float', 'str']. An error will be raised in 1.2.\n",
      "  FutureWarning,\n"
     ]
    }
   ],
   "source": [
    "pred_abc = abc_model.predict(X_test)"
   ]
  },
  {
   "cell_type": "code",
   "execution_count": 640,
   "metadata": {},
   "outputs": [
    {
     "data": {
      "text/plain": [
       "array(['0', '0', '0', ..., '0', '0', '0'], dtype=object)"
      ]
     },
     "execution_count": 640,
     "metadata": {},
     "output_type": "execute_result"
    }
   ],
   "source": [
    "pred_abc"
   ]
  },
  {
   "cell_type": "code",
   "execution_count": 641,
   "metadata": {},
   "outputs": [
    {
     "name": "stdout",
     "output_type": "stream",
     "text": [
      "[[3206   14]\n",
      " [ 598    5]]\n",
      "              precision    recall  f1-score   support\n",
      "\n",
      "           0       0.84      1.00      0.91      3220\n",
      "           1       0.26      0.01      0.02       603\n",
      "\n",
      "    accuracy                           0.84      3823\n",
      "   macro avg       0.55      0.50      0.46      3823\n",
      "weighted avg       0.75      0.84      0.77      3823\n",
      "\n"
     ]
    }
   ],
   "source": [
    "print(confusion_matrix(y_test,pred_abc))\n",
    "print(classification_report(y_test,pred_abc))"
   ]
  },
  {
   "cell_type": "markdown",
   "metadata": {},
   "source": [
    "# 2.8) GaussianNB Classifier"
   ]
  },
  {
   "cell_type": "code",
   "execution_count": 649,
   "metadata": {},
   "outputs": [
    {
     "name": "stderr",
     "output_type": "stream",
     "text": [
      "D:\\Program Files\\Anaconda3\\envs\\pytorchenv\\lib\\site-packages\\sklearn\\utils\\validation.py:1692: FutureWarning: Feature names only support names that are all strings. Got feature names with dtypes: ['float', 'str']. An error will be raised in 1.2.\n",
      "  FutureWarning,\n"
     ]
    },
    {
     "data": {
      "text/plain": [
       "GaussianNB()"
      ]
     },
     "execution_count": 649,
     "metadata": {},
     "output_type": "execute_result"
    }
   ],
   "source": [
    "from sklearn.naive_bayes import GaussianNB\n",
    "gauss_nb = GaussianNB()\n",
    "gauss_nb.fit(X_train, y_train)\n"
   ]
  },
  {
   "cell_type": "code",
   "execution_count": 651,
   "metadata": {},
   "outputs": [
    {
     "name": "stderr",
     "output_type": "stream",
     "text": [
      "D:\\Program Files\\Anaconda3\\envs\\pytorchenv\\lib\\site-packages\\sklearn\\utils\\validation.py:1692: FutureWarning: Feature names only support names that are all strings. Got feature names with dtypes: ['float', 'str']. An error will be raised in 1.2.\n",
      "  FutureWarning,\n"
     ]
    }
   ],
   "source": [
    "pred_gauss = gauss_nb.predict(X_test)"
   ]
  },
  {
   "cell_type": "code",
   "execution_count": 652,
   "metadata": {},
   "outputs": [
    {
     "data": {
      "text/plain": [
       "array(['0', '1', '1', ..., '1', '1', '1'], dtype='<U1')"
      ]
     },
     "execution_count": 652,
     "metadata": {},
     "output_type": "execute_result"
    }
   ],
   "source": [
    "pred_gauss"
   ]
  },
  {
   "cell_type": "code",
   "execution_count": 653,
   "metadata": {},
   "outputs": [
    {
     "name": "stdout",
     "output_type": "stream",
     "text": [
      "[[ 222 2998]\n",
      " [  43  560]]\n",
      "              precision    recall  f1-score   support\n",
      "\n",
      "           0       0.84      0.07      0.13      3220\n",
      "           1       0.16      0.93      0.27       603\n",
      "\n",
      "    accuracy                           0.20      3823\n",
      "   macro avg       0.50      0.50      0.20      3823\n",
      "weighted avg       0.73      0.20      0.15      3823\n",
      "\n"
     ]
    }
   ],
   "source": [
    "print(confusion_matrix(y_test,pred_gauss))\n",
    "print(classification_report(y_test,pred_gauss))"
   ]
  },
  {
   "cell_type": "markdown",
   "metadata": {},
   "source": [
    "# 2.9) Linear Discriminant Analysis (LDA)"
   ]
  },
  {
   "cell_type": "code",
   "execution_count": 654,
   "metadata": {},
   "outputs": [
    {
     "name": "stderr",
     "output_type": "stream",
     "text": [
      "D:\\Program Files\\Anaconda3\\envs\\pytorchenv\\lib\\site-packages\\sklearn\\utils\\validation.py:1692: FutureWarning: Feature names only support names that are all strings. Got feature names with dtypes: ['float', 'str']. An error will be raised in 1.2.\n",
      "  FutureWarning,\n"
     ]
    },
    {
     "data": {
      "text/plain": [
       "LinearDiscriminantAnalysis()"
      ]
     },
     "execution_count": 654,
     "metadata": {},
     "output_type": "execute_result"
    }
   ],
   "source": [
    "from sklearn.discriminant_analysis import LinearDiscriminantAnalysis\n",
    "\n",
    "lda = LinearDiscriminantAnalysis()\n",
    "lda.fit(X_train, y_train)\n"
   ]
  },
  {
   "cell_type": "code",
   "execution_count": 655,
   "metadata": {},
   "outputs": [
    {
     "name": "stderr",
     "output_type": "stream",
     "text": [
      "D:\\Program Files\\Anaconda3\\envs\\pytorchenv\\lib\\site-packages\\sklearn\\utils\\validation.py:1692: FutureWarning: Feature names only support names that are all strings. Got feature names with dtypes: ['float', 'str']. An error will be raised in 1.2.\n",
      "  FutureWarning,\n"
     ]
    }
   ],
   "source": [
    "pred_lda = lda.predict(X_test)"
   ]
  },
  {
   "cell_type": "code",
   "execution_count": 656,
   "metadata": {},
   "outputs": [
    {
     "data": {
      "text/plain": [
       "array(['0', '0', '0', ..., '0', '0', '0'], dtype='<U1')"
      ]
     },
     "execution_count": 656,
     "metadata": {},
     "output_type": "execute_result"
    }
   ],
   "source": [
    "pred_lda"
   ]
  },
  {
   "cell_type": "code",
   "execution_count": 657,
   "metadata": {},
   "outputs": [
    {
     "name": "stdout",
     "output_type": "stream",
     "text": [
      "[[3186   34]\n",
      " [ 595    8]]\n",
      "              precision    recall  f1-score   support\n",
      "\n",
      "           0       0.84      0.99      0.91      3220\n",
      "           1       0.19      0.01      0.02       603\n",
      "\n",
      "    accuracy                           0.84      3823\n",
      "   macro avg       0.52      0.50      0.47      3823\n",
      "weighted avg       0.74      0.84      0.77      3823\n",
      "\n"
     ]
    }
   ],
   "source": [
    "print(confusion_matrix(y_test,pred_lda))\n",
    "print(classification_report(y_test,pred_lda))"
   ]
  },
  {
   "cell_type": "markdown",
   "metadata": {},
   "source": [
    "# 2.10) Quadratic Discriminant Analysis (QDA)"
   ]
  },
  {
   "cell_type": "code",
   "execution_count": 658,
   "metadata": {},
   "outputs": [
    {
     "name": "stderr",
     "output_type": "stream",
     "text": [
      "D:\\Program Files\\Anaconda3\\envs\\pytorchenv\\lib\\site-packages\\sklearn\\utils\\validation.py:1692: FutureWarning: Feature names only support names that are all strings. Got feature names with dtypes: ['float', 'str']. An error will be raised in 1.2.\n",
      "  FutureWarning,\n",
      "D:\\Program Files\\Anaconda3\\envs\\pytorchenv\\lib\\site-packages\\sklearn\\discriminant_analysis.py:878: UserWarning: Variables are collinear\n",
      "  warnings.warn(\"Variables are collinear\")\n"
     ]
    },
    {
     "data": {
      "text/plain": [
       "QuadraticDiscriminantAnalysis()"
      ]
     },
     "execution_count": 658,
     "metadata": {},
     "output_type": "execute_result"
    }
   ],
   "source": [
    "from sklearn.discriminant_analysis import QuadraticDiscriminantAnalysis\n",
    "\n",
    "qda = QuadraticDiscriminantAnalysis()\n",
    "qda.fit(X_train, y_train)\n"
   ]
  },
  {
   "cell_type": "code",
   "execution_count": 659,
   "metadata": {},
   "outputs": [
    {
     "name": "stderr",
     "output_type": "stream",
     "text": [
      "D:\\Program Files\\Anaconda3\\envs\\pytorchenv\\lib\\site-packages\\sklearn\\utils\\validation.py:1692: FutureWarning: Feature names only support names that are all strings. Got feature names with dtypes: ['float', 'str']. An error will be raised in 1.2.\n",
      "  FutureWarning,\n"
     ]
    }
   ],
   "source": [
    "pred_qda = qda.predict(X_test)"
   ]
  },
  {
   "cell_type": "code",
   "execution_count": 660,
   "metadata": {},
   "outputs": [
    {
     "data": {
      "text/plain": [
       "array(['1', '1', '1', ..., '1', '1', '1'], dtype=object)"
      ]
     },
     "execution_count": 660,
     "metadata": {},
     "output_type": "execute_result"
    }
   ],
   "source": [
    "pred_qda"
   ]
  },
  {
   "cell_type": "code",
   "execution_count": 661,
   "metadata": {},
   "outputs": [
    {
     "name": "stdout",
     "output_type": "stream",
     "text": [
      "[[  56 3164]\n",
      " [  11  592]]\n",
      "              precision    recall  f1-score   support\n",
      "\n",
      "           0       0.84      0.02      0.03      3220\n",
      "           1       0.16      0.98      0.27       603\n",
      "\n",
      "    accuracy                           0.17      3823\n",
      "   macro avg       0.50      0.50      0.15      3823\n",
      "weighted avg       0.73      0.17      0.07      3823\n",
      "\n"
     ]
    }
   ],
   "source": [
    "print(confusion_matrix(y_test,pred_qda))\n",
    "print(classification_report(y_test,pred_qda))"
   ]
  },
  {
   "cell_type": "markdown",
   "metadata": {},
   "source": [
    "# 2.11) MLP Classifier (Multi Layer Perceptron)"
   ]
  },
  {
   "cell_type": "code",
   "execution_count": 662,
   "metadata": {},
   "outputs": [
    {
     "name": "stderr",
     "output_type": "stream",
     "text": [
      "D:\\Program Files\\Anaconda3\\envs\\pytorchenv\\lib\\site-packages\\sklearn\\utils\\validation.py:1692: FutureWarning: Feature names only support names that are all strings. Got feature names with dtypes: ['float', 'str']. An error will be raised in 1.2.\n",
      "  FutureWarning,\n",
      "D:\\Program Files\\Anaconda3\\envs\\pytorchenv\\lib\\site-packages\\sklearn\\neural_network\\_multilayer_perceptron.py:696: ConvergenceWarning: Stochastic Optimizer: Maximum iterations (300) reached and the optimization hasn't converged yet.\n",
      "  ConvergenceWarning,\n"
     ]
    }
   ],
   "source": [
    "from sklearn.neural_network import MLPClassifier\n",
    "\n",
    "\n",
    "MLP = MLPClassifier(random_state=1, max_iter=300).fit(X_train, y_train)\n"
   ]
  },
  {
   "cell_type": "code",
   "execution_count": 665,
   "metadata": {},
   "outputs": [
    {
     "name": "stderr",
     "output_type": "stream",
     "text": [
      "D:\\Program Files\\Anaconda3\\envs\\pytorchenv\\lib\\site-packages\\sklearn\\utils\\validation.py:1692: FutureWarning: Feature names only support names that are all strings. Got feature names with dtypes: ['float', 'str']. An error will be raised in 1.2.\n",
      "  FutureWarning,\n"
     ]
    }
   ],
   "source": [
    "pred_mlp = MLP.predict(X_test)"
   ]
  },
  {
   "cell_type": "code",
   "execution_count": 666,
   "metadata": {},
   "outputs": [
    {
     "data": {
      "text/plain": [
       "array(['0', '0', '0', ..., '0', '0', '0'], dtype='<U1')"
      ]
     },
     "execution_count": 666,
     "metadata": {},
     "output_type": "execute_result"
    }
   ],
   "source": [
    "pred_mlp"
   ]
  },
  {
   "cell_type": "code",
   "execution_count": 667,
   "metadata": {},
   "outputs": [
    {
     "name": "stdout",
     "output_type": "stream",
     "text": [
      "[[2669  551]\n",
      " [ 494  109]]\n",
      "              precision    recall  f1-score   support\n",
      "\n",
      "           0       0.84      0.83      0.84      3220\n",
      "           1       0.17      0.18      0.17       603\n",
      "\n",
      "    accuracy                           0.73      3823\n",
      "   macro avg       0.50      0.50      0.50      3823\n",
      "weighted avg       0.74      0.73      0.73      3823\n",
      "\n"
     ]
    }
   ],
   "source": [
    "print(confusion_matrix(y_test,pred_mlp))\n",
    "print(classification_report(y_test,pred_mlp))"
   ]
  },
  {
   "cell_type": "markdown",
   "metadata": {},
   "source": [
    "# 2.12) SGD Classifier"
   ]
  },
  {
   "cell_type": "code",
   "execution_count": 669,
   "metadata": {},
   "outputs": [
    {
     "name": "stderr",
     "output_type": "stream",
     "text": [
      "D:\\Program Files\\Anaconda3\\envs\\pytorchenv\\lib\\site-packages\\sklearn\\utils\\validation.py:1692: FutureWarning: Feature names only support names that are all strings. Got feature names with dtypes: ['float', 'str']. An error will be raised in 1.2.\n",
      "  FutureWarning,\n"
     ]
    },
    {
     "data": {
      "text/plain": [
       "SGDClassifier()"
      ]
     },
     "execution_count": 669,
     "metadata": {},
     "output_type": "execute_result"
    }
   ],
   "source": [
    "from sklearn.linear_model import SGDClassifier\n",
    "\n",
    "\n",
    "SGD = SGDClassifier(max_iter=1000, tol=1e-3)\n",
    "SGD.fit(X_train, y_train)\n"
   ]
  },
  {
   "cell_type": "code",
   "execution_count": 671,
   "metadata": {},
   "outputs": [
    {
     "name": "stderr",
     "output_type": "stream",
     "text": [
      "D:\\Program Files\\Anaconda3\\envs\\pytorchenv\\lib\\site-packages\\sklearn\\utils\\validation.py:1692: FutureWarning: Feature names only support names that are all strings. Got feature names with dtypes: ['float', 'str']. An error will be raised in 1.2.\n",
      "  FutureWarning,\n"
     ]
    },
    {
     "data": {
      "text/plain": [
       "array(['0', '1', '0', ..., '0', '0', '0'], dtype='<U1')"
      ]
     },
     "execution_count": 671,
     "metadata": {},
     "output_type": "execute_result"
    }
   ],
   "source": [
    "pred_SGD = SGD.predict(X_test)\n",
    "pred_SGD"
   ]
  },
  {
   "cell_type": "code",
   "execution_count": 672,
   "metadata": {},
   "outputs": [
    {
     "name": "stdout",
     "output_type": "stream",
     "text": [
      "[[2814  406]\n",
      " [ 515   88]]\n",
      "              precision    recall  f1-score   support\n",
      "\n",
      "           0       0.85      0.87      0.86      3220\n",
      "           1       0.18      0.15      0.16       603\n",
      "\n",
      "    accuracy                           0.76      3823\n",
      "   macro avg       0.51      0.51      0.51      3823\n",
      "weighted avg       0.74      0.76      0.75      3823\n",
      "\n"
     ]
    }
   ],
   "source": [
    "print(confusion_matrix(y_test,pred_SGD))\n",
    "print(classification_report(y_test,pred_SGD))"
   ]
  },
  {
   "cell_type": "markdown",
   "metadata": {},
   "source": [
    "# In this section, we show that accuracy of each model"
   ]
  },
  {
   "cell_type": "code",
   "execution_count": 681,
   "metadata": {},
   "outputs": [
    {
     "name": "stderr",
     "output_type": "stream",
     "text": [
      "D:\\Program Files\\Anaconda3\\envs\\pytorchenv\\lib\\site-packages\\sklearn\\utils\\validation.py:1692: FutureWarning: Feature names only support names that are all strings. Got feature names with dtypes: ['float', 'str']. An error will be raised in 1.2.\n",
      "  FutureWarning,\n"
     ]
    },
    {
     "name": "stdout",
     "output_type": "stream",
     "text": [
      "Knn accuracy: 0.7415642165838346\n"
     ]
    },
    {
     "name": "stderr",
     "output_type": "stream",
     "text": [
      "D:\\Program Files\\Anaconda3\\envs\\pytorchenv\\lib\\site-packages\\sklearn\\utils\\validation.py:1692: FutureWarning: Feature names only support names that are all strings. Got feature names with dtypes: ['float', 'str']. An error will be raised in 1.2.\n",
      "  FutureWarning,\n"
     ]
    },
    {
     "name": "stdout",
     "output_type": "stream",
     "text": [
      "SVM accuracy: 0.8422704682186765\n"
     ]
    },
    {
     "name": "stderr",
     "output_type": "stream",
     "text": [
      "D:\\Program Files\\Anaconda3\\envs\\pytorchenv\\lib\\site-packages\\sklearn\\utils\\validation.py:1692: FutureWarning: Feature names only support names that are all strings. Got feature names with dtypes: ['float', 'str']. An error will be raised in 1.2.\n",
      "  FutureWarning,\n"
     ]
    },
    {
     "name": "stdout",
     "output_type": "stream",
     "text": [
      "Decision Tree Classifier accuracy: 0.7211613915772953\n"
     ]
    },
    {
     "name": "stderr",
     "output_type": "stream",
     "text": [
      "D:\\Program Files\\Anaconda3\\envs\\pytorchenv\\lib\\site-packages\\sklearn\\utils\\validation.py:1692: FutureWarning: Feature names only support names that are all strings. Got feature names with dtypes: ['float', 'str']. An error will be raised in 1.2.\n",
      "  FutureWarning,\n"
     ]
    },
    {
     "name": "stdout",
     "output_type": "stream",
     "text": [
      "Random Forest Classifier accuracy: 0.8404394454616793\n"
     ]
    },
    {
     "name": "stderr",
     "output_type": "stream",
     "text": [
      "D:\\Program Files\\Anaconda3\\envs\\pytorchenv\\lib\\site-packages\\sklearn\\utils\\validation.py:1692: FutureWarning: Feature names only support names that are all strings. Got feature names with dtypes: ['float', 'str']. An error will be raised in 1.2.\n",
      "  FutureWarning,\n"
     ]
    },
    {
     "name": "stdout",
     "output_type": "stream",
     "text": [
      "Logistic Regression accuracy: 0.8422704682186765\n"
     ]
    },
    {
     "name": "stderr",
     "output_type": "stream",
     "text": [
      "D:\\Program Files\\Anaconda3\\envs\\pytorchenv\\lib\\site-packages\\sklearn\\utils\\validation.py:1692: FutureWarning: Feature names only support names that are all strings. Got feature names with dtypes: ['float', 'str']. An error will be raised in 1.2.\n",
      "  FutureWarning,\n"
     ]
    },
    {
     "name": "stdout",
     "output_type": "stream",
     "text": [
      "Gradient Boosting Classifier accuracy: 0.8399162961025373\n"
     ]
    },
    {
     "name": "stderr",
     "output_type": "stream",
     "text": [
      "D:\\Program Files\\Anaconda3\\envs\\pytorchenv\\lib\\site-packages\\sklearn\\utils\\validation.py:1692: FutureWarning: Feature names only support names that are all strings. Got feature names with dtypes: ['float', 'str']. An error will be raised in 1.2.\n",
      "  FutureWarning,\n"
     ]
    },
    {
     "name": "stdout",
     "output_type": "stream",
     "text": [
      "AdaBoost Classifier accuracy: 0.8399162961025373\n",
      "Gaussian NB Classifier accuracy: 0.2045513994245357\n"
     ]
    },
    {
     "name": "stderr",
     "output_type": "stream",
     "text": [
      "D:\\Program Files\\Anaconda3\\envs\\pytorchenv\\lib\\site-packages\\sklearn\\utils\\validation.py:1692: FutureWarning: Feature names only support names that are all strings. Got feature names with dtypes: ['float', 'str']. An error will be raised in 1.2.\n",
      "  FutureWarning,\n",
      "D:\\Program Files\\Anaconda3\\envs\\pytorchenv\\lib\\site-packages\\sklearn\\utils\\validation.py:1692: FutureWarning: Feature names only support names that are all strings. Got feature names with dtypes: ['float', 'str']. An error will be raised in 1.2.\n",
      "  FutureWarning,\n"
     ]
    },
    {
     "name": "stdout",
     "output_type": "stream",
     "text": [
      "Linear Discriminant Analysis accuracy: 0.83546952654983\n"
     ]
    },
    {
     "name": "stderr",
     "output_type": "stream",
     "text": [
      "D:\\Program Files\\Anaconda3\\envs\\pytorchenv\\lib\\site-packages\\sklearn\\utils\\validation.py:1692: FutureWarning: Feature names only support names that are all strings. Got feature names with dtypes: ['float', 'str']. An error will be raised in 1.2.\n",
      "  FutureWarning,\n"
     ]
    },
    {
     "name": "stdout",
     "output_type": "stream",
     "text": [
      "Quadratic Discriminant Analysis accuracy: 0.16950039236201936\n",
      "MLP Classifier accuracy: 0.7266544598482867\n",
      "SGD Classifier accuracy: 0.7590897201150929\n"
     ]
    },
    {
     "name": "stderr",
     "output_type": "stream",
     "text": [
      "D:\\Program Files\\Anaconda3\\envs\\pytorchenv\\lib\\site-packages\\sklearn\\utils\\validation.py:1692: FutureWarning: Feature names only support names that are all strings. Got feature names with dtypes: ['float', 'str']. An error will be raised in 1.2.\n",
      "  FutureWarning,\n",
      "D:\\Program Files\\Anaconda3\\envs\\pytorchenv\\lib\\site-packages\\sklearn\\utils\\validation.py:1692: FutureWarning: Feature names only support names that are all strings. Got feature names with dtypes: ['float', 'str']. An error will be raised in 1.2.\n",
      "  FutureWarning,\n"
     ]
    }
   ],
   "source": [
    "print(\"Knn accuracy:\", knn.score(X_test, y_test))\n",
    "print(\"SVM accuracy:\", svc_model.score(X_test, y_test))\n",
    "print(\"Decision Tree Classifier accuracy:\", d_tree.score(X_test, y_test))\n",
    "print(\"Random Forest Classifier accuracy:\", rfc.score(X_test, y_test))\n",
    "print(\"Logistic Regression accuracy:\", model_LR.score(X_test, y_test))\n",
    "print(\"Gradient Boosting Classifier accuracy:\", gbc.score(X_test, y_test))\n",
    "print(\"Ada Boost Classifier accuracy:\", abc_model.score(X_test, y_test))\n",
    "print(\"Gaussian NB Classifier accuracy:\", gauss_nb.score(X_test, y_test))\n",
    "print(\"Linear Discriminant Analysis accuracy:\", lda.score(X_test, y_test))\n",
    "print(\"Quadratic Discriminant Analysis accuracy:\", qda.score(X_test, y_test))\n",
    "print(\"MLP Classifier accuracy:\", MLP.score(X_test, y_test))\n",
    "print(\"SGD Classifier accuracy:\", SGD.score(X_test, y_test))                                                                                                                                             "
   ]
  },
  {
   "cell_type": "code",
   "execution_count": 684,
   "metadata": {},
   "outputs": [],
   "source": [
    "Classifier  = ['Knn', 'SVM', 'Decision Tree', 'Random Forest', 'Logistic Regression', 'Gradient Boosting', 'Ada Boost','Gaussian NB','Linear Discriminant Analysis','Quadratic Discriminant Analysis','MLP','SGD']"
   ]
  },
  {
   "cell_type": "code",
   "execution_count": 688,
   "metadata": {},
   "outputs": [
    {
     "name": "stderr",
     "output_type": "stream",
     "text": [
      "D:\\Program Files\\Anaconda3\\envs\\pytorchenv\\lib\\site-packages\\sklearn\\utils\\validation.py:1692: FutureWarning: Feature names only support names that are all strings. Got feature names with dtypes: ['float', 'str']. An error will be raised in 1.2.\n",
      "  FutureWarning,\n",
      "D:\\Program Files\\Anaconda3\\envs\\pytorchenv\\lib\\site-packages\\sklearn\\utils\\validation.py:1692: FutureWarning: Feature names only support names that are all strings. Got feature names with dtypes: ['float', 'str']. An error will be raised in 1.2.\n",
      "  FutureWarning,\n",
      "D:\\Program Files\\Anaconda3\\envs\\pytorchenv\\lib\\site-packages\\sklearn\\utils\\validation.py:1692: FutureWarning: Feature names only support names that are all strings. Got feature names with dtypes: ['float', 'str']. An error will be raised in 1.2.\n",
      "  FutureWarning,\n",
      "D:\\Program Files\\Anaconda3\\envs\\pytorchenv\\lib\\site-packages\\sklearn\\utils\\validation.py:1692: FutureWarning: Feature names only support names that are all strings. Got feature names with dtypes: ['float', 'str']. An error will be raised in 1.2.\n",
      "  FutureWarning,\n",
      "D:\\Program Files\\Anaconda3\\envs\\pytorchenv\\lib\\site-packages\\sklearn\\utils\\validation.py:1692: FutureWarning: Feature names only support names that are all strings. Got feature names with dtypes: ['float', 'str']. An error will be raised in 1.2.\n",
      "  FutureWarning,\n",
      "D:\\Program Files\\Anaconda3\\envs\\pytorchenv\\lib\\site-packages\\sklearn\\utils\\validation.py:1692: FutureWarning: Feature names only support names that are all strings. Got feature names with dtypes: ['float', 'str']. An error will be raised in 1.2.\n",
      "  FutureWarning,\n",
      "D:\\Program Files\\Anaconda3\\envs\\pytorchenv\\lib\\site-packages\\sklearn\\utils\\validation.py:1692: FutureWarning: Feature names only support names that are all strings. Got feature names with dtypes: ['float', 'str']. An error will be raised in 1.2.\n",
      "  FutureWarning,\n",
      "D:\\Program Files\\Anaconda3\\envs\\pytorchenv\\lib\\site-packages\\sklearn\\utils\\validation.py:1692: FutureWarning: Feature names only support names that are all strings. Got feature names with dtypes: ['float', 'str']. An error will be raised in 1.2.\n",
      "  FutureWarning,\n",
      "D:\\Program Files\\Anaconda3\\envs\\pytorchenv\\lib\\site-packages\\sklearn\\utils\\validation.py:1692: FutureWarning: Feature names only support names that are all strings. Got feature names with dtypes: ['float', 'str']. An error will be raised in 1.2.\n",
      "  FutureWarning,\n",
      "D:\\Program Files\\Anaconda3\\envs\\pytorchenv\\lib\\site-packages\\sklearn\\utils\\validation.py:1692: FutureWarning: Feature names only support names that are all strings. Got feature names with dtypes: ['float', 'str']. An error will be raised in 1.2.\n",
      "  FutureWarning,\n",
      "D:\\Program Files\\Anaconda3\\envs\\pytorchenv\\lib\\site-packages\\sklearn\\utils\\validation.py:1692: FutureWarning: Feature names only support names that are all strings. Got feature names with dtypes: ['float', 'str']. An error will be raised in 1.2.\n",
      "  FutureWarning,\n",
      "D:\\Program Files\\Anaconda3\\envs\\pytorchenv\\lib\\site-packages\\sklearn\\utils\\validation.py:1692: FutureWarning: Feature names only support names that are all strings. Got feature names with dtypes: ['float', 'str']. An error will be raised in 1.2.\n",
      "  FutureWarning,\n"
     ]
    }
   ],
   "source": [
    "Accuracy = [knn.score(X_test, y_test), svc_model.score(X_test, y_test), d_tree.score(X_test, y_test), rfc.score(X_test, y_test), model_LR.score(X_test, y_test),gbc.score(X_test, y_test),abc_model.score(X_test, y_test),gauss_nb.score(X_test, y_test),lda.score(X_test, y_test),qda.score(X_test, y_test),MLP.score(X_test, y_test), SGD.score(X_test, y_test)]"
   ]
  },
  {
   "cell_type": "code",
   "execution_count": null,
   "metadata": {},
   "outputs": [],
   "source": [
    "# we create a DataFrame"
   ]
  },
  {
   "cell_type": "code",
   "execution_count": 692,
   "metadata": {},
   "outputs": [],
   "source": [
    "result = pd.DataFrame()"
   ]
  },
  {
   "cell_type": "code",
   "execution_count": 694,
   "metadata": {},
   "outputs": [],
   "source": [
    "result[\"Classifier\"] = Classifier"
   ]
  },
  {
   "cell_type": "code",
   "execution_count": 695,
   "metadata": {},
   "outputs": [],
   "source": [
    "result[\"Accuracy\"] = Accuracy"
   ]
  },
  {
   "cell_type": "code",
   "execution_count": 705,
   "metadata": {},
   "outputs": [
    {
     "data": {
      "text/html": [
       "<div>\n",
       "<style scoped>\n",
       "    .dataframe tbody tr th:only-of-type {\n",
       "        vertical-align: middle;\n",
       "    }\n",
       "\n",
       "    .dataframe tbody tr th {\n",
       "        vertical-align: top;\n",
       "    }\n",
       "\n",
       "    .dataframe thead th {\n",
       "        text-align: right;\n",
       "    }\n",
       "</style>\n",
       "<table border=\"1\" class=\"dataframe\">\n",
       "  <thead>\n",
       "    <tr style=\"text-align: right;\">\n",
       "      <th></th>\n",
       "      <th>Classifier</th>\n",
       "      <th>Accuracy</th>\n",
       "    </tr>\n",
       "  </thead>\n",
       "  <tbody>\n",
       "    <tr>\n",
       "      <th>1</th>\n",
       "      <td>SVM</td>\n",
       "      <td>0.842270</td>\n",
       "    </tr>\n",
       "    <tr>\n",
       "      <th>4</th>\n",
       "      <td>Logistic Regression</td>\n",
       "      <td>0.842270</td>\n",
       "    </tr>\n",
       "    <tr>\n",
       "      <th>3</th>\n",
       "      <td>Random Forest</td>\n",
       "      <td>0.840439</td>\n",
       "    </tr>\n",
       "    <tr>\n",
       "      <th>5</th>\n",
       "      <td>Gradient Boosting</td>\n",
       "      <td>0.839916</td>\n",
       "    </tr>\n",
       "    <tr>\n",
       "      <th>6</th>\n",
       "      <td>Ada Boost</td>\n",
       "      <td>0.839916</td>\n",
       "    </tr>\n",
       "    <tr>\n",
       "      <th>8</th>\n",
       "      <td>Linear Discriminant Analysis</td>\n",
       "      <td>0.835470</td>\n",
       "    </tr>\n",
       "    <tr>\n",
       "      <th>11</th>\n",
       "      <td>SGD</td>\n",
       "      <td>0.759090</td>\n",
       "    </tr>\n",
       "    <tr>\n",
       "      <th>0</th>\n",
       "      <td>Knn</td>\n",
       "      <td>0.741564</td>\n",
       "    </tr>\n",
       "    <tr>\n",
       "      <th>10</th>\n",
       "      <td>MLP</td>\n",
       "      <td>0.726654</td>\n",
       "    </tr>\n",
       "    <tr>\n",
       "      <th>2</th>\n",
       "      <td>Decision Tree</td>\n",
       "      <td>0.721161</td>\n",
       "    </tr>\n",
       "    <tr>\n",
       "      <th>7</th>\n",
       "      <td>Gaussian NB</td>\n",
       "      <td>0.204551</td>\n",
       "    </tr>\n",
       "    <tr>\n",
       "      <th>9</th>\n",
       "      <td>Quadratic Discriminant Analysis</td>\n",
       "      <td>0.169500</td>\n",
       "    </tr>\n",
       "  </tbody>\n",
       "</table>\n",
       "</div>"
      ],
      "text/plain": [
       "                         Classifier  Accuracy\n",
       "1                               SVM  0.842270\n",
       "4               Logistic Regression  0.842270\n",
       "3                     Random Forest  0.840439\n",
       "5                 Gradient Boosting  0.839916\n",
       "6                         Ada Boost  0.839916\n",
       "8      Linear Discriminant Analysis  0.835470\n",
       "11                              SGD  0.759090\n",
       "0                               Knn  0.741564\n",
       "10                              MLP  0.726654\n",
       "2                     Decision Tree  0.721161\n",
       "7                       Gaussian NB  0.204551\n",
       "9   Quadratic Discriminant Analysis  0.169500"
      ]
     },
     "execution_count": 705,
     "metadata": {},
     "output_type": "execute_result"
    }
   ],
   "source": [
    "result.sort_values('Accuracy',ascending = False)\n",
    "# we select SVM since its accuracy is the best"
   ]
  },
  {
   "cell_type": "code",
   "execution_count": null,
   "metadata": {},
   "outputs": [],
   "source": [
    "# We use SVM for testing.csv files"
   ]
  },
  {
   "cell_type": "markdown",
   "metadata": {},
   "source": [
    "# 3) TESTING OVER TEST.CSV\n",
    "\n",
    "# Apply our model to the test set. SVM is selected."
   ]
  },
  {
   "cell_type": "code",
   "execution_count": 706,
   "metadata": {},
   "outputs": [
    {
     "data": {
      "text/html": [
       "<div>\n",
       "<style scoped>\n",
       "    .dataframe tbody tr th:only-of-type {\n",
       "        vertical-align: middle;\n",
       "    }\n",
       "\n",
       "    .dataframe tbody tr th {\n",
       "        vertical-align: top;\n",
       "    }\n",
       "\n",
       "    .dataframe thead th {\n",
       "        text-align: right;\n",
       "    }\n",
       "</style>\n",
       "<table border=\"1\" class=\"dataframe\">\n",
       "  <thead>\n",
       "    <tr style=\"text-align: right;\">\n",
       "      <th></th>\n",
       "      <th>CURRENT_DEMERITS</th>\n",
       "      <th>EMPLOYEE_COUNT</th>\n",
       "      <th>INSPECTION_DEMERITS</th>\n",
       "      <th>MEDIAN_EMPLOYEE_AGE</th>\n",
       "      <th>MEDIAN_EMPLOYEE_TENURE</th>\n",
       "      <th>NUMBER_OF_VIOLATIONS</th>\n",
       "      <th>Banquet Kitchen</th>\n",
       "      <th>Banquet Support</th>\n",
       "      <th>Bar / Tavern</th>\n",
       "      <th>Barbeque</th>\n",
       "      <th>...</th>\n",
       "      <th>Non-Major</th>\n",
       "      <th>Critical</th>\n",
       "      <th>Imminent Health Hazard</th>\n",
       "      <th>Major</th>\n",
       "      <th>Non-Major</th>\n",
       "      <th>Supercritical</th>\n",
       "      <th>Illogical</th>\n",
       "      <th>Imminent Health Hazard</th>\n",
       "      <th>Major</th>\n",
       "      <th>Non-Major</th>\n",
       "    </tr>\n",
       "  </thead>\n",
       "  <tbody>\n",
       "    <tr>\n",
       "      <th>2637</th>\n",
       "      <td>3.0</td>\n",
       "      <td>14.0</td>\n",
       "      <td>7</td>\n",
       "      <td>25.628881</td>\n",
       "      <td>9.198558</td>\n",
       "      <td>4</td>\n",
       "      <td>0</td>\n",
       "      <td>0</td>\n",
       "      <td>0</td>\n",
       "      <td>0</td>\n",
       "      <td>...</td>\n",
       "      <td>1</td>\n",
       "      <td>0</td>\n",
       "      <td>0</td>\n",
       "      <td>0</td>\n",
       "      <td>1</td>\n",
       "      <td>0</td>\n",
       "      <td>0</td>\n",
       "      <td>0</td>\n",
       "      <td>0</td>\n",
       "      <td>1</td>\n",
       "    </tr>\n",
       "    <tr>\n",
       "      <th>13803</th>\n",
       "      <td>5.0</td>\n",
       "      <td>18.0</td>\n",
       "      <td>15</td>\n",
       "      <td>18.608808</td>\n",
       "      <td>6.101684</td>\n",
       "      <td>7</td>\n",
       "      <td>0</td>\n",
       "      <td>0</td>\n",
       "      <td>0</td>\n",
       "      <td>0</td>\n",
       "      <td>...</td>\n",
       "      <td>0</td>\n",
       "      <td>0</td>\n",
       "      <td>0</td>\n",
       "      <td>1</td>\n",
       "      <td>0</td>\n",
       "      <td>0</td>\n",
       "      <td>0</td>\n",
       "      <td>0</td>\n",
       "      <td>1</td>\n",
       "      <td>0</td>\n",
       "    </tr>\n",
       "    <tr>\n",
       "      <th>11013</th>\n",
       "      <td>8.0</td>\n",
       "      <td>3.0</td>\n",
       "      <td>12</td>\n",
       "      <td>22.973619</td>\n",
       "      <td>6.621685</td>\n",
       "      <td>5</td>\n",
       "      <td>0</td>\n",
       "      <td>0</td>\n",
       "      <td>0</td>\n",
       "      <td>0</td>\n",
       "      <td>...</td>\n",
       "      <td>0</td>\n",
       "      <td>0</td>\n",
       "      <td>0</td>\n",
       "      <td>1</td>\n",
       "      <td>0</td>\n",
       "      <td>0</td>\n",
       "      <td>0</td>\n",
       "      <td>0</td>\n",
       "      <td>1</td>\n",
       "      <td>0</td>\n",
       "    </tr>\n",
       "    <tr>\n",
       "      <th>8696</th>\n",
       "      <td>6.0</td>\n",
       "      <td>14.0</td>\n",
       "      <td>19</td>\n",
       "      <td>33.107432</td>\n",
       "      <td>2.676538</td>\n",
       "      <td>7</td>\n",
       "      <td>0</td>\n",
       "      <td>0</td>\n",
       "      <td>0</td>\n",
       "      <td>0</td>\n",
       "      <td>...</td>\n",
       "      <td>0</td>\n",
       "      <td>1</td>\n",
       "      <td>0</td>\n",
       "      <td>0</td>\n",
       "      <td>0</td>\n",
       "      <td>0</td>\n",
       "      <td>0</td>\n",
       "      <td>0</td>\n",
       "      <td>1</td>\n",
       "      <td>0</td>\n",
       "    </tr>\n",
       "    <tr>\n",
       "      <th>10700</th>\n",
       "      <td>8.0</td>\n",
       "      <td>15.0</td>\n",
       "      <td>22</td>\n",
       "      <td>22.687692</td>\n",
       "      <td>3.884677</td>\n",
       "      <td>9</td>\n",
       "      <td>0</td>\n",
       "      <td>0</td>\n",
       "      <td>0</td>\n",
       "      <td>0</td>\n",
       "      <td>...</td>\n",
       "      <td>0</td>\n",
       "      <td>1</td>\n",
       "      <td>0</td>\n",
       "      <td>0</td>\n",
       "      <td>0</td>\n",
       "      <td>0</td>\n",
       "      <td>0</td>\n",
       "      <td>0</td>\n",
       "      <td>1</td>\n",
       "      <td>0</td>\n",
       "    </tr>\n",
       "    <tr>\n",
       "      <th>...</th>\n",
       "      <td>...</td>\n",
       "      <td>...</td>\n",
       "      <td>...</td>\n",
       "      <td>...</td>\n",
       "      <td>...</td>\n",
       "      <td>...</td>\n",
       "      <td>...</td>\n",
       "      <td>...</td>\n",
       "      <td>...</td>\n",
       "      <td>...</td>\n",
       "      <td>...</td>\n",
       "      <td>...</td>\n",
       "      <td>...</td>\n",
       "      <td>...</td>\n",
       "      <td>...</td>\n",
       "      <td>...</td>\n",
       "      <td>...</td>\n",
       "      <td>...</td>\n",
       "      <td>...</td>\n",
       "      <td>...</td>\n",
       "      <td>...</td>\n",
       "    </tr>\n",
       "    <tr>\n",
       "      <th>6696</th>\n",
       "      <td>0.0</td>\n",
       "      <td>22.0</td>\n",
       "      <td>39</td>\n",
       "      <td>30.996020</td>\n",
       "      <td>6.007568</td>\n",
       "      <td>12</td>\n",
       "      <td>0</td>\n",
       "      <td>0</td>\n",
       "      <td>0</td>\n",
       "      <td>0</td>\n",
       "      <td>...</td>\n",
       "      <td>0</td>\n",
       "      <td>1</td>\n",
       "      <td>0</td>\n",
       "      <td>0</td>\n",
       "      <td>0</td>\n",
       "      <td>0</td>\n",
       "      <td>0</td>\n",
       "      <td>0</td>\n",
       "      <td>0</td>\n",
       "      <td>0</td>\n",
       "    </tr>\n",
       "    <tr>\n",
       "      <th>14932</th>\n",
       "      <td>0.0</td>\n",
       "      <td>9.0</td>\n",
       "      <td>19</td>\n",
       "      <td>22.423735</td>\n",
       "      <td>4.094182</td>\n",
       "      <td>9</td>\n",
       "      <td>0</td>\n",
       "      <td>0</td>\n",
       "      <td>0</td>\n",
       "      <td>0</td>\n",
       "      <td>...</td>\n",
       "      <td>0</td>\n",
       "      <td>1</td>\n",
       "      <td>0</td>\n",
       "      <td>0</td>\n",
       "      <td>0</td>\n",
       "      <td>0</td>\n",
       "      <td>0</td>\n",
       "      <td>0</td>\n",
       "      <td>1</td>\n",
       "      <td>0</td>\n",
       "    </tr>\n",
       "    <tr>\n",
       "      <th>8033</th>\n",
       "      <td>0.0</td>\n",
       "      <td>12.0</td>\n",
       "      <td>8</td>\n",
       "      <td>27.088670</td>\n",
       "      <td>7.271288</td>\n",
       "      <td>4</td>\n",
       "      <td>0</td>\n",
       "      <td>0</td>\n",
       "      <td>0</td>\n",
       "      <td>0</td>\n",
       "      <td>...</td>\n",
       "      <td>0</td>\n",
       "      <td>0</td>\n",
       "      <td>0</td>\n",
       "      <td>1</td>\n",
       "      <td>0</td>\n",
       "      <td>0</td>\n",
       "      <td>0</td>\n",
       "      <td>0</td>\n",
       "      <td>0</td>\n",
       "      <td>1</td>\n",
       "    </tr>\n",
       "    <tr>\n",
       "      <th>3645</th>\n",
       "      <td>10.0</td>\n",
       "      <td>7.0</td>\n",
       "      <td>10</td>\n",
       "      <td>21.244677</td>\n",
       "      <td>0.905748</td>\n",
       "      <td>4</td>\n",
       "      <td>0</td>\n",
       "      <td>0</td>\n",
       "      <td>0</td>\n",
       "      <td>0</td>\n",
       "      <td>...</td>\n",
       "      <td>0</td>\n",
       "      <td>0</td>\n",
       "      <td>0</td>\n",
       "      <td>1</td>\n",
       "      <td>0</td>\n",
       "      <td>0</td>\n",
       "      <td>0</td>\n",
       "      <td>0</td>\n",
       "      <td>1</td>\n",
       "      <td>0</td>\n",
       "    </tr>\n",
       "    <tr>\n",
       "      <th>12073</th>\n",
       "      <td>9.0</td>\n",
       "      <td>8.0</td>\n",
       "      <td>28</td>\n",
       "      <td>29.275482</td>\n",
       "      <td>1.650664</td>\n",
       "      <td>14</td>\n",
       "      <td>0</td>\n",
       "      <td>0</td>\n",
       "      <td>0</td>\n",
       "      <td>0</td>\n",
       "      <td>...</td>\n",
       "      <td>0</td>\n",
       "      <td>0</td>\n",
       "      <td>0</td>\n",
       "      <td>1</td>\n",
       "      <td>0</td>\n",
       "      <td>0</td>\n",
       "      <td>0</td>\n",
       "      <td>0</td>\n",
       "      <td>1</td>\n",
       "      <td>0</td>\n",
       "    </tr>\n",
       "  </tbody>\n",
       "</table>\n",
       "<p>3823 rows × 292 columns</p>\n",
       "</div>"
      ],
      "text/plain": [
       "       CURRENT_DEMERITS  EMPLOYEE_COUNT INSPECTION_DEMERITS  \\\n",
       "2637                3.0            14.0                   7   \n",
       "13803               5.0            18.0                  15   \n",
       "11013               8.0             3.0                  12   \n",
       "8696                6.0            14.0                  19   \n",
       "10700               8.0            15.0                  22   \n",
       "...                 ...             ...                 ...   \n",
       "6696                0.0            22.0                  39   \n",
       "14932               0.0             9.0                  19   \n",
       "8033                0.0            12.0                   8   \n",
       "3645               10.0             7.0                  10   \n",
       "12073               9.0             8.0                  28   \n",
       "\n",
       "       MEDIAN_EMPLOYEE_AGE  MEDIAN_EMPLOYEE_TENURE NUMBER_OF_VIOLATIONS  \\\n",
       "2637             25.628881                9.198558                    4   \n",
       "13803            18.608808                6.101684                    7   \n",
       "11013            22.973619                6.621685                    5   \n",
       "8696             33.107432                2.676538                    7   \n",
       "10700            22.687692                3.884677                    9   \n",
       "...                    ...                     ...                  ...   \n",
       "6696             30.996020                6.007568                   12   \n",
       "14932            22.423735                4.094182                    9   \n",
       "8033             27.088670                7.271288                    4   \n",
       "3645             21.244677                0.905748                    4   \n",
       "12073            29.275482                1.650664                   14   \n",
       "\n",
       "       Banquet Kitchen  Banquet Support  Bar / Tavern  Barbeque  ...  \\\n",
       "2637                 0                0             0         0  ...   \n",
       "13803                0                0             0         0  ...   \n",
       "11013                0                0             0         0  ...   \n",
       "8696                 0                0             0         0  ...   \n",
       "10700                0                0             0         0  ...   \n",
       "...                ...              ...           ...       ...  ...   \n",
       "6696                 0                0             0         0  ...   \n",
       "14932                0                0             0         0  ...   \n",
       "8033                 0                0             0         0  ...   \n",
       "3645                 0                0             0         0  ...   \n",
       "12073                0                0             0         0  ...   \n",
       "\n",
       "       Non-Major  Critical  Imminent Health Hazard  Major  Non-Major  \\\n",
       "2637           1         0                       0      0          1   \n",
       "13803          0         0                       0      1          0   \n",
       "11013          0         0                       0      1          0   \n",
       "8696           0         1                       0      0          0   \n",
       "10700          0         1                       0      0          0   \n",
       "...          ...       ...                     ...    ...        ...   \n",
       "6696           0         1                       0      0          0   \n",
       "14932          0         1                       0      0          0   \n",
       "8033           0         0                       0      1          0   \n",
       "3645           0         0                       0      1          0   \n",
       "12073          0         0                       0      1          0   \n",
       "\n",
       "       Supercritical  Illogical  Imminent Health Hazard  Major  Non-Major  \n",
       "2637               0          0                       0      0          1  \n",
       "13803              0          0                       0      1          0  \n",
       "11013              0          0                       0      1          0  \n",
       "8696               0          0                       0      1          0  \n",
       "10700              0          0                       0      1          0  \n",
       "...              ...        ...                     ...    ...        ...  \n",
       "6696               0          0                       0      0          0  \n",
       "14932              0          0                       0      1          0  \n",
       "8033               0          0                       0      0          1  \n",
       "3645               0          0                       0      1          0  \n",
       "12073              0          0                       0      1          0  \n",
       "\n",
       "[3823 rows x 292 columns]"
      ]
     },
     "execution_count": 706,
     "metadata": {},
     "output_type": "execute_result"
    }
   ],
   "source": [
    "X_test"
   ]
  },
  {
   "cell_type": "code",
   "execution_count": 707,
   "metadata": {},
   "outputs": [
    {
     "data": {
      "text/html": [
       "<div>\n",
       "<style scoped>\n",
       "    .dataframe tbody tr th:only-of-type {\n",
       "        vertical-align: middle;\n",
       "    }\n",
       "\n",
       "    .dataframe tbody tr th {\n",
       "        vertical-align: top;\n",
       "    }\n",
       "\n",
       "    .dataframe thead th {\n",
       "        text-align: right;\n",
       "    }\n",
       "</style>\n",
       "<table border=\"1\" class=\"dataframe\">\n",
       "  <thead>\n",
       "    <tr style=\"text-align: right;\">\n",
       "      <th></th>\n",
       "      <th>CURRENT_DEMERITS</th>\n",
       "      <th>EMPLOYEE_COUNT</th>\n",
       "      <th>INSPECTION_DEMERITS</th>\n",
       "      <th>MEDIAN_EMPLOYEE_AGE</th>\n",
       "      <th>MEDIAN_EMPLOYEE_TENURE</th>\n",
       "      <th>NEXT_INSPECTION_GRADE_C_OR_BELOW</th>\n",
       "      <th>NUMBER_OF_VIOLATIONS</th>\n",
       "      <th>Banquet Kitchen</th>\n",
       "      <th>Banquet Support</th>\n",
       "      <th>Bar / Tavern</th>\n",
       "      <th>...</th>\n",
       "      <th>Non-Major</th>\n",
       "      <th>Critical</th>\n",
       "      <th>Imminent Health Hazard</th>\n",
       "      <th>Major</th>\n",
       "      <th>Non-Major</th>\n",
       "      <th>Supercritical</th>\n",
       "      <th>Illogical</th>\n",
       "      <th>Imminent Health Hazard</th>\n",
       "      <th>Major</th>\n",
       "      <th>Non-Major</th>\n",
       "    </tr>\n",
       "  </thead>\n",
       "  <tbody>\n",
       "    <tr>\n",
       "      <th>0</th>\n",
       "      <td>6.0</td>\n",
       "      <td>3.000000</td>\n",
       "      <td>21</td>\n",
       "      <td>31.141933</td>\n",
       "      <td>3.542119</td>\n",
       "      <td>0</td>\n",
       "      <td>5</td>\n",
       "      <td>0</td>\n",
       "      <td>0</td>\n",
       "      <td>0</td>\n",
       "      <td>...</td>\n",
       "      <td>0</td>\n",
       "      <td>0</td>\n",
       "      <td>0</td>\n",
       "      <td>1</td>\n",
       "      <td>0</td>\n",
       "      <td>0</td>\n",
       "      <td>0</td>\n",
       "      <td>0</td>\n",
       "      <td>1</td>\n",
       "      <td>0</td>\n",
       "    </tr>\n",
       "    <tr>\n",
       "      <th>1</th>\n",
       "      <td>0.0</td>\n",
       "      <td>18.598406</td>\n",
       "      <td>8</td>\n",
       "      <td>26.839893</td>\n",
       "      <td>4.885881</td>\n",
       "      <td>0</td>\n",
       "      <td>4</td>\n",
       "      <td>0</td>\n",
       "      <td>0</td>\n",
       "      <td>1</td>\n",
       "      <td>...</td>\n",
       "      <td>0</td>\n",
       "      <td>0</td>\n",
       "      <td>0</td>\n",
       "      <td>1</td>\n",
       "      <td>0</td>\n",
       "      <td>0</td>\n",
       "      <td>0</td>\n",
       "      <td>0</td>\n",
       "      <td>0</td>\n",
       "      <td>1</td>\n",
       "    </tr>\n",
       "    <tr>\n",
       "      <th>2</th>\n",
       "      <td>8.0</td>\n",
       "      <td>5.730357</td>\n",
       "      <td>15</td>\n",
       "      <td>31.202256</td>\n",
       "      <td>1.883055</td>\n",
       "      <td>0</td>\n",
       "      <td>6</td>\n",
       "      <td>0</td>\n",
       "      <td>0</td>\n",
       "      <td>1</td>\n",
       "      <td>...</td>\n",
       "      <td>0</td>\n",
       "      <td>0</td>\n",
       "      <td>0</td>\n",
       "      <td>1</td>\n",
       "      <td>0</td>\n",
       "      <td>0</td>\n",
       "      <td>0</td>\n",
       "      <td>0</td>\n",
       "      <td>1</td>\n",
       "      <td>0</td>\n",
       "    </tr>\n",
       "    <tr>\n",
       "      <th>3</th>\n",
       "      <td>0.0</td>\n",
       "      <td>15.075238</td>\n",
       "      <td>33</td>\n",
       "      <td>36.656000</td>\n",
       "      <td>6.761476</td>\n",
       "      <td>0</td>\n",
       "      <td>11</td>\n",
       "      <td>0</td>\n",
       "      <td>0</td>\n",
       "      <td>0</td>\n",
       "      <td>...</td>\n",
       "      <td>0</td>\n",
       "      <td>1</td>\n",
       "      <td>0</td>\n",
       "      <td>0</td>\n",
       "      <td>0</td>\n",
       "      <td>0</td>\n",
       "      <td>0</td>\n",
       "      <td>0</td>\n",
       "      <td>0</td>\n",
       "      <td>0</td>\n",
       "    </tr>\n",
       "    <tr>\n",
       "      <th>4</th>\n",
       "      <td>9.0</td>\n",
       "      <td>14.218813</td>\n",
       "      <td>10</td>\n",
       "      <td>21.001225</td>\n",
       "      <td>6.601620</td>\n",
       "      <td>0</td>\n",
       "      <td>6</td>\n",
       "      <td>0</td>\n",
       "      <td>0</td>\n",
       "      <td>0</td>\n",
       "      <td>...</td>\n",
       "      <td>0</td>\n",
       "      <td>0</td>\n",
       "      <td>0</td>\n",
       "      <td>1</td>\n",
       "      <td>0</td>\n",
       "      <td>0</td>\n",
       "      <td>0</td>\n",
       "      <td>0</td>\n",
       "      <td>0</td>\n",
       "      <td>1</td>\n",
       "    </tr>\n",
       "    <tr>\n",
       "      <th>...</th>\n",
       "      <td>...</td>\n",
       "      <td>...</td>\n",
       "      <td>...</td>\n",
       "      <td>...</td>\n",
       "      <td>...</td>\n",
       "      <td>...</td>\n",
       "      <td>...</td>\n",
       "      <td>...</td>\n",
       "      <td>...</td>\n",
       "      <td>...</td>\n",
       "      <td>...</td>\n",
       "      <td>...</td>\n",
       "      <td>...</td>\n",
       "      <td>...</td>\n",
       "      <td>...</td>\n",
       "      <td>...</td>\n",
       "      <td>...</td>\n",
       "      <td>...</td>\n",
       "      <td>...</td>\n",
       "      <td>...</td>\n",
       "      <td>...</td>\n",
       "    </tr>\n",
       "    <tr>\n",
       "      <th>7500</th>\n",
       "      <td>0.0</td>\n",
       "      <td>15.230494</td>\n",
       "      <td>20</td>\n",
       "      <td>33.780673</td>\n",
       "      <td>4.008016</td>\n",
       "      <td>0</td>\n",
       "      <td>6</td>\n",
       "      <td>0</td>\n",
       "      <td>0</td>\n",
       "      <td>0</td>\n",
       "      <td>...</td>\n",
       "      <td>0</td>\n",
       "      <td>0</td>\n",
       "      <td>0</td>\n",
       "      <td>1</td>\n",
       "      <td>0</td>\n",
       "      <td>0</td>\n",
       "      <td>0</td>\n",
       "      <td>0</td>\n",
       "      <td>1</td>\n",
       "      <td>0</td>\n",
       "    </tr>\n",
       "    <tr>\n",
       "      <th>7501</th>\n",
       "      <td>6.0</td>\n",
       "      <td>25.409139</td>\n",
       "      <td>5</td>\n",
       "      <td>31.688779</td>\n",
       "      <td>3.453527</td>\n",
       "      <td>0</td>\n",
       "      <td>3</td>\n",
       "      <td>0</td>\n",
       "      <td>0</td>\n",
       "      <td>0</td>\n",
       "      <td>...</td>\n",
       "      <td>0</td>\n",
       "      <td>0</td>\n",
       "      <td>0</td>\n",
       "      <td>0</td>\n",
       "      <td>1</td>\n",
       "      <td>0</td>\n",
       "      <td>0</td>\n",
       "      <td>0</td>\n",
       "      <td>0</td>\n",
       "      <td>1</td>\n",
       "    </tr>\n",
       "    <tr>\n",
       "      <th>7502</th>\n",
       "      <td>8.0</td>\n",
       "      <td>16.694861</td>\n",
       "      <td>13</td>\n",
       "      <td>26.272563</td>\n",
       "      <td>3.070719</td>\n",
       "      <td>0</td>\n",
       "      <td>3</td>\n",
       "      <td>0</td>\n",
       "      <td>0</td>\n",
       "      <td>0</td>\n",
       "      <td>...</td>\n",
       "      <td>0</td>\n",
       "      <td>0</td>\n",
       "      <td>0</td>\n",
       "      <td>0</td>\n",
       "      <td>1</td>\n",
       "      <td>0</td>\n",
       "      <td>0</td>\n",
       "      <td>0</td>\n",
       "      <td>1</td>\n",
       "      <td>0</td>\n",
       "    </tr>\n",
       "    <tr>\n",
       "      <th>7503</th>\n",
       "      <td>3.0</td>\n",
       "      <td>25.367641</td>\n",
       "      <td>8</td>\n",
       "      <td>19.612605</td>\n",
       "      <td>6.637496</td>\n",
       "      <td>0</td>\n",
       "      <td>4</td>\n",
       "      <td>0</td>\n",
       "      <td>0</td>\n",
       "      <td>1</td>\n",
       "      <td>...</td>\n",
       "      <td>0</td>\n",
       "      <td>0</td>\n",
       "      <td>0</td>\n",
       "      <td>1</td>\n",
       "      <td>0</td>\n",
       "      <td>0</td>\n",
       "      <td>0</td>\n",
       "      <td>0</td>\n",
       "      <td>0</td>\n",
       "      <td>1</td>\n",
       "    </tr>\n",
       "    <tr>\n",
       "      <th>7504</th>\n",
       "      <td>9.0</td>\n",
       "      <td>11.466460</td>\n",
       "      <td>15</td>\n",
       "      <td>26.525109</td>\n",
       "      <td>6.044159</td>\n",
       "      <td>0</td>\n",
       "      <td>5</td>\n",
       "      <td>0</td>\n",
       "      <td>0</td>\n",
       "      <td>0</td>\n",
       "      <td>...</td>\n",
       "      <td>0</td>\n",
       "      <td>0</td>\n",
       "      <td>0</td>\n",
       "      <td>1</td>\n",
       "      <td>0</td>\n",
       "      <td>0</td>\n",
       "      <td>0</td>\n",
       "      <td>0</td>\n",
       "      <td>0</td>\n",
       "      <td>1</td>\n",
       "    </tr>\n",
       "  </tbody>\n",
       "</table>\n",
       "<p>7494 rows × 293 columns</p>\n",
       "</div>"
      ],
      "text/plain": [
       "      CURRENT_DEMERITS  EMPLOYEE_COUNT INSPECTION_DEMERITS  \\\n",
       "0                  6.0        3.000000                  21   \n",
       "1                  0.0       18.598406                   8   \n",
       "2                  8.0        5.730357                  15   \n",
       "3                  0.0       15.075238                  33   \n",
       "4                  9.0       14.218813                  10   \n",
       "...                ...             ...                 ...   \n",
       "7500               0.0       15.230494                  20   \n",
       "7501               6.0       25.409139                   5   \n",
       "7502               8.0       16.694861                  13   \n",
       "7503               3.0       25.367641                   8   \n",
       "7504               9.0       11.466460                  15   \n",
       "\n",
       "      MEDIAN_EMPLOYEE_AGE  MEDIAN_EMPLOYEE_TENURE  \\\n",
       "0               31.141933                3.542119   \n",
       "1               26.839893                4.885881   \n",
       "2               31.202256                1.883055   \n",
       "3               36.656000                6.761476   \n",
       "4               21.001225                6.601620   \n",
       "...                   ...                     ...   \n",
       "7500            33.780673                4.008016   \n",
       "7501            31.688779                3.453527   \n",
       "7502            26.272563                3.070719   \n",
       "7503            19.612605                6.637496   \n",
       "7504            26.525109                6.044159   \n",
       "\n",
       "     NEXT_INSPECTION_GRADE_C_OR_BELOW NUMBER_OF_VIOLATIONS  Banquet Kitchen  \\\n",
       "0                                   0                    5                0   \n",
       "1                                   0                    4                0   \n",
       "2                                   0                    6                0   \n",
       "3                                   0                   11                0   \n",
       "4                                   0                    6                0   \n",
       "...                               ...                  ...              ...   \n",
       "7500                                0                    6                0   \n",
       "7501                                0                    3                0   \n",
       "7502                                0                    3                0   \n",
       "7503                                0                    4                0   \n",
       "7504                                0                    5                0   \n",
       "\n",
       "      Banquet Support  Bar / Tavern  ...  Non-Major  Critical  \\\n",
       "0                   0             0  ...          0         0   \n",
       "1                   0             1  ...          0         0   \n",
       "2                   0             1  ...          0         0   \n",
       "3                   0             0  ...          0         1   \n",
       "4                   0             0  ...          0         0   \n",
       "...               ...           ...  ...        ...       ...   \n",
       "7500                0             0  ...          0         0   \n",
       "7501                0             0  ...          0         0   \n",
       "7502                0             0  ...          0         0   \n",
       "7503                0             1  ...          0         0   \n",
       "7504                0             0  ...          0         0   \n",
       "\n",
       "      Imminent Health Hazard  Major  Non-Major  Supercritical  Illogical  \\\n",
       "0                          0      1          0              0          0   \n",
       "1                          0      1          0              0          0   \n",
       "2                          0      1          0              0          0   \n",
       "3                          0      0          0              0          0   \n",
       "4                          0      1          0              0          0   \n",
       "...                      ...    ...        ...            ...        ...   \n",
       "7500                       0      1          0              0          0   \n",
       "7501                       0      0          1              0          0   \n",
       "7502                       0      0          1              0          0   \n",
       "7503                       0      1          0              0          0   \n",
       "7504                       0      1          0              0          0   \n",
       "\n",
       "      Imminent Health Hazard  Major  Non-Major  \n",
       "0                          0      1          0  \n",
       "1                          0      0          1  \n",
       "2                          0      1          0  \n",
       "3                          0      0          0  \n",
       "4                          0      0          1  \n",
       "...                      ...    ...        ...  \n",
       "7500                       0      1          0  \n",
       "7501                       0      0          1  \n",
       "7502                       0      1          0  \n",
       "7503                       0      0          1  \n",
       "7504                       0      0          1  \n",
       "\n",
       "[7494 rows x 293 columns]"
      ]
     },
     "execution_count": 707,
     "metadata": {},
     "output_type": "execute_result"
    }
   ],
   "source": [
    "df2_test"
   ]
  },
  {
   "cell_type": "code",
   "execution_count": 708,
   "metadata": {},
   "outputs": [
    {
     "data": {
      "text/html": [
       "<div>\n",
       "<style scoped>\n",
       "    .dataframe tbody tr th:only-of-type {\n",
       "        vertical-align: middle;\n",
       "    }\n",
       "\n",
       "    .dataframe tbody tr th {\n",
       "        vertical-align: top;\n",
       "    }\n",
       "\n",
       "    .dataframe thead th {\n",
       "        text-align: right;\n",
       "    }\n",
       "</style>\n",
       "<table border=\"1\" class=\"dataframe\">\n",
       "  <thead>\n",
       "    <tr style=\"text-align: right;\">\n",
       "      <th></th>\n",
       "      <th>CURRENT_DEMERITS</th>\n",
       "      <th>EMPLOYEE_COUNT</th>\n",
       "      <th>INSPECTION_DEMERITS</th>\n",
       "      <th>MEDIAN_EMPLOYEE_AGE</th>\n",
       "      <th>MEDIAN_EMPLOYEE_TENURE</th>\n",
       "      <th>NEXT_INSPECTION_GRADE_C_OR_BELOW</th>\n",
       "      <th>NUMBER_OF_VIOLATIONS</th>\n",
       "      <th>RESTAURANT_SERIAL_NUMBER</th>\n",
       "      <th>ds_type</th>\n",
       "      <th>Banquet Kitchen</th>\n",
       "      <th>...</th>\n",
       "      <th>Non-Major</th>\n",
       "      <th>Critical</th>\n",
       "      <th>Imminent Health Hazard</th>\n",
       "      <th>Major</th>\n",
       "      <th>Non-Major</th>\n",
       "      <th>Supercritical</th>\n",
       "      <th>Illogical</th>\n",
       "      <th>Imminent Health Hazard</th>\n",
       "      <th>Major</th>\n",
       "      <th>Non-Major</th>\n",
       "    </tr>\n",
       "  </thead>\n",
       "  <tbody>\n",
       "    <tr>\n",
       "      <th>0</th>\n",
       "      <td>0.0</td>\n",
       "      <td>25.000000</td>\n",
       "      <td>11</td>\n",
       "      <td>27.959983</td>\n",
       "      <td>13.004886</td>\n",
       "      <td>0</td>\n",
       "      <td>4</td>\n",
       "      <td>DA1117270</td>\n",
       "      <td>Train</td>\n",
       "      <td>0</td>\n",
       "      <td>...</td>\n",
       "      <td>0</td>\n",
       "      <td>0</td>\n",
       "      <td>0</td>\n",
       "      <td>1</td>\n",
       "      <td>0</td>\n",
       "      <td>0</td>\n",
       "      <td>0</td>\n",
       "      <td>1</td>\n",
       "      <td>0</td>\n",
       "      <td>0</td>\n",
       "    </tr>\n",
       "    <tr>\n",
       "      <th>1</th>\n",
       "      <td>3.0</td>\n",
       "      <td>7.000000</td>\n",
       "      <td>9</td>\n",
       "      <td>27.719365</td>\n",
       "      <td>3.922086</td>\n",
       "      <td>0</td>\n",
       "      <td>5</td>\n",
       "      <td>DA1014948</td>\n",
       "      <td>Train</td>\n",
       "      <td>0</td>\n",
       "      <td>...</td>\n",
       "      <td>0</td>\n",
       "      <td>0</td>\n",
       "      <td>0</td>\n",
       "      <td>1</td>\n",
       "      <td>0</td>\n",
       "      <td>0</td>\n",
       "      <td>0</td>\n",
       "      <td>0</td>\n",
       "      <td>0</td>\n",
       "      <td>1</td>\n",
       "    </tr>\n",
       "    <tr>\n",
       "      <th>2</th>\n",
       "      <td>8.0</td>\n",
       "      <td>23.000000</td>\n",
       "      <td>9</td>\n",
       "      <td>26.442637</td>\n",
       "      <td>10.312777</td>\n",
       "      <td>1</td>\n",
       "      <td>3</td>\n",
       "      <td>DA0861994</td>\n",
       "      <td>Train</td>\n",
       "      <td>0</td>\n",
       "      <td>...</td>\n",
       "      <td>0</td>\n",
       "      <td>0</td>\n",
       "      <td>0</td>\n",
       "      <td>1</td>\n",
       "      <td>0</td>\n",
       "      <td>0</td>\n",
       "      <td>0</td>\n",
       "      <td>0</td>\n",
       "      <td>0</td>\n",
       "      <td>1</td>\n",
       "    </tr>\n",
       "    <tr>\n",
       "      <th>3</th>\n",
       "      <td>0.0</td>\n",
       "      <td>14.000000</td>\n",
       "      <td>5</td>\n",
       "      <td>33.988293</td>\n",
       "      <td>4.163975</td>\n",
       "      <td>0</td>\n",
       "      <td>3</td>\n",
       "      <td>DA0896719</td>\n",
       "      <td>Train</td>\n",
       "      <td>0</td>\n",
       "      <td>...</td>\n",
       "      <td>0</td>\n",
       "      <td>0</td>\n",
       "      <td>0</td>\n",
       "      <td>0</td>\n",
       "      <td>1</td>\n",
       "      <td>0</td>\n",
       "      <td>0</td>\n",
       "      <td>0</td>\n",
       "      <td>0</td>\n",
       "      <td>1</td>\n",
       "    </tr>\n",
       "    <tr>\n",
       "      <th>5</th>\n",
       "      <td>3.0</td>\n",
       "      <td>43.000000</td>\n",
       "      <td>17</td>\n",
       "      <td>25.947206</td>\n",
       "      <td>3.839934</td>\n",
       "      <td>0</td>\n",
       "      <td>7</td>\n",
       "      <td>DA1567561</td>\n",
       "      <td>Train</td>\n",
       "      <td>0</td>\n",
       "      <td>...</td>\n",
       "      <td>0</td>\n",
       "      <td>0</td>\n",
       "      <td>0</td>\n",
       "      <td>1</td>\n",
       "      <td>0</td>\n",
       "      <td>0</td>\n",
       "      <td>0</td>\n",
       "      <td>0</td>\n",
       "      <td>1</td>\n",
       "      <td>0</td>\n",
       "    </tr>\n",
       "    <tr>\n",
       "      <th>...</th>\n",
       "      <td>...</td>\n",
       "      <td>...</td>\n",
       "      <td>...</td>\n",
       "      <td>...</td>\n",
       "      <td>...</td>\n",
       "      <td>...</td>\n",
       "      <td>...</td>\n",
       "      <td>...</td>\n",
       "      <td>...</td>\n",
       "      <td>...</td>\n",
       "      <td>...</td>\n",
       "      <td>...</td>\n",
       "      <td>...</td>\n",
       "      <td>...</td>\n",
       "      <td>...</td>\n",
       "      <td>...</td>\n",
       "      <td>...</td>\n",
       "      <td>...</td>\n",
       "      <td>...</td>\n",
       "      <td>...</td>\n",
       "      <td>...</td>\n",
       "    </tr>\n",
       "    <tr>\n",
       "      <th>7500</th>\n",
       "      <td>0.0</td>\n",
       "      <td>15.230494</td>\n",
       "      <td>20</td>\n",
       "      <td>33.780673</td>\n",
       "      <td>4.008016</td>\n",
       "      <td>0</td>\n",
       "      <td>6</td>\n",
       "      <td>DA0922689</td>\n",
       "      <td>Test</td>\n",
       "      <td>0</td>\n",
       "      <td>...</td>\n",
       "      <td>0</td>\n",
       "      <td>0</td>\n",
       "      <td>0</td>\n",
       "      <td>1</td>\n",
       "      <td>0</td>\n",
       "      <td>0</td>\n",
       "      <td>0</td>\n",
       "      <td>0</td>\n",
       "      <td>1</td>\n",
       "      <td>0</td>\n",
       "    </tr>\n",
       "    <tr>\n",
       "      <th>7501</th>\n",
       "      <td>6.0</td>\n",
       "      <td>25.409139</td>\n",
       "      <td>5</td>\n",
       "      <td>31.688779</td>\n",
       "      <td>3.453527</td>\n",
       "      <td>0</td>\n",
       "      <td>3</td>\n",
       "      <td>DA1031095</td>\n",
       "      <td>Test</td>\n",
       "      <td>0</td>\n",
       "      <td>...</td>\n",
       "      <td>0</td>\n",
       "      <td>0</td>\n",
       "      <td>0</td>\n",
       "      <td>0</td>\n",
       "      <td>1</td>\n",
       "      <td>0</td>\n",
       "      <td>0</td>\n",
       "      <td>0</td>\n",
       "      <td>0</td>\n",
       "      <td>1</td>\n",
       "    </tr>\n",
       "    <tr>\n",
       "      <th>7502</th>\n",
       "      <td>8.0</td>\n",
       "      <td>16.694861</td>\n",
       "      <td>13</td>\n",
       "      <td>26.272563</td>\n",
       "      <td>3.070719</td>\n",
       "      <td>0</td>\n",
       "      <td>3</td>\n",
       "      <td>DA0633450</td>\n",
       "      <td>Test</td>\n",
       "      <td>0</td>\n",
       "      <td>...</td>\n",
       "      <td>0</td>\n",
       "      <td>0</td>\n",
       "      <td>0</td>\n",
       "      <td>0</td>\n",
       "      <td>1</td>\n",
       "      <td>0</td>\n",
       "      <td>0</td>\n",
       "      <td>0</td>\n",
       "      <td>1</td>\n",
       "      <td>0</td>\n",
       "    </tr>\n",
       "    <tr>\n",
       "      <th>7503</th>\n",
       "      <td>3.0</td>\n",
       "      <td>25.367641</td>\n",
       "      <td>8</td>\n",
       "      <td>19.612605</td>\n",
       "      <td>6.637496</td>\n",
       "      <td>0</td>\n",
       "      <td>4</td>\n",
       "      <td>DA0998980</td>\n",
       "      <td>Test</td>\n",
       "      <td>0</td>\n",
       "      <td>...</td>\n",
       "      <td>0</td>\n",
       "      <td>0</td>\n",
       "      <td>0</td>\n",
       "      <td>1</td>\n",
       "      <td>0</td>\n",
       "      <td>0</td>\n",
       "      <td>0</td>\n",
       "      <td>0</td>\n",
       "      <td>0</td>\n",
       "      <td>1</td>\n",
       "    </tr>\n",
       "    <tr>\n",
       "      <th>7504</th>\n",
       "      <td>9.0</td>\n",
       "      <td>11.466460</td>\n",
       "      <td>15</td>\n",
       "      <td>26.525109</td>\n",
       "      <td>6.044159</td>\n",
       "      <td>0</td>\n",
       "      <td>5</td>\n",
       "      <td>DA0831126</td>\n",
       "      <td>Test</td>\n",
       "      <td>0</td>\n",
       "      <td>...</td>\n",
       "      <td>0</td>\n",
       "      <td>0</td>\n",
       "      <td>0</td>\n",
       "      <td>1</td>\n",
       "      <td>0</td>\n",
       "      <td>0</td>\n",
       "      <td>0</td>\n",
       "      <td>0</td>\n",
       "      <td>0</td>\n",
       "      <td>1</td>\n",
       "    </tr>\n",
       "  </tbody>\n",
       "</table>\n",
       "<p>20237 rows × 295 columns</p>\n",
       "</div>"
      ],
      "text/plain": [
       "      CURRENT_DEMERITS  EMPLOYEE_COUNT INSPECTION_DEMERITS  \\\n",
       "0                  0.0       25.000000                  11   \n",
       "1                  3.0        7.000000                   9   \n",
       "2                  8.0       23.000000                   9   \n",
       "3                  0.0       14.000000                   5   \n",
       "5                  3.0       43.000000                  17   \n",
       "...                ...             ...                 ...   \n",
       "7500               0.0       15.230494                  20   \n",
       "7501               6.0       25.409139                   5   \n",
       "7502               8.0       16.694861                  13   \n",
       "7503               3.0       25.367641                   8   \n",
       "7504               9.0       11.466460                  15   \n",
       "\n",
       "      MEDIAN_EMPLOYEE_AGE  MEDIAN_EMPLOYEE_TENURE  \\\n",
       "0               27.959983               13.004886   \n",
       "1               27.719365                3.922086   \n",
       "2               26.442637               10.312777   \n",
       "3               33.988293                4.163975   \n",
       "5               25.947206                3.839934   \n",
       "...                   ...                     ...   \n",
       "7500            33.780673                4.008016   \n",
       "7501            31.688779                3.453527   \n",
       "7502            26.272563                3.070719   \n",
       "7503            19.612605                6.637496   \n",
       "7504            26.525109                6.044159   \n",
       "\n",
       "     NEXT_INSPECTION_GRADE_C_OR_BELOW NUMBER_OF_VIOLATIONS  \\\n",
       "0                                   0                    4   \n",
       "1                                   0                    5   \n",
       "2                                   1                    3   \n",
       "3                                   0                    3   \n",
       "5                                   0                    7   \n",
       "...                               ...                  ...   \n",
       "7500                                0                    6   \n",
       "7501                                0                    3   \n",
       "7502                                0                    3   \n",
       "7503                                0                    4   \n",
       "7504                                0                    5   \n",
       "\n",
       "     RESTAURANT_SERIAL_NUMBER ds_type  Banquet Kitchen  ...  Non-Major  \\\n",
       "0                   DA1117270   Train                0  ...          0   \n",
       "1                   DA1014948   Train                0  ...          0   \n",
       "2                   DA0861994   Train                0  ...          0   \n",
       "3                   DA0896719   Train                0  ...          0   \n",
       "5                   DA1567561   Train                0  ...          0   \n",
       "...                       ...     ...              ...  ...        ...   \n",
       "7500                DA0922689    Test                0  ...          0   \n",
       "7501                DA1031095    Test                0  ...          0   \n",
       "7502                DA0633450    Test                0  ...          0   \n",
       "7503                DA0998980    Test                0  ...          0   \n",
       "7504                DA0831126    Test                0  ...          0   \n",
       "\n",
       "      Critical  Imminent Health Hazard  Major  Non-Major  Supercritical  \\\n",
       "0            0                       0      1          0              0   \n",
       "1            0                       0      1          0              0   \n",
       "2            0                       0      1          0              0   \n",
       "3            0                       0      0          1              0   \n",
       "5            0                       0      1          0              0   \n",
       "...        ...                     ...    ...        ...            ...   \n",
       "7500         0                       0      1          0              0   \n",
       "7501         0                       0      0          1              0   \n",
       "7502         0                       0      0          1              0   \n",
       "7503         0                       0      1          0              0   \n",
       "7504         0                       0      1          0              0   \n",
       "\n",
       "      Illogical  Imminent Health Hazard  Major  Non-Major  \n",
       "0             0                       1      0          0  \n",
       "1             0                       0      0          1  \n",
       "2             0                       0      0          1  \n",
       "3             0                       0      0          1  \n",
       "5             0                       0      1          0  \n",
       "...         ...                     ...    ...        ...  \n",
       "7500          0                       0      1          0  \n",
       "7501          0                       0      0          1  \n",
       "7502          0                       0      1          0  \n",
       "7503          0                       0      0          1  \n",
       "7504          0                       0      0          1  \n",
       "\n",
       "[20237 rows x 295 columns]"
      ]
     },
     "execution_count": 708,
     "metadata": {},
     "output_type": "execute_result"
    }
   ],
   "source": [
    "df_no_null"
   ]
  },
  {
   "cell_type": "code",
   "execution_count": 710,
   "metadata": {},
   "outputs": [],
   "source": [
    "test_csv = df_no_null[df_no_null['ds_type']=='Test']"
   ]
  },
  {
   "cell_type": "code",
   "execution_count": 711,
   "metadata": {},
   "outputs": [
    {
     "data": {
      "text/plain": [
       "Test    7494\n",
       "Name: ds_type, dtype: int64"
      ]
     },
     "execution_count": 711,
     "metadata": {},
     "output_type": "execute_result"
    }
   ],
   "source": [
    "test_csv.ds_type.value_counts()"
   ]
  },
  {
   "cell_type": "code",
   "execution_count": 712,
   "metadata": {},
   "outputs": [],
   "source": [
    "test_csv = test_csv.drop(['ds_type'], axis=1) # drop the ds_type column"
   ]
  },
  {
   "cell_type": "code",
   "execution_count": 713,
   "metadata": {},
   "outputs": [
    {
     "data": {
      "text/plain": [
       "0    7494\n",
       "Name: NEXT_INSPECTION_GRADE_C_OR_BELOW, dtype: int64"
      ]
     },
     "execution_count": 713,
     "metadata": {},
     "output_type": "execute_result"
    }
   ],
   "source": [
    "test_csv.NEXT_INSPECTION_GRADE_C_OR_BELOW.value_counts()"
   ]
  },
  {
   "cell_type": "code",
   "execution_count": 714,
   "metadata": {},
   "outputs": [],
   "source": [
    "test_csv = test_csv.drop(['NEXT_INSPECTION_GRADE_C_OR_BELOW'], axis=1) # drop the NEXT_INSPECTION_GRADE_C_OR_BELOW (all zeros)"
   ]
  },
  {
   "cell_type": "code",
   "execution_count": 716,
   "metadata": {},
   "outputs": [],
   "source": [
    "test_csv_serial_number = test_csv['RESTAURANT_SERIAL_NUMBER'] \n",
    "# we keep the serial number of test set"
   ]
  },
  {
   "cell_type": "code",
   "execution_count": 717,
   "metadata": {},
   "outputs": [
    {
     "data": {
      "text/plain": [
       "0       DA1050454\n",
       "1       DA0986444\n",
       "2       DA1284914\n",
       "3       DA1281903\n",
       "4       DA1004708\n",
       "          ...    \n",
       "7500    DA0922689\n",
       "7501    DA1031095\n",
       "7502    DA0633450\n",
       "7503    DA0998980\n",
       "7504    DA0831126\n",
       "Name: RESTAURANT_SERIAL_NUMBER, Length: 7494, dtype: object"
      ]
     },
     "execution_count": 717,
     "metadata": {},
     "output_type": "execute_result"
    }
   ],
   "source": [
    "test_csv_serial_number"
   ]
  },
  {
   "cell_type": "code",
   "execution_count": 718,
   "metadata": {},
   "outputs": [],
   "source": [
    "test_csv = test_csv.drop(['RESTAURANT_SERIAL_NUMBER'], axis=1) \n",
    "# drop the RESTAURANT_SERIAL_NUMBER and test_set_csv file is ready"
   ]
  },
  {
   "cell_type": "code",
   "execution_count": 719,
   "metadata": {},
   "outputs": [
    {
     "data": {
      "text/html": [
       "<div>\n",
       "<style scoped>\n",
       "    .dataframe tbody tr th:only-of-type {\n",
       "        vertical-align: middle;\n",
       "    }\n",
       "\n",
       "    .dataframe tbody tr th {\n",
       "        vertical-align: top;\n",
       "    }\n",
       "\n",
       "    .dataframe thead th {\n",
       "        text-align: right;\n",
       "    }\n",
       "</style>\n",
       "<table border=\"1\" class=\"dataframe\">\n",
       "  <thead>\n",
       "    <tr style=\"text-align: right;\">\n",
       "      <th></th>\n",
       "      <th>CURRENT_DEMERITS</th>\n",
       "      <th>EMPLOYEE_COUNT</th>\n",
       "      <th>INSPECTION_DEMERITS</th>\n",
       "      <th>MEDIAN_EMPLOYEE_AGE</th>\n",
       "      <th>MEDIAN_EMPLOYEE_TENURE</th>\n",
       "      <th>NUMBER_OF_VIOLATIONS</th>\n",
       "      <th>Banquet Kitchen</th>\n",
       "      <th>Banquet Support</th>\n",
       "      <th>Bar / Tavern</th>\n",
       "      <th>Barbeque</th>\n",
       "      <th>...</th>\n",
       "      <th>Non-Major</th>\n",
       "      <th>Critical</th>\n",
       "      <th>Imminent Health Hazard</th>\n",
       "      <th>Major</th>\n",
       "      <th>Non-Major</th>\n",
       "      <th>Supercritical</th>\n",
       "      <th>Illogical</th>\n",
       "      <th>Imminent Health Hazard</th>\n",
       "      <th>Major</th>\n",
       "      <th>Non-Major</th>\n",
       "    </tr>\n",
       "  </thead>\n",
       "  <tbody>\n",
       "    <tr>\n",
       "      <th>0</th>\n",
       "      <td>6.0</td>\n",
       "      <td>3.000000</td>\n",
       "      <td>21</td>\n",
       "      <td>31.141933</td>\n",
       "      <td>3.542119</td>\n",
       "      <td>5</td>\n",
       "      <td>0</td>\n",
       "      <td>0</td>\n",
       "      <td>0</td>\n",
       "      <td>0</td>\n",
       "      <td>...</td>\n",
       "      <td>0</td>\n",
       "      <td>0</td>\n",
       "      <td>0</td>\n",
       "      <td>1</td>\n",
       "      <td>0</td>\n",
       "      <td>0</td>\n",
       "      <td>0</td>\n",
       "      <td>0</td>\n",
       "      <td>1</td>\n",
       "      <td>0</td>\n",
       "    </tr>\n",
       "    <tr>\n",
       "      <th>1</th>\n",
       "      <td>0.0</td>\n",
       "      <td>18.598406</td>\n",
       "      <td>8</td>\n",
       "      <td>26.839893</td>\n",
       "      <td>4.885881</td>\n",
       "      <td>4</td>\n",
       "      <td>0</td>\n",
       "      <td>0</td>\n",
       "      <td>1</td>\n",
       "      <td>0</td>\n",
       "      <td>...</td>\n",
       "      <td>0</td>\n",
       "      <td>0</td>\n",
       "      <td>0</td>\n",
       "      <td>1</td>\n",
       "      <td>0</td>\n",
       "      <td>0</td>\n",
       "      <td>0</td>\n",
       "      <td>0</td>\n",
       "      <td>0</td>\n",
       "      <td>1</td>\n",
       "    </tr>\n",
       "    <tr>\n",
       "      <th>2</th>\n",
       "      <td>8.0</td>\n",
       "      <td>5.730357</td>\n",
       "      <td>15</td>\n",
       "      <td>31.202256</td>\n",
       "      <td>1.883055</td>\n",
       "      <td>6</td>\n",
       "      <td>0</td>\n",
       "      <td>0</td>\n",
       "      <td>1</td>\n",
       "      <td>0</td>\n",
       "      <td>...</td>\n",
       "      <td>0</td>\n",
       "      <td>0</td>\n",
       "      <td>0</td>\n",
       "      <td>1</td>\n",
       "      <td>0</td>\n",
       "      <td>0</td>\n",
       "      <td>0</td>\n",
       "      <td>0</td>\n",
       "      <td>1</td>\n",
       "      <td>0</td>\n",
       "    </tr>\n",
       "    <tr>\n",
       "      <th>3</th>\n",
       "      <td>0.0</td>\n",
       "      <td>15.075238</td>\n",
       "      <td>33</td>\n",
       "      <td>36.656000</td>\n",
       "      <td>6.761476</td>\n",
       "      <td>11</td>\n",
       "      <td>0</td>\n",
       "      <td>0</td>\n",
       "      <td>0</td>\n",
       "      <td>0</td>\n",
       "      <td>...</td>\n",
       "      <td>0</td>\n",
       "      <td>1</td>\n",
       "      <td>0</td>\n",
       "      <td>0</td>\n",
       "      <td>0</td>\n",
       "      <td>0</td>\n",
       "      <td>0</td>\n",
       "      <td>0</td>\n",
       "      <td>0</td>\n",
       "      <td>0</td>\n",
       "    </tr>\n",
       "    <tr>\n",
       "      <th>4</th>\n",
       "      <td>9.0</td>\n",
       "      <td>14.218813</td>\n",
       "      <td>10</td>\n",
       "      <td>21.001225</td>\n",
       "      <td>6.601620</td>\n",
       "      <td>6</td>\n",
       "      <td>0</td>\n",
       "      <td>0</td>\n",
       "      <td>0</td>\n",
       "      <td>0</td>\n",
       "      <td>...</td>\n",
       "      <td>0</td>\n",
       "      <td>0</td>\n",
       "      <td>0</td>\n",
       "      <td>1</td>\n",
       "      <td>0</td>\n",
       "      <td>0</td>\n",
       "      <td>0</td>\n",
       "      <td>0</td>\n",
       "      <td>0</td>\n",
       "      <td>1</td>\n",
       "    </tr>\n",
       "    <tr>\n",
       "      <th>...</th>\n",
       "      <td>...</td>\n",
       "      <td>...</td>\n",
       "      <td>...</td>\n",
       "      <td>...</td>\n",
       "      <td>...</td>\n",
       "      <td>...</td>\n",
       "      <td>...</td>\n",
       "      <td>...</td>\n",
       "      <td>...</td>\n",
       "      <td>...</td>\n",
       "      <td>...</td>\n",
       "      <td>...</td>\n",
       "      <td>...</td>\n",
       "      <td>...</td>\n",
       "      <td>...</td>\n",
       "      <td>...</td>\n",
       "      <td>...</td>\n",
       "      <td>...</td>\n",
       "      <td>...</td>\n",
       "      <td>...</td>\n",
       "      <td>...</td>\n",
       "    </tr>\n",
       "    <tr>\n",
       "      <th>7500</th>\n",
       "      <td>0.0</td>\n",
       "      <td>15.230494</td>\n",
       "      <td>20</td>\n",
       "      <td>33.780673</td>\n",
       "      <td>4.008016</td>\n",
       "      <td>6</td>\n",
       "      <td>0</td>\n",
       "      <td>0</td>\n",
       "      <td>0</td>\n",
       "      <td>0</td>\n",
       "      <td>...</td>\n",
       "      <td>0</td>\n",
       "      <td>0</td>\n",
       "      <td>0</td>\n",
       "      <td>1</td>\n",
       "      <td>0</td>\n",
       "      <td>0</td>\n",
       "      <td>0</td>\n",
       "      <td>0</td>\n",
       "      <td>1</td>\n",
       "      <td>0</td>\n",
       "    </tr>\n",
       "    <tr>\n",
       "      <th>7501</th>\n",
       "      <td>6.0</td>\n",
       "      <td>25.409139</td>\n",
       "      <td>5</td>\n",
       "      <td>31.688779</td>\n",
       "      <td>3.453527</td>\n",
       "      <td>3</td>\n",
       "      <td>0</td>\n",
       "      <td>0</td>\n",
       "      <td>0</td>\n",
       "      <td>0</td>\n",
       "      <td>...</td>\n",
       "      <td>0</td>\n",
       "      <td>0</td>\n",
       "      <td>0</td>\n",
       "      <td>0</td>\n",
       "      <td>1</td>\n",
       "      <td>0</td>\n",
       "      <td>0</td>\n",
       "      <td>0</td>\n",
       "      <td>0</td>\n",
       "      <td>1</td>\n",
       "    </tr>\n",
       "    <tr>\n",
       "      <th>7502</th>\n",
       "      <td>8.0</td>\n",
       "      <td>16.694861</td>\n",
       "      <td>13</td>\n",
       "      <td>26.272563</td>\n",
       "      <td>3.070719</td>\n",
       "      <td>3</td>\n",
       "      <td>0</td>\n",
       "      <td>0</td>\n",
       "      <td>0</td>\n",
       "      <td>0</td>\n",
       "      <td>...</td>\n",
       "      <td>0</td>\n",
       "      <td>0</td>\n",
       "      <td>0</td>\n",
       "      <td>0</td>\n",
       "      <td>1</td>\n",
       "      <td>0</td>\n",
       "      <td>0</td>\n",
       "      <td>0</td>\n",
       "      <td>1</td>\n",
       "      <td>0</td>\n",
       "    </tr>\n",
       "    <tr>\n",
       "      <th>7503</th>\n",
       "      <td>3.0</td>\n",
       "      <td>25.367641</td>\n",
       "      <td>8</td>\n",
       "      <td>19.612605</td>\n",
       "      <td>6.637496</td>\n",
       "      <td>4</td>\n",
       "      <td>0</td>\n",
       "      <td>0</td>\n",
       "      <td>1</td>\n",
       "      <td>0</td>\n",
       "      <td>...</td>\n",
       "      <td>0</td>\n",
       "      <td>0</td>\n",
       "      <td>0</td>\n",
       "      <td>1</td>\n",
       "      <td>0</td>\n",
       "      <td>0</td>\n",
       "      <td>0</td>\n",
       "      <td>0</td>\n",
       "      <td>0</td>\n",
       "      <td>1</td>\n",
       "    </tr>\n",
       "    <tr>\n",
       "      <th>7504</th>\n",
       "      <td>9.0</td>\n",
       "      <td>11.466460</td>\n",
       "      <td>15</td>\n",
       "      <td>26.525109</td>\n",
       "      <td>6.044159</td>\n",
       "      <td>5</td>\n",
       "      <td>0</td>\n",
       "      <td>0</td>\n",
       "      <td>0</td>\n",
       "      <td>0</td>\n",
       "      <td>...</td>\n",
       "      <td>0</td>\n",
       "      <td>0</td>\n",
       "      <td>0</td>\n",
       "      <td>1</td>\n",
       "      <td>0</td>\n",
       "      <td>0</td>\n",
       "      <td>0</td>\n",
       "      <td>0</td>\n",
       "      <td>0</td>\n",
       "      <td>1</td>\n",
       "    </tr>\n",
       "  </tbody>\n",
       "</table>\n",
       "<p>7494 rows × 292 columns</p>\n",
       "</div>"
      ],
      "text/plain": [
       "      CURRENT_DEMERITS  EMPLOYEE_COUNT INSPECTION_DEMERITS  \\\n",
       "0                  6.0        3.000000                  21   \n",
       "1                  0.0       18.598406                   8   \n",
       "2                  8.0        5.730357                  15   \n",
       "3                  0.0       15.075238                  33   \n",
       "4                  9.0       14.218813                  10   \n",
       "...                ...             ...                 ...   \n",
       "7500               0.0       15.230494                  20   \n",
       "7501               6.0       25.409139                   5   \n",
       "7502               8.0       16.694861                  13   \n",
       "7503               3.0       25.367641                   8   \n",
       "7504               9.0       11.466460                  15   \n",
       "\n",
       "      MEDIAN_EMPLOYEE_AGE  MEDIAN_EMPLOYEE_TENURE NUMBER_OF_VIOLATIONS  \\\n",
       "0               31.141933                3.542119                    5   \n",
       "1               26.839893                4.885881                    4   \n",
       "2               31.202256                1.883055                    6   \n",
       "3               36.656000                6.761476                   11   \n",
       "4               21.001225                6.601620                    6   \n",
       "...                   ...                     ...                  ...   \n",
       "7500            33.780673                4.008016                    6   \n",
       "7501            31.688779                3.453527                    3   \n",
       "7502            26.272563                3.070719                    3   \n",
       "7503            19.612605                6.637496                    4   \n",
       "7504            26.525109                6.044159                    5   \n",
       "\n",
       "      Banquet Kitchen  Banquet Support  Bar / Tavern  Barbeque  ...  \\\n",
       "0                   0                0             0         0  ...   \n",
       "1                   0                0             1         0  ...   \n",
       "2                   0                0             1         0  ...   \n",
       "3                   0                0             0         0  ...   \n",
       "4                   0                0             0         0  ...   \n",
       "...               ...              ...           ...       ...  ...   \n",
       "7500                0                0             0         0  ...   \n",
       "7501                0                0             0         0  ...   \n",
       "7502                0                0             0         0  ...   \n",
       "7503                0                0             1         0  ...   \n",
       "7504                0                0             0         0  ...   \n",
       "\n",
       "      Non-Major  Critical  Imminent Health Hazard  Major  Non-Major  \\\n",
       "0             0         0                       0      1          0   \n",
       "1             0         0                       0      1          0   \n",
       "2             0         0                       0      1          0   \n",
       "3             0         1                       0      0          0   \n",
       "4             0         0                       0      1          0   \n",
       "...         ...       ...                     ...    ...        ...   \n",
       "7500          0         0                       0      1          0   \n",
       "7501          0         0                       0      0          1   \n",
       "7502          0         0                       0      0          1   \n",
       "7503          0         0                       0      1          0   \n",
       "7504          0         0                       0      1          0   \n",
       "\n",
       "      Supercritical  Illogical  Imminent Health Hazard  Major  Non-Major  \n",
       "0                 0          0                       0      1          0  \n",
       "1                 0          0                       0      0          1  \n",
       "2                 0          0                       0      1          0  \n",
       "3                 0          0                       0      0          0  \n",
       "4                 0          0                       0      0          1  \n",
       "...             ...        ...                     ...    ...        ...  \n",
       "7500              0          0                       0      1          0  \n",
       "7501              0          0                       0      0          1  \n",
       "7502              0          0                       0      1          0  \n",
       "7503              0          0                       0      0          1  \n",
       "7504              0          0                       0      0          1  \n",
       "\n",
       "[7494 rows x 292 columns]"
      ]
     },
     "execution_count": 719,
     "metadata": {},
     "output_type": "execute_result"
    }
   ],
   "source": [
    "test_csv"
   ]
  },
  {
   "cell_type": "markdown",
   "metadata": {},
   "source": [
    "# Our SVM is selected and run with probability=True"
   ]
  },
  {
   "cell_type": "code",
   "execution_count": 732,
   "metadata": {},
   "outputs": [
    {
     "name": "stderr",
     "output_type": "stream",
     "text": [
      "D:\\Program Files\\Anaconda3\\envs\\pytorchenv\\lib\\site-packages\\sklearn\\utils\\validation.py:1692: FutureWarning: Feature names only support names that are all strings. Got feature names with dtypes: ['float', 'str']. An error will be raised in 1.2.\n",
      "  FutureWarning,\n"
     ]
    },
    {
     "data": {
      "text/plain": [
       "SVC(probability=True)"
      ]
     },
     "execution_count": 732,
     "metadata": {},
     "output_type": "execute_result"
    }
   ],
   "source": [
    "svc_model2 = SVC(probability=True)\n",
    "svc_model2.fit(X_train,y_train)"
   ]
  },
  {
   "cell_type": "code",
   "execution_count": 733,
   "metadata": {},
   "outputs": [
    {
     "name": "stderr",
     "output_type": "stream",
     "text": [
      "D:\\Program Files\\Anaconda3\\envs\\pytorchenv\\lib\\site-packages\\sklearn\\utils\\validation.py:1692: FutureWarning: Feature names only support names that are all strings. Got feature names with dtypes: ['float', 'str']. An error will be raised in 1.2.\n",
      "  FutureWarning,\n"
     ]
    },
    {
     "data": {
      "text/plain": [
       "array(['0', '0', '0', ..., '0', '0', '0'], dtype=object)"
      ]
     },
     "execution_count": 733,
     "metadata": {},
     "output_type": "execute_result"
    }
   ],
   "source": [
    "pred_svm_test_csv2 = svc_model.predict(test_csv)\n",
    "pred_svm_test_csv2"
   ]
  },
  {
   "cell_type": "code",
   "execution_count": 734,
   "metadata": {},
   "outputs": [],
   "source": [
    "result_ = pd.DataFrame(pred_svm_test_csv2)"
   ]
  },
  {
   "cell_type": "code",
   "execution_count": 735,
   "metadata": {},
   "outputs": [
    {
     "data": {
      "text/plain": [
       "0    7494\n",
       "dtype: int64"
      ]
     },
     "execution_count": 735,
     "metadata": {},
     "output_type": "execute_result"
    }
   ],
   "source": [
    "result_.value_counts()"
   ]
  },
  {
   "cell_type": "code",
   "execution_count": 736,
   "metadata": {},
   "outputs": [
    {
     "name": "stderr",
     "output_type": "stream",
     "text": [
      "D:\\Program Files\\Anaconda3\\envs\\pytorchenv\\lib\\site-packages\\sklearn\\utils\\validation.py:1692: FutureWarning: Feature names only support names that are all strings. Got feature names with dtypes: ['float', 'str']. An error will be raised in 1.2.\n",
      "  FutureWarning,\n"
     ]
    }
   ],
   "source": [
    "prob = svc_model2.predict_proba(test_csv)"
   ]
  },
  {
   "cell_type": "code",
   "execution_count": 737,
   "metadata": {},
   "outputs": [
    {
     "data": {
      "text/plain": [
       "array([[0.84027431, 0.15972569],\n",
       "       [0.83952473, 0.16047527],\n",
       "       [0.83925193, 0.16074807],\n",
       "       ...,\n",
       "       [0.8393858 , 0.1606142 ],\n",
       "       [0.83915815, 0.16084185],\n",
       "       [0.83888043, 0.16111957]])"
      ]
     },
     "execution_count": 737,
     "metadata": {},
     "output_type": "execute_result"
    }
   ],
   "source": [
    "prob"
   ]
  },
  {
   "cell_type": "code",
   "execution_count": 743,
   "metadata": {},
   "outputs": [
    {
     "data": {
      "text/plain": [
       "array([0.84027431, 0.83952473, 0.83925193, ..., 0.8393858 , 0.83915815,\n",
       "       0.83888043])"
      ]
     },
     "execution_count": 743,
     "metadata": {},
     "output_type": "execute_result"
    }
   ],
   "source": [
    "prob[:, 0] # we use just first column"
   ]
  },
  {
   "cell_type": "code",
   "execution_count": 739,
   "metadata": {},
   "outputs": [],
   "source": [
    "results = pd.DataFrame()"
   ]
  },
  {
   "cell_type": "code",
   "execution_count": 740,
   "metadata": {},
   "outputs": [],
   "source": [
    "results[\"RESTAURANT_SERIAL_NUMBER\"] = test_csv_serial_number"
   ]
  },
  {
   "cell_type": "code",
   "execution_count": 744,
   "metadata": {},
   "outputs": [],
   "source": [
    "results[\"CLASSIFIER_PROBABILITY\"] = prob[:, 0]"
   ]
  },
  {
   "cell_type": "code",
   "execution_count": 745,
   "metadata": {},
   "outputs": [],
   "source": [
    "results[\"CLASSIFIER_PREDICTION\"] = pred_svm_test_csv2"
   ]
  },
  {
   "cell_type": "code",
   "execution_count": 747,
   "metadata": {},
   "outputs": [
    {
     "data": {
      "text/html": [
       "<div>\n",
       "<style scoped>\n",
       "    .dataframe tbody tr th:only-of-type {\n",
       "        vertical-align: middle;\n",
       "    }\n",
       "\n",
       "    .dataframe tbody tr th {\n",
       "        vertical-align: top;\n",
       "    }\n",
       "\n",
       "    .dataframe thead th {\n",
       "        text-align: right;\n",
       "    }\n",
       "</style>\n",
       "<table border=\"1\" class=\"dataframe\">\n",
       "  <thead>\n",
       "    <tr style=\"text-align: right;\">\n",
       "      <th></th>\n",
       "      <th>RESTAURANT_SERIAL_NUMBER</th>\n",
       "      <th>CLASSIFIER_PROBABILITY</th>\n",
       "      <th>CLASSIFIER_PREDICTION</th>\n",
       "    </tr>\n",
       "  </thead>\n",
       "  <tbody>\n",
       "    <tr>\n",
       "      <th>0</th>\n",
       "      <td>DA1050454</td>\n",
       "      <td>0.840274</td>\n",
       "      <td>0</td>\n",
       "    </tr>\n",
       "    <tr>\n",
       "      <th>1</th>\n",
       "      <td>DA0986444</td>\n",
       "      <td>0.839525</td>\n",
       "      <td>0</td>\n",
       "    </tr>\n",
       "    <tr>\n",
       "      <th>2</th>\n",
       "      <td>DA1284914</td>\n",
       "      <td>0.839252</td>\n",
       "      <td>0</td>\n",
       "    </tr>\n",
       "    <tr>\n",
       "      <th>3</th>\n",
       "      <td>DA1281903</td>\n",
       "      <td>0.837635</td>\n",
       "      <td>0</td>\n",
       "    </tr>\n",
       "    <tr>\n",
       "      <th>4</th>\n",
       "      <td>DA1004708</td>\n",
       "      <td>0.839454</td>\n",
       "      <td>0</td>\n",
       "    </tr>\n",
       "  </tbody>\n",
       "</table>\n",
       "</div>"
      ],
      "text/plain": [
       "  RESTAURANT_SERIAL_NUMBER  CLASSIFIER_PROBABILITY CLASSIFIER_PREDICTION\n",
       "0                DA1050454                0.840274                     0\n",
       "1                DA0986444                0.839525                     0\n",
       "2                DA1284914                0.839252                     0\n",
       "3                DA1281903                0.837635                     0\n",
       "4                DA1004708                0.839454                     0"
      ]
     },
     "execution_count": 747,
     "metadata": {},
     "output_type": "execute_result"
    }
   ],
   "source": [
    "results.head()"
   ]
  },
  {
   "cell_type": "code",
   "execution_count": 2,
   "metadata": {},
   "outputs": [],
   "source": [
    "results.to_csv('predictions_Yildizhan_Aytekin.csv', sep = ',',index = False) # "
   ]
  },
  {
   "cell_type": "code",
   "execution_count": 74,
   "metadata": {},
   "outputs": [
    {
     "name": "stderr",
     "output_type": "stream",
     "text": [
      "[NbConvertApp] Converting notebook Nationwide.ipynb to html\n",
      "[NbConvertApp] Writing 989911 bytes to Nationwide.html\n"
     ]
    }
   ],
   "source": [
    "!jupyter nbconvert --to html Nationwide.ipynb"
   ]
  },
  {
   "cell_type": "code",
   "execution_count": null,
   "metadata": {},
   "outputs": [],
   "source": []
  }
 ],
 "metadata": {
  "kernelspec": {
   "display_name": "Python 3 (ipykernel)",
   "language": "python",
   "name": "python3"
  },
  "language_info": {
   "codemirror_mode": {
    "name": "ipython",
    "version": 3
   },
   "file_extension": ".py",
   "mimetype": "text/x-python",
   "name": "python",
   "nbconvert_exporter": "python",
   "pygments_lexer": "ipython3",
   "version": "3.7.3"
  }
 },
 "nbformat": 4,
 "nbformat_minor": 1
}
